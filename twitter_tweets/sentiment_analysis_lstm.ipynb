{
 "cells": [
  {
   "cell_type": "markdown",
   "id": "8f1cfaab",
   "metadata": {},
   "source": [
    "# Importing the required libraries"
   ]
  },
  {
   "cell_type": "code",
   "execution_count": 1,
   "id": "1986b9d2",
   "metadata": {},
   "outputs": [],
   "source": [
    "import time\n",
    "import pickle\n",
    "\n",
    "# For loading data and data manipulation\n",
    "import numpy as np\n",
    "import pandas as pd\n",
    "import matplotlib.pyplot as plt\n",
    "plt.style.use('fivethirtyeight')\n",
    "\n",
    "# For cleaning the text\n",
    "from nltk.corpus import stopwords\n",
    "from nltk import RegexpTokenizer\n",
    "from nltk.stem import WordNetLemmatizer\n",
    "\n",
    "# For data preprocessing\n",
    "from sklearn.preprocessing import LabelEncoder\n",
    "from sklearn.model_selection import train_test_split\n",
    "\n",
    "# For preprocessing and modelling\n",
    "import tensorflow as tf"
   ]
  },
  {
   "cell_type": "markdown",
   "id": "f732c9f3",
   "metadata": {},
   "source": [
    "# Loading the data"
   ]
  },
  {
   "cell_type": "code",
   "execution_count": 2,
   "id": "82bf740b",
   "metadata": {},
   "outputs": [
    {
     "data": {
      "text/html": [
       "<div>\n",
       "<style scoped>\n",
       "    .dataframe tbody tr th:only-of-type {\n",
       "        vertical-align: middle;\n",
       "    }\n",
       "\n",
       "    .dataframe tbody tr th {\n",
       "        vertical-align: top;\n",
       "    }\n",
       "\n",
       "    .dataframe thead th {\n",
       "        text-align: right;\n",
       "    }\n",
       "</style>\n",
       "<table border=\"1\" class=\"dataframe\">\n",
       "  <thead>\n",
       "    <tr style=\"text-align: right;\">\n",
       "      <th></th>\n",
       "      <th>target</th>\n",
       "      <th>ids</th>\n",
       "      <th>date</th>\n",
       "      <th>flag</th>\n",
       "      <th>user</th>\n",
       "      <th>tweet</th>\n",
       "    </tr>\n",
       "  </thead>\n",
       "  <tbody>\n",
       "    <tr>\n",
       "      <th>0</th>\n",
       "      <td>0</td>\n",
       "      <td>1467810369</td>\n",
       "      <td>Mon Apr 06 22:19:45 PDT 2009</td>\n",
       "      <td>NO_QUERY</td>\n",
       "      <td>_TheSpecialOne_</td>\n",
       "      <td>@switchfoot http://twitpic.com/2y1zl - Awww, t...</td>\n",
       "    </tr>\n",
       "    <tr>\n",
       "      <th>1</th>\n",
       "      <td>0</td>\n",
       "      <td>1467810672</td>\n",
       "      <td>Mon Apr 06 22:19:49 PDT 2009</td>\n",
       "      <td>NO_QUERY</td>\n",
       "      <td>scotthamilton</td>\n",
       "      <td>is upset that he can't update his Facebook by ...</td>\n",
       "    </tr>\n",
       "    <tr>\n",
       "      <th>2</th>\n",
       "      <td>0</td>\n",
       "      <td>1467810917</td>\n",
       "      <td>Mon Apr 06 22:19:53 PDT 2009</td>\n",
       "      <td>NO_QUERY</td>\n",
       "      <td>mattycus</td>\n",
       "      <td>@Kenichan I dived many times for the ball. Man...</td>\n",
       "    </tr>\n",
       "    <tr>\n",
       "      <th>3</th>\n",
       "      <td>0</td>\n",
       "      <td>1467811184</td>\n",
       "      <td>Mon Apr 06 22:19:57 PDT 2009</td>\n",
       "      <td>NO_QUERY</td>\n",
       "      <td>ElleCTF</td>\n",
       "      <td>my whole body feels itchy and like its on fire</td>\n",
       "    </tr>\n",
       "    <tr>\n",
       "      <th>4</th>\n",
       "      <td>0</td>\n",
       "      <td>1467811193</td>\n",
       "      <td>Mon Apr 06 22:19:57 PDT 2009</td>\n",
       "      <td>NO_QUERY</td>\n",
       "      <td>Karoli</td>\n",
       "      <td>@nationwideclass no, it's not behaving at all....</td>\n",
       "    </tr>\n",
       "  </tbody>\n",
       "</table>\n",
       "</div>"
      ],
      "text/plain": [
       "   target         ids                          date      flag  \\\n",
       "0       0  1467810369  Mon Apr 06 22:19:45 PDT 2009  NO_QUERY   \n",
       "1       0  1467810672  Mon Apr 06 22:19:49 PDT 2009  NO_QUERY   \n",
       "2       0  1467810917  Mon Apr 06 22:19:53 PDT 2009  NO_QUERY   \n",
       "3       0  1467811184  Mon Apr 06 22:19:57 PDT 2009  NO_QUERY   \n",
       "4       0  1467811193  Mon Apr 06 22:19:57 PDT 2009  NO_QUERY   \n",
       "\n",
       "              user                                              tweet  \n",
       "0  _TheSpecialOne_  @switchfoot http://twitpic.com/2y1zl - Awww, t...  \n",
       "1    scotthamilton  is upset that he can't update his Facebook by ...  \n",
       "2         mattycus  @Kenichan I dived many times for the ball. Man...  \n",
       "3          ElleCTF    my whole body feels itchy and like its on fire   \n",
       "4           Karoli  @nationwideclass no, it's not behaving at all....  "
      ]
     },
     "execution_count": 2,
     "metadata": {},
     "output_type": "execute_result"
    }
   ],
   "source": [
    "df = pd.read_csv(\"twitter_tweets.csv\", encoding=\"ISO-8859-1\", names=[\"target\", \"ids\", \"date\", \"flag\", \"user\", \"tweet\"])\n",
    "df.head()"
   ]
  },
  {
   "cell_type": "markdown",
   "id": "9150eae2",
   "metadata": {},
   "source": [
    "# Taking the required columns"
   ]
  },
  {
   "cell_type": "code",
   "execution_count": 3,
   "id": "75e38c51",
   "metadata": {},
   "outputs": [
    {
     "data": {
      "text/html": [
       "<div>\n",
       "<style scoped>\n",
       "    .dataframe tbody tr th:only-of-type {\n",
       "        vertical-align: middle;\n",
       "    }\n",
       "\n",
       "    .dataframe tbody tr th {\n",
       "        vertical-align: top;\n",
       "    }\n",
       "\n",
       "    .dataframe thead th {\n",
       "        text-align: right;\n",
       "    }\n",
       "</style>\n",
       "<table border=\"1\" class=\"dataframe\">\n",
       "  <thead>\n",
       "    <tr style=\"text-align: right;\">\n",
       "      <th></th>\n",
       "      <th>tweet</th>\n",
       "      <th>target</th>\n",
       "    </tr>\n",
       "  </thead>\n",
       "  <tbody>\n",
       "    <tr>\n",
       "      <th>0</th>\n",
       "      <td>@switchfoot http://twitpic.com/2y1zl - Awww, t...</td>\n",
       "      <td>0</td>\n",
       "    </tr>\n",
       "    <tr>\n",
       "      <th>1</th>\n",
       "      <td>is upset that he can't update his Facebook by ...</td>\n",
       "      <td>0</td>\n",
       "    </tr>\n",
       "    <tr>\n",
       "      <th>2</th>\n",
       "      <td>@Kenichan I dived many times for the ball. Man...</td>\n",
       "      <td>0</td>\n",
       "    </tr>\n",
       "    <tr>\n",
       "      <th>3</th>\n",
       "      <td>my whole body feels itchy and like its on fire</td>\n",
       "      <td>0</td>\n",
       "    </tr>\n",
       "    <tr>\n",
       "      <th>4</th>\n",
       "      <td>@nationwideclass no, it's not behaving at all....</td>\n",
       "      <td>0</td>\n",
       "    </tr>\n",
       "  </tbody>\n",
       "</table>\n",
       "</div>"
      ],
      "text/plain": [
       "                                               tweet  target\n",
       "0  @switchfoot http://twitpic.com/2y1zl - Awww, t...       0\n",
       "1  is upset that he can't update his Facebook by ...       0\n",
       "2  @Kenichan I dived many times for the ball. Man...       0\n",
       "3    my whole body feels itchy and like its on fire        0\n",
       "4  @nationwideclass no, it's not behaving at all....       0"
      ]
     },
     "execution_count": 3,
     "metadata": {},
     "output_type": "execute_result"
    }
   ],
   "source": [
    "required_columns = [\"tweet\", \"target\"]\n",
    "df = df[required_columns]\n",
    "df.head()"
   ]
  },
  {
   "cell_type": "markdown",
   "id": "f514eb2e",
   "metadata": {},
   "source": [
    "# Getting one with the data"
   ]
  },
  {
   "cell_type": "code",
   "execution_count": 4,
   "id": "093a8bb1",
   "metadata": {},
   "outputs": [
    {
     "name": "stdout",
     "output_type": "stream",
     "text": [
      "<class 'pandas.core.frame.DataFrame'>\n",
      "RangeIndex: 1600000 entries, 0 to 1599999\n",
      "Data columns (total 2 columns):\n",
      " #   Column  Non-Null Count    Dtype \n",
      "---  ------  --------------    ----- \n",
      " 0   tweet   1600000 non-null  object\n",
      " 1   target  1600000 non-null  int64 \n",
      "dtypes: int64(1), object(1)\n",
      "memory usage: 24.4+ MB\n"
     ]
    }
   ],
   "source": [
    "df.info()"
   ]
  },
  {
   "cell_type": "code",
   "execution_count": 5,
   "id": "50665724",
   "metadata": {},
   "outputs": [
    {
     "data": {
      "text/html": [
       "<div>\n",
       "<style scoped>\n",
       "    .dataframe tbody tr th:only-of-type {\n",
       "        vertical-align: middle;\n",
       "    }\n",
       "\n",
       "    .dataframe tbody tr th {\n",
       "        vertical-align: top;\n",
       "    }\n",
       "\n",
       "    .dataframe thead th {\n",
       "        text-align: right;\n",
       "    }\n",
       "</style>\n",
       "<table border=\"1\" class=\"dataframe\">\n",
       "  <thead>\n",
       "    <tr style=\"text-align: right;\">\n",
       "      <th></th>\n",
       "      <th>target</th>\n",
       "    </tr>\n",
       "  </thead>\n",
       "  <tbody>\n",
       "    <tr>\n",
       "      <th>count</th>\n",
       "      <td>1.600000e+06</td>\n",
       "    </tr>\n",
       "    <tr>\n",
       "      <th>mean</th>\n",
       "      <td>2.000000e+00</td>\n",
       "    </tr>\n",
       "    <tr>\n",
       "      <th>std</th>\n",
       "      <td>2.000001e+00</td>\n",
       "    </tr>\n",
       "    <tr>\n",
       "      <th>min</th>\n",
       "      <td>0.000000e+00</td>\n",
       "    </tr>\n",
       "    <tr>\n",
       "      <th>25%</th>\n",
       "      <td>0.000000e+00</td>\n",
       "    </tr>\n",
       "    <tr>\n",
       "      <th>50%</th>\n",
       "      <td>2.000000e+00</td>\n",
       "    </tr>\n",
       "    <tr>\n",
       "      <th>75%</th>\n",
       "      <td>4.000000e+00</td>\n",
       "    </tr>\n",
       "    <tr>\n",
       "      <th>max</th>\n",
       "      <td>4.000000e+00</td>\n",
       "    </tr>\n",
       "  </tbody>\n",
       "</table>\n",
       "</div>"
      ],
      "text/plain": [
       "             target\n",
       "count  1.600000e+06\n",
       "mean   2.000000e+00\n",
       "std    2.000001e+00\n",
       "min    0.000000e+00\n",
       "25%    0.000000e+00\n",
       "50%    2.000000e+00\n",
       "75%    4.000000e+00\n",
       "max    4.000000e+00"
      ]
     },
     "execution_count": 5,
     "metadata": {},
     "output_type": "execute_result"
    }
   ],
   "source": [
    "df.describe()"
   ]
  },
  {
   "cell_type": "code",
   "execution_count": 6,
   "id": "66d25bb9",
   "metadata": {},
   "outputs": [
    {
     "data": {
      "text/plain": [
       "(1600000, 2)"
      ]
     },
     "execution_count": 6,
     "metadata": {},
     "output_type": "execute_result"
    }
   ],
   "source": [
    "df.shape"
   ]
  },
  {
   "cell_type": "markdown",
   "id": "34ce8689",
   "metadata": {},
   "source": [
    "# Rename the target values from 0, 4 to negative, positive"
   ]
  },
  {
   "cell_type": "code",
   "execution_count": 7,
   "id": "ae8cc90c",
   "metadata": {},
   "outputs": [
    {
     "data": {
      "text/html": [
       "<div>\n",
       "<style scoped>\n",
       "    .dataframe tbody tr th:only-of-type {\n",
       "        vertical-align: middle;\n",
       "    }\n",
       "\n",
       "    .dataframe tbody tr th {\n",
       "        vertical-align: top;\n",
       "    }\n",
       "\n",
       "    .dataframe thead th {\n",
       "        text-align: right;\n",
       "    }\n",
       "</style>\n",
       "<table border=\"1\" class=\"dataframe\">\n",
       "  <thead>\n",
       "    <tr style=\"text-align: right;\">\n",
       "      <th></th>\n",
       "      <th>tweet</th>\n",
       "      <th>target</th>\n",
       "    </tr>\n",
       "  </thead>\n",
       "  <tbody>\n",
       "    <tr>\n",
       "      <th>0</th>\n",
       "      <td>@switchfoot http://twitpic.com/2y1zl - Awww, t...</td>\n",
       "      <td>negative</td>\n",
       "    </tr>\n",
       "    <tr>\n",
       "      <th>1</th>\n",
       "      <td>is upset that he can't update his Facebook by ...</td>\n",
       "      <td>negative</td>\n",
       "    </tr>\n",
       "    <tr>\n",
       "      <th>2</th>\n",
       "      <td>@Kenichan I dived many times for the ball. Man...</td>\n",
       "      <td>negative</td>\n",
       "    </tr>\n",
       "    <tr>\n",
       "      <th>3</th>\n",
       "      <td>my whole body feels itchy and like its on fire</td>\n",
       "      <td>negative</td>\n",
       "    </tr>\n",
       "    <tr>\n",
       "      <th>4</th>\n",
       "      <td>@nationwideclass no, it's not behaving at all....</td>\n",
       "      <td>negative</td>\n",
       "    </tr>\n",
       "  </tbody>\n",
       "</table>\n",
       "</div>"
      ],
      "text/plain": [
       "                                               tweet    target\n",
       "0  @switchfoot http://twitpic.com/2y1zl - Awww, t...  negative\n",
       "1  is upset that he can't update his Facebook by ...  negative\n",
       "2  @Kenichan I dived many times for the ball. Man...  negative\n",
       "3    my whole body feels itchy and like its on fire   negative\n",
       "4  @nationwideclass no, it's not behaving at all....  negative"
      ]
     },
     "execution_count": 7,
     "metadata": {},
     "output_type": "execute_result"
    }
   ],
   "source": [
    "df['target'] = df['target'].replace([0, 4], ['negative', 'positive'])\n",
    "df.head()"
   ]
  },
  {
   "cell_type": "markdown",
   "id": "4444fd7a",
   "metadata": {},
   "source": [
    "# Plot the graph to count the positive and negative sentiment tweets"
   ]
  },
  {
   "cell_type": "code",
   "execution_count": 8,
   "id": "01b65a34",
   "metadata": {},
   "outputs": [
    {
     "data": {
      "image/png": "[encoded data removed]",
      "text/plain": [
       "<Figure size 864x504 with 1 Axes>"
      ]
     },
     "metadata": {},
     "output_type": "display_data"
    }
   ],
   "source": [
    "plt.figure(figsize=(12, 7))\n",
    "plt.bar(df['target'].value_counts().index, df['target'].value_counts().values)\n",
    "plt.title('Total number of positive and negative tweets')\n",
    "plt.xlabel('Sentiment')\n",
    "plt.ylabel('No of records')\n",
    "plt.show()"
   ]
  },
  {
   "cell_type": "markdown",
   "id": "86e9e574",
   "metadata": {},
   "source": [
    "# Check for the null records and remove them"
   ]
  },
  {
   "cell_type": "code",
   "execution_count": 9,
   "id": "a284df06",
   "metadata": {},
   "outputs": [
    {
     "data": {
      "text/plain": [
       "tweet     0\n",
       "target    0\n",
       "dtype: int64"
      ]
     },
     "execution_count": 9,
     "metadata": {},
     "output_type": "execute_result"
    }
   ],
   "source": [
    "df.isnull().sum()"
   ]
  },
  {
   "cell_type": "markdown",
   "id": "4cefe02a",
   "metadata": {},
   "source": [
    "# Check for the duplicate records and remove them"
   ]
  },
  {
   "cell_type": "code",
   "execution_count": 10,
   "id": "8de2ef39",
   "metadata": {},
   "outputs": [
    {
     "data": {
      "text/html": [
       "<div>\n",
       "<style scoped>\n",
       "    .dataframe tbody tr th:only-of-type {\n",
       "        vertical-align: middle;\n",
       "    }\n",
       "\n",
       "    .dataframe tbody tr th {\n",
       "        vertical-align: top;\n",
       "    }\n",
       "\n",
       "    .dataframe thead th {\n",
       "        text-align: right;\n",
       "    }\n",
       "</style>\n",
       "<table border=\"1\" class=\"dataframe\">\n",
       "  <thead>\n",
       "    <tr style=\"text-align: right;\">\n",
       "      <th></th>\n",
       "      <th>tweet</th>\n",
       "      <th>target</th>\n",
       "    </tr>\n",
       "  </thead>\n",
       "  <tbody>\n",
       "    <tr>\n",
       "      <th>1940</th>\n",
       "      <td>and so the editing of 3000 wedding shots begins</td>\n",
       "      <td>negative</td>\n",
       "    </tr>\n",
       "    <tr>\n",
       "      <th>2149</th>\n",
       "      <td>im lonely  keep me company! 22 female, california</td>\n",
       "      <td>negative</td>\n",
       "    </tr>\n",
       "    <tr>\n",
       "      <th>3743</th>\n",
       "      <td>I'm not liking that new iTunes Pricing at all....</td>\n",
       "      <td>negative</td>\n",
       "    </tr>\n",
       "    <tr>\n",
       "      <th>3746</th>\n",
       "      <td>cant eat, drink or breath properly thanks to t...</td>\n",
       "      <td>negative</td>\n",
       "    </tr>\n",
       "    <tr>\n",
       "      <th>4163</th>\n",
       "      <td>has a cold</td>\n",
       "      <td>negative</td>\n",
       "    </tr>\n",
       "    <tr>\n",
       "      <th>...</th>\n",
       "      <td>...</td>\n",
       "      <td>...</td>\n",
       "    </tr>\n",
       "    <tr>\n",
       "      <th>1599450</th>\n",
       "      <td>Good morning!</td>\n",
       "      <td>positive</td>\n",
       "    </tr>\n",
       "    <tr>\n",
       "      <th>1599501</th>\n",
       "      <td>getting used to twitter</td>\n",
       "      <td>positive</td>\n",
       "    </tr>\n",
       "    <tr>\n",
       "      <th>1599531</th>\n",
       "      <td>@KhloeKardashian Definitely my Mom. And Angeli...</td>\n",
       "      <td>positive</td>\n",
       "    </tr>\n",
       "    <tr>\n",
       "      <th>1599678</th>\n",
       "      <td>goodmorning</td>\n",
       "      <td>positive</td>\n",
       "    </tr>\n",
       "    <tr>\n",
       "      <th>1599768</th>\n",
       "      <td>Good morning everyone.</td>\n",
       "      <td>positive</td>\n",
       "    </tr>\n",
       "  </tbody>\n",
       "</table>\n",
       "<p>16309 rows × 2 columns</p>\n",
       "</div>"
      ],
      "text/plain": [
       "                                                     tweet    target\n",
       "1940      and so the editing of 3000 wedding shots begins   negative\n",
       "2149     im lonely  keep me company! 22 female, california  negative\n",
       "3743     I'm not liking that new iTunes Pricing at all....  negative\n",
       "3746     cant eat, drink or breath properly thanks to t...  negative\n",
       "4163                                           has a cold   negative\n",
       "...                                                    ...       ...\n",
       "1599450                                     Good morning!   positive\n",
       "1599501                           getting used to twitter   positive\n",
       "1599531  @KhloeKardashian Definitely my Mom. And Angeli...  positive\n",
       "1599678                                       goodmorning   positive\n",
       "1599768                            Good morning everyone.   positive\n",
       "\n",
       "[16309 rows x 2 columns]"
      ]
     },
     "execution_count": 10,
     "metadata": {},
     "output_type": "execute_result"
    }
   ],
   "source": [
    "df[df.duplicated()]"
   ]
  },
  {
   "cell_type": "code",
   "execution_count": 11,
   "id": "e4a371d3",
   "metadata": {},
   "outputs": [],
   "source": [
    "df.drop_duplicates(inplace=True)"
   ]
  },
  {
   "cell_type": "code",
   "execution_count": 12,
   "id": "3f054f81",
   "metadata": {},
   "outputs": [
    {
     "data": {
      "text/plain": [
       "(1583691, 2)"
      ]
     },
     "execution_count": 12,
     "metadata": {},
     "output_type": "execute_result"
    }
   ],
   "source": [
    "df.shape"
   ]
  },
  {
   "cell_type": "markdown",
   "id": "0087a17b",
   "metadata": {},
   "source": [
    "# Function to plot the graph between number of records and given column"
   ]
  },
  {
   "cell_type": "code",
   "execution_count": 13,
   "id": "dc3138c9",
   "metadata": {},
   "outputs": [],
   "source": [
    "def plot_count(df, col, label):\n",
    "    plt.figure(figsize=(12, 7))\n",
    "    plt.plot(df[col], label=label)\n",
    "    plt.legend()\n",
    "    plt.xlabel('Number of review')\n",
    "    plt.ylabel('Count')\n",
    "    plt.show()"
   ]
  },
  {
   "cell_type": "markdown",
   "id": "8d0aed6d",
   "metadata": {},
   "source": [
    "# Counting the number of characters in each tweets"
   ]
  },
  {
   "cell_type": "code",
   "execution_count": 14,
   "id": "1f874327",
   "metadata": {},
   "outputs": [],
   "source": [
    "df['char_count'] = df['tweet'].str.len().values"
   ]
  },
  {
   "cell_type": "code",
   "execution_count": 15,
   "id": "75f66a3c",
   "metadata": {},
   "outputs": [
    {
     "data": {
      "text/html": [
       "<div>\n",
       "<style scoped>\n",
       "    .dataframe tbody tr th:only-of-type {\n",
       "        vertical-align: middle;\n",
       "    }\n",
       "\n",
       "    .dataframe tbody tr th {\n",
       "        vertical-align: top;\n",
       "    }\n",
       "\n",
       "    .dataframe thead th {\n",
       "        text-align: right;\n",
       "    }\n",
       "</style>\n",
       "<table border=\"1\" class=\"dataframe\">\n",
       "  <thead>\n",
       "    <tr style=\"text-align: right;\">\n",
       "      <th></th>\n",
       "      <th>tweet</th>\n",
       "      <th>target</th>\n",
       "      <th>char_count</th>\n",
       "    </tr>\n",
       "  </thead>\n",
       "  <tbody>\n",
       "    <tr>\n",
       "      <th>0</th>\n",
       "      <td>@switchfoot http://twitpic.com/2y1zl - Awww, t...</td>\n",
       "      <td>negative</td>\n",
       "      <td>115</td>\n",
       "    </tr>\n",
       "    <tr>\n",
       "      <th>1</th>\n",
       "      <td>is upset that he can't update his Facebook by ...</td>\n",
       "      <td>negative</td>\n",
       "      <td>111</td>\n",
       "    </tr>\n",
       "    <tr>\n",
       "      <th>2</th>\n",
       "      <td>@Kenichan I dived many times for the ball. Man...</td>\n",
       "      <td>negative</td>\n",
       "      <td>89</td>\n",
       "    </tr>\n",
       "    <tr>\n",
       "      <th>3</th>\n",
       "      <td>my whole body feels itchy and like its on fire</td>\n",
       "      <td>negative</td>\n",
       "      <td>47</td>\n",
       "    </tr>\n",
       "    <tr>\n",
       "      <th>4</th>\n",
       "      <td>@nationwideclass no, it's not behaving at all....</td>\n",
       "      <td>negative</td>\n",
       "      <td>111</td>\n",
       "    </tr>\n",
       "  </tbody>\n",
       "</table>\n",
       "</div>"
      ],
      "text/plain": [
       "                                               tweet    target  char_count\n",
       "0  @switchfoot http://twitpic.com/2y1zl - Awww, t...  negative         115\n",
       "1  is upset that he can't update his Facebook by ...  negative         111\n",
       "2  @Kenichan I dived many times for the ball. Man...  negative          89\n",
       "3    my whole body feels itchy and like its on fire   negative          47\n",
       "4  @nationwideclass no, it's not behaving at all....  negative         111"
      ]
     },
     "execution_count": 15,
     "metadata": {},
     "output_type": "execute_result"
    }
   ],
   "source": [
    "df.head()"
   ]
  },
  {
   "cell_type": "code",
   "execution_count": 16,
   "id": "b102c5e8",
   "metadata": {},
   "outputs": [
    {
     "data": {
      "image/png": "[encoded data removed]",
      "text/plain": [
       "<Figure size 864x504 with 1 Axes>"
      ]
     },
     "metadata": {},
     "output_type": "display_data"
    }
   ],
   "source": [
    "plot_count(df, 'char_count', 'Number of characters')"
   ]
  },
  {
   "cell_type": "markdown",
   "id": "dab98c28",
   "metadata": {},
   "source": [
    "### Removing all the records that has more than 175 characters"
   ]
  },
  {
   "cell_type": "code",
   "execution_count": 17,
   "id": "3ed1ed06",
   "metadata": {},
   "outputs": [],
   "source": [
    "df = df[df['char_count'] < 175]"
   ]
  },
  {
   "cell_type": "code",
   "execution_count": 18,
   "id": "383c4c90",
   "metadata": {},
   "outputs": [
    {
     "data": {
      "image/png": "[encoded data removed]",
      "text/plain": [
       "<Figure size 864x504 with 1 Axes>"
      ]
     },
     "metadata": {},
     "output_type": "display_data"
    }
   ],
   "source": [
    "plot_count(df, 'char_count', 'Number of characters')"
   ]
  },
  {
   "cell_type": "code",
   "execution_count": 19,
   "id": "27beedb4",
   "metadata": {},
   "outputs": [
    {
     "data": {
      "text/plain": [
       "(1583451, 3)"
      ]
     },
     "execution_count": 19,
     "metadata": {},
     "output_type": "execute_result"
    }
   ],
   "source": [
    "df.shape"
   ]
  },
  {
   "cell_type": "markdown",
   "id": "91547390",
   "metadata": {},
   "source": [
    "# Count the number of words in each review"
   ]
  },
  {
   "cell_type": "code",
   "execution_count": 20,
   "id": "f79d4801",
   "metadata": {},
   "outputs": [],
   "source": [
    "df['word_count'] = df['tweet'].apply(lambda x: len(x.split()))"
   ]
  },
  {
   "cell_type": "code",
   "execution_count": 21,
   "id": "fa2c4568",
   "metadata": {},
   "outputs": [
    {
     "data": {
      "text/html": [
       "<div>\n",
       "<style scoped>\n",
       "    .dataframe tbody tr th:only-of-type {\n",
       "        vertical-align: middle;\n",
       "    }\n",
       "\n",
       "    .dataframe tbody tr th {\n",
       "        vertical-align: top;\n",
       "    }\n",
       "\n",
       "    .dataframe thead th {\n",
       "        text-align: right;\n",
       "    }\n",
       "</style>\n",
       "<table border=\"1\" class=\"dataframe\">\n",
       "  <thead>\n",
       "    <tr style=\"text-align: right;\">\n",
       "      <th></th>\n",
       "      <th>tweet</th>\n",
       "      <th>target</th>\n",
       "      <th>char_count</th>\n",
       "      <th>word_count</th>\n",
       "    </tr>\n",
       "  </thead>\n",
       "  <tbody>\n",
       "    <tr>\n",
       "      <th>0</th>\n",
       "      <td>@switchfoot http://twitpic.com/2y1zl - Awww, t...</td>\n",
       "      <td>negative</td>\n",
       "      <td>115</td>\n",
       "      <td>19</td>\n",
       "    </tr>\n",
       "    <tr>\n",
       "      <th>1</th>\n",
       "      <td>is upset that he can't update his Facebook by ...</td>\n",
       "      <td>negative</td>\n",
       "      <td>111</td>\n",
       "      <td>21</td>\n",
       "    </tr>\n",
       "    <tr>\n",
       "      <th>2</th>\n",
       "      <td>@Kenichan I dived many times for the ball. Man...</td>\n",
       "      <td>negative</td>\n",
       "      <td>89</td>\n",
       "      <td>18</td>\n",
       "    </tr>\n",
       "    <tr>\n",
       "      <th>3</th>\n",
       "      <td>my whole body feels itchy and like its on fire</td>\n",
       "      <td>negative</td>\n",
       "      <td>47</td>\n",
       "      <td>10</td>\n",
       "    </tr>\n",
       "    <tr>\n",
       "      <th>4</th>\n",
       "      <td>@nationwideclass no, it's not behaving at all....</td>\n",
       "      <td>negative</td>\n",
       "      <td>111</td>\n",
       "      <td>21</td>\n",
       "    </tr>\n",
       "  </tbody>\n",
       "</table>\n",
       "</div>"
      ],
      "text/plain": [
       "                                               tweet    target  char_count  \\\n",
       "0  @switchfoot http://twitpic.com/2y1zl - Awww, t...  negative         115   \n",
       "1  is upset that he can't update his Facebook by ...  negative         111   \n",
       "2  @Kenichan I dived many times for the ball. Man...  negative          89   \n",
       "3    my whole body feels itchy and like its on fire   negative          47   \n",
       "4  @nationwideclass no, it's not behaving at all....  negative         111   \n",
       "\n",
       "   word_count  \n",
       "0          19  \n",
       "1          21  \n",
       "2          18  \n",
       "3          10  \n",
       "4          21  "
      ]
     },
     "execution_count": 21,
     "metadata": {},
     "output_type": "execute_result"
    }
   ],
   "source": [
    "df.head()"
   ]
  },
  {
   "cell_type": "code",
   "execution_count": 22,
   "id": "31a44703",
   "metadata": {},
   "outputs": [
    {
     "data": {
      "image/png": "[encoded data removed]",
      "text/plain": [
       "<Figure size 864x504 with 1 Axes>"
      ]
     },
     "metadata": {},
     "output_type": "display_data"
    }
   ],
   "source": [
    "plot_count(df, 'word_count', 'Number of words')"
   ]
  },
  {
   "cell_type": "markdown",
   "id": "f443b5f7",
   "metadata": {},
   "source": [
    "### Removing all the records that has more than 35 words"
   ]
  },
  {
   "cell_type": "code",
   "execution_count": 23,
   "id": "d3f6e102",
   "metadata": {},
   "outputs": [],
   "source": [
    "df = df[df['word_count'] < 35]"
   ]
  },
  {
   "cell_type": "code",
   "execution_count": 24,
   "id": "0288d2c3",
   "metadata": {},
   "outputs": [
    {
     "data": {
      "text/html": [
       "<div>\n",
       "<style scoped>\n",
       "    .dataframe tbody tr th:only-of-type {\n",
       "        vertical-align: middle;\n",
       "    }\n",
       "\n",
       "    .dataframe tbody tr th {\n",
       "        vertical-align: top;\n",
       "    }\n",
       "\n",
       "    .dataframe thead th {\n",
       "        text-align: right;\n",
       "    }\n",
       "</style>\n",
       "<table border=\"1\" class=\"dataframe\">\n",
       "  <thead>\n",
       "    <tr style=\"text-align: right;\">\n",
       "      <th></th>\n",
       "      <th>tweet</th>\n",
       "      <th>target</th>\n",
       "      <th>char_count</th>\n",
       "      <th>word_count</th>\n",
       "    </tr>\n",
       "  </thead>\n",
       "  <tbody>\n",
       "    <tr>\n",
       "      <th>0</th>\n",
       "      <td>@switchfoot http://twitpic.com/2y1zl - Awww, t...</td>\n",
       "      <td>negative</td>\n",
       "      <td>115</td>\n",
       "      <td>19</td>\n",
       "    </tr>\n",
       "    <tr>\n",
       "      <th>1</th>\n",
       "      <td>is upset that he can't update his Facebook by ...</td>\n",
       "      <td>negative</td>\n",
       "      <td>111</td>\n",
       "      <td>21</td>\n",
       "    </tr>\n",
       "    <tr>\n",
       "      <th>2</th>\n",
       "      <td>@Kenichan I dived many times for the ball. Man...</td>\n",
       "      <td>negative</td>\n",
       "      <td>89</td>\n",
       "      <td>18</td>\n",
       "    </tr>\n",
       "    <tr>\n",
       "      <th>3</th>\n",
       "      <td>my whole body feels itchy and like its on fire</td>\n",
       "      <td>negative</td>\n",
       "      <td>47</td>\n",
       "      <td>10</td>\n",
       "    </tr>\n",
       "    <tr>\n",
       "      <th>4</th>\n",
       "      <td>@nationwideclass no, it's not behaving at all....</td>\n",
       "      <td>negative</td>\n",
       "      <td>111</td>\n",
       "      <td>21</td>\n",
       "    </tr>\n",
       "  </tbody>\n",
       "</table>\n",
       "</div>"
      ],
      "text/plain": [
       "                                               tweet    target  char_count  \\\n",
       "0  @switchfoot http://twitpic.com/2y1zl - Awww, t...  negative         115   \n",
       "1  is upset that he can't update his Facebook by ...  negative         111   \n",
       "2  @Kenichan I dived many times for the ball. Man...  negative          89   \n",
       "3    my whole body feels itchy and like its on fire   negative          47   \n",
       "4  @nationwideclass no, it's not behaving at all....  negative         111   \n",
       "\n",
       "   word_count  \n",
       "0          19  \n",
       "1          21  \n",
       "2          18  \n",
       "3          10  \n",
       "4          21  "
      ]
     },
     "execution_count": 24,
     "metadata": {},
     "output_type": "execute_result"
    }
   ],
   "source": [
    "df.head()"
   ]
  },
  {
   "cell_type": "code",
   "execution_count": 25,
   "id": "77d2e61a",
   "metadata": {},
   "outputs": [
    {
     "data": {
      "text/plain": [
       "(1583410, 4)"
      ]
     },
     "execution_count": 25,
     "metadata": {},
     "output_type": "execute_result"
    }
   ],
   "source": [
    "df.shape"
   ]
  },
  {
   "cell_type": "code",
   "execution_count": 26,
   "id": "44075e98",
   "metadata": {},
   "outputs": [
    {
     "data": {
      "image/png": "[encoded data removed]",
      "text/plain": [
       "<Figure size 864x504 with 1 Axes>"
      ]
     },
     "metadata": {},
     "output_type": "display_data"
    }
   ],
   "source": [
    "plot_count(df, 'word_count', 'Number of words')"
   ]
  },
  {
   "cell_type": "markdown",
   "id": "8ce3dc75",
   "metadata": {},
   "source": [
    "# Take the sample data from all the data"
   ]
  },
  {
   "cell_type": "code",
   "execution_count": 27,
   "id": "f03cf058",
   "metadata": {},
   "outputs": [],
   "source": [
    "df = df.sample(30000, random_state=42)\n",
    "df = df.sample(frac=1)"
   ]
  },
  {
   "cell_type": "code",
   "execution_count": 28,
   "id": "f084875c",
   "metadata": {},
   "outputs": [],
   "source": [
    "df.reset_index(inplace=True, drop=True)"
   ]
  },
  {
   "cell_type": "code",
   "execution_count": 29,
   "id": "9c60c954",
   "metadata": {},
   "outputs": [
    {
     "data": {
      "text/plain": [
       "(30000, 4)"
      ]
     },
     "execution_count": 29,
     "metadata": {},
     "output_type": "execute_result"
    }
   ],
   "source": [
    "df.shape"
   ]
  },
  {
   "cell_type": "markdown",
   "id": "84b81b1c",
   "metadata": {},
   "source": [
    "# Cleaning the tweets"
   ]
  },
  {
   "cell_type": "code",
   "execution_count": 30,
   "id": "9386e7ee",
   "metadata": {},
   "outputs": [],
   "source": [
    "tokenizer = RegexpTokenizer(r\"\\w+\")\n",
    "lemmatizer = WordNetLemmatizer()"
   ]
  },
  {
   "cell_type": "code",
   "execution_count": 31,
   "id": "fe7b7c36",
   "metadata": {},
   "outputs": [],
   "source": [
    "def cleaning(row):\n",
    "    row = row.lower()\n",
    "    words = tokenizer.tokenize(row)\n",
    "    words = [lemmatizer.lemmatize(word.strip()) for word in words if word not in stopwords.words('english')]\n",
    "    return ' '.join(words)"
   ]
  },
  {
   "cell_type": "code",
   "execution_count": 32,
   "id": "4e63244a",
   "metadata": {},
   "outputs": [
    {
     "name": "stdout",
     "output_type": "stream",
     "text": [
      "CPU times: user 17 s, sys: 2.86 s, total: 19.8 s\n",
      "Wall time: 19.8 s\n"
     ]
    }
   ],
   "source": [
    "%%time\n",
    "df['clean_tweet'] = df['tweet'].apply(cleaning)"
   ]
  },
  {
   "cell_type": "code",
   "execution_count": 33,
   "id": "090c9709",
   "metadata": {},
   "outputs": [
    {
     "data": {
      "text/html": [
       "<div>\n",
       "<style scoped>\n",
       "    .dataframe tbody tr th:only-of-type {\n",
       "        vertical-align: middle;\n",
       "    }\n",
       "\n",
       "    .dataframe tbody tr th {\n",
       "        vertical-align: top;\n",
       "    }\n",
       "\n",
       "    .dataframe thead th {\n",
       "        text-align: right;\n",
       "    }\n",
       "</style>\n",
       "<table border=\"1\" class=\"dataframe\">\n",
       "  <thead>\n",
       "    <tr style=\"text-align: right;\">\n",
       "      <th></th>\n",
       "      <th>tweet</th>\n",
       "      <th>target</th>\n",
       "      <th>char_count</th>\n",
       "      <th>word_count</th>\n",
       "      <th>clean_tweet</th>\n",
       "    </tr>\n",
       "  </thead>\n",
       "  <tbody>\n",
       "    <tr>\n",
       "      <th>0</th>\n",
       "      <td>I love hearing my niece say &amp;quot;no daddy i w...</td>\n",
       "      <td>positive</td>\n",
       "      <td>79</td>\n",
       "      <td>15</td>\n",
       "      <td>love hearing niece say quot daddy want hannah ...</td>\n",
       "    </tr>\n",
       "    <tr>\n",
       "      <th>1</th>\n",
       "      <td>@JasonBradbury great pic</td>\n",
       "      <td>positive</td>\n",
       "      <td>25</td>\n",
       "      <td>3</td>\n",
       "      <td>jasonbradbury great pic</td>\n",
       "    </tr>\n",
       "    <tr>\n",
       "      <th>2</th>\n",
       "      <td>Wishing i didnt have to go back to the hospital</td>\n",
       "      <td>negative</td>\n",
       "      <td>48</td>\n",
       "      <td>10</td>\n",
       "      <td>wishing didnt go back hospital</td>\n",
       "    </tr>\n",
       "    <tr>\n",
       "      <th>3</th>\n",
       "      <td>i have something stuck in my eyee. everyone's ...</td>\n",
       "      <td>negative</td>\n",
       "      <td>91</td>\n",
       "      <td>18</td>\n",
       "      <td>something stuck eyee everyone asleep going blow</td>\n",
       "    </tr>\n",
       "    <tr>\n",
       "      <th>4</th>\n",
       "      <td>@tccrt3r tell to tweet me porfavor</td>\n",
       "      <td>positive</td>\n",
       "      <td>35</td>\n",
       "      <td>6</td>\n",
       "      <td>tccrt3r tell tweet porfavor</td>\n",
       "    </tr>\n",
       "  </tbody>\n",
       "</table>\n",
       "</div>"
      ],
      "text/plain": [
       "                                               tweet    target  char_count  \\\n",
       "0  I love hearing my niece say &quot;no daddy i w...  positive          79   \n",
       "1                          @JasonBradbury great pic   positive          25   \n",
       "2   Wishing i didnt have to go back to the hospital   negative          48   \n",
       "3  i have something stuck in my eyee. everyone's ...  negative          91   \n",
       "4                @tccrt3r tell to tweet me porfavor   positive          35   \n",
       "\n",
       "   word_count                                        clean_tweet  \n",
       "0          15  love hearing niece say quot daddy want hannah ...  \n",
       "1           3                            jasonbradbury great pic  \n",
       "2          10                     wishing didnt go back hospital  \n",
       "3          18    something stuck eyee everyone asleep going blow  \n",
       "4           6                        tccrt3r tell tweet porfavor  "
      ]
     },
     "execution_count": 33,
     "metadata": {},
     "output_type": "execute_result"
    }
   ],
   "source": [
    "df.head()"
   ]
  },
  {
   "cell_type": "markdown",
   "id": "55eace36",
   "metadata": {},
   "source": [
    "# Plot the graph to count the positive and negative sentiment tweets after sampling"
   ]
  },
  {
   "cell_type": "code",
   "execution_count": 34,
   "id": "9d158a78",
   "metadata": {},
   "outputs": [
    {
     "data": {
      "image/png": "[encoded data removed]",
      "text/plain": [
       "<Figure size 864x504 with 1 Axes>"
      ]
     },
     "metadata": {},
     "output_type": "display_data"
    }
   ],
   "source": [
    "plt.figure(figsize=(12, 7))\n",
    "plt.bar(df['target'].value_counts().index, df['target'].value_counts().values)\n",
    "plt.title('Total number of positive and negative tweets')\n",
    "plt.xlabel('Sentiment')\n",
    "plt.ylabel('No of records')\n",
    "plt.show()"
   ]
  },
  {
   "cell_type": "code",
   "execution_count": 35,
   "id": "e9e08b14",
   "metadata": {},
   "outputs": [
    {
     "data": {
      "text/plain": [
       "negative    15005\n",
       "positive    14995\n",
       "Name: target, dtype: int64"
      ]
     },
     "execution_count": 35,
     "metadata": {},
     "output_type": "execute_result"
    }
   ],
   "source": [
    "df['target'].value_counts()"
   ]
  },
  {
   "cell_type": "markdown",
   "id": "1368c8e5",
   "metadata": {},
   "source": [
    "# Word count of clean tweets"
   ]
  },
  {
   "cell_type": "code",
   "execution_count": 36,
   "id": "222541e5",
   "metadata": {},
   "outputs": [],
   "source": [
    "df['clean_word_count'] = df['clean_tweet'].apply(lambda x: len(x.split()))"
   ]
  },
  {
   "cell_type": "code",
   "execution_count": 37,
   "id": "540e704e",
   "metadata": {},
   "outputs": [
    {
     "data": {
      "text/html": [
       "<div>\n",
       "<style scoped>\n",
       "    .dataframe tbody tr th:only-of-type {\n",
       "        vertical-align: middle;\n",
       "    }\n",
       "\n",
       "    .dataframe tbody tr th {\n",
       "        vertical-align: top;\n",
       "    }\n",
       "\n",
       "    .dataframe thead th {\n",
       "        text-align: right;\n",
       "    }\n",
       "</style>\n",
       "<table border=\"1\" class=\"dataframe\">\n",
       "  <thead>\n",
       "    <tr style=\"text-align: right;\">\n",
       "      <th></th>\n",
       "      <th>tweet</th>\n",
       "      <th>target</th>\n",
       "      <th>char_count</th>\n",
       "      <th>word_count</th>\n",
       "      <th>clean_tweet</th>\n",
       "      <th>clean_word_count</th>\n",
       "    </tr>\n",
       "  </thead>\n",
       "  <tbody>\n",
       "    <tr>\n",
       "      <th>0</th>\n",
       "      <td>I love hearing my niece say &amp;quot;no daddy i w...</td>\n",
       "      <td>positive</td>\n",
       "      <td>79</td>\n",
       "      <td>15</td>\n",
       "      <td>love hearing niece say quot daddy want hannah ...</td>\n",
       "      <td>11</td>\n",
       "    </tr>\n",
       "    <tr>\n",
       "      <th>1</th>\n",
       "      <td>@JasonBradbury great pic</td>\n",
       "      <td>positive</td>\n",
       "      <td>25</td>\n",
       "      <td>3</td>\n",
       "      <td>jasonbradbury great pic</td>\n",
       "      <td>3</td>\n",
       "    </tr>\n",
       "    <tr>\n",
       "      <th>2</th>\n",
       "      <td>Wishing i didnt have to go back to the hospital</td>\n",
       "      <td>negative</td>\n",
       "      <td>48</td>\n",
       "      <td>10</td>\n",
       "      <td>wishing didnt go back hospital</td>\n",
       "      <td>5</td>\n",
       "    </tr>\n",
       "    <tr>\n",
       "      <th>3</th>\n",
       "      <td>i have something stuck in my eyee. everyone's ...</td>\n",
       "      <td>negative</td>\n",
       "      <td>91</td>\n",
       "      <td>18</td>\n",
       "      <td>something stuck eyee everyone asleep going blow</td>\n",
       "      <td>7</td>\n",
       "    </tr>\n",
       "    <tr>\n",
       "      <th>4</th>\n",
       "      <td>@tccrt3r tell to tweet me porfavor</td>\n",
       "      <td>positive</td>\n",
       "      <td>35</td>\n",
       "      <td>6</td>\n",
       "      <td>tccrt3r tell tweet porfavor</td>\n",
       "      <td>4</td>\n",
       "    </tr>\n",
       "  </tbody>\n",
       "</table>\n",
       "</div>"
      ],
      "text/plain": [
       "                                               tweet    target  char_count  \\\n",
       "0  I love hearing my niece say &quot;no daddy i w...  positive          79   \n",
       "1                          @JasonBradbury great pic   positive          25   \n",
       "2   Wishing i didnt have to go back to the hospital   negative          48   \n",
       "3  i have something stuck in my eyee. everyone's ...  negative          91   \n",
       "4                @tccrt3r tell to tweet me porfavor   positive          35   \n",
       "\n",
       "   word_count                                        clean_tweet  \\\n",
       "0          15  love hearing niece say quot daddy want hannah ...   \n",
       "1           3                            jasonbradbury great pic   \n",
       "2          10                     wishing didnt go back hospital   \n",
       "3          18    something stuck eyee everyone asleep going blow   \n",
       "4           6                        tccrt3r tell tweet porfavor   \n",
       "\n",
       "   clean_word_count  \n",
       "0                11  \n",
       "1                 3  \n",
       "2                 5  \n",
       "3                 7  \n",
       "4                 4  "
      ]
     },
     "execution_count": 37,
     "metadata": {},
     "output_type": "execute_result"
    }
   ],
   "source": [
    "df.head()"
   ]
  },
  {
   "cell_type": "code",
   "execution_count": 38,
   "id": "6b0940c2",
   "metadata": {},
   "outputs": [
    {
     "data": {
      "text/plain": [
       "(30000, 6)"
      ]
     },
     "execution_count": 38,
     "metadata": {},
     "output_type": "execute_result"
    }
   ],
   "source": [
    "df.shape"
   ]
  },
  {
   "cell_type": "code",
   "execution_count": 39,
   "id": "4e6cf644",
   "metadata": {},
   "outputs": [
    {
     "data": {
      "image/png": "[encoded data removed]",
      "text/plain": [
       "<Figure size 864x504 with 1 Axes>"
      ]
     },
     "metadata": {},
     "output_type": "display_data"
    }
   ],
   "source": [
    "plot_count(df, 'clean_word_count', 'Number of word in clean tweets')"
   ]
  },
  {
   "cell_type": "markdown",
   "id": "b9e27d7e",
   "metadata": {},
   "source": [
    "### Removing all the records that has more than 20 words and less than 3"
   ]
  },
  {
   "cell_type": "code",
   "execution_count": 40,
   "id": "1a72b92a",
   "metadata": {},
   "outputs": [],
   "source": [
    "df = df[df['clean_word_count'] <= 20]"
   ]
  },
  {
   "cell_type": "code",
   "execution_count": 41,
   "id": "ea2fac10",
   "metadata": {},
   "outputs": [],
   "source": [
    "df = df[df['clean_word_count'] >= 3]"
   ]
  },
  {
   "cell_type": "code",
   "execution_count": 42,
   "id": "da870af0",
   "metadata": {},
   "outputs": [
    {
     "data": {
      "text/plain": [
       "(28004, 6)"
      ]
     },
     "execution_count": 42,
     "metadata": {},
     "output_type": "execute_result"
    }
   ],
   "source": [
    "df.shape"
   ]
  },
  {
   "cell_type": "code",
   "execution_count": 43,
   "id": "21cfe1a8",
   "metadata": {},
   "outputs": [
    {
     "data": {
      "image/png": "[encoded data removed]",
      "text/plain": [
       "<Figure size 864x504 with 1 Axes>"
      ]
     },
     "metadata": {},
     "output_type": "display_data"
    }
   ],
   "source": [
    "plot_count(df, 'clean_word_count', 'Number of word in clean tweets')"
   ]
  },
  {
   "cell_type": "markdown",
   "id": "5a85ef38",
   "metadata": {},
   "source": [
    "# Encode the labels using Label Encoder"
   ]
  },
  {
   "cell_type": "code",
   "execution_count": 44,
   "id": "40b44688",
   "metadata": {},
   "outputs": [],
   "source": [
    "le = LabelEncoder()\n",
    "df['target'] = le.fit_transform(df['target'])"
   ]
  },
  {
   "cell_type": "code",
   "execution_count": 45,
   "id": "aa9a8350",
   "metadata": {},
   "outputs": [
    {
     "data": {
      "text/html": [
       "<div>\n",
       "<style scoped>\n",
       "    .dataframe tbody tr th:only-of-type {\n",
       "        vertical-align: middle;\n",
       "    }\n",
       "\n",
       "    .dataframe tbody tr th {\n",
       "        vertical-align: top;\n",
       "    }\n",
       "\n",
       "    .dataframe thead th {\n",
       "        text-align: right;\n",
       "    }\n",
       "</style>\n",
       "<table border=\"1\" class=\"dataframe\">\n",
       "  <thead>\n",
       "    <tr style=\"text-align: right;\">\n",
       "      <th></th>\n",
       "      <th>tweet</th>\n",
       "      <th>target</th>\n",
       "      <th>char_count</th>\n",
       "      <th>word_count</th>\n",
       "      <th>clean_tweet</th>\n",
       "      <th>clean_word_count</th>\n",
       "    </tr>\n",
       "  </thead>\n",
       "  <tbody>\n",
       "    <tr>\n",
       "      <th>0</th>\n",
       "      <td>I love hearing my niece say &amp;quot;no daddy i w...</td>\n",
       "      <td>1</td>\n",
       "      <td>79</td>\n",
       "      <td>15</td>\n",
       "      <td>love hearing niece say quot daddy want hannah ...</td>\n",
       "      <td>11</td>\n",
       "    </tr>\n",
       "    <tr>\n",
       "      <th>1</th>\n",
       "      <td>@JasonBradbury great pic</td>\n",
       "      <td>1</td>\n",
       "      <td>25</td>\n",
       "      <td>3</td>\n",
       "      <td>jasonbradbury great pic</td>\n",
       "      <td>3</td>\n",
       "    </tr>\n",
       "    <tr>\n",
       "      <th>2</th>\n",
       "      <td>Wishing i didnt have to go back to the hospital</td>\n",
       "      <td>0</td>\n",
       "      <td>48</td>\n",
       "      <td>10</td>\n",
       "      <td>wishing didnt go back hospital</td>\n",
       "      <td>5</td>\n",
       "    </tr>\n",
       "    <tr>\n",
       "      <th>3</th>\n",
       "      <td>i have something stuck in my eyee. everyone's ...</td>\n",
       "      <td>0</td>\n",
       "      <td>91</td>\n",
       "      <td>18</td>\n",
       "      <td>something stuck eyee everyone asleep going blow</td>\n",
       "      <td>7</td>\n",
       "    </tr>\n",
       "    <tr>\n",
       "      <th>4</th>\n",
       "      <td>@tccrt3r tell to tweet me porfavor</td>\n",
       "      <td>1</td>\n",
       "      <td>35</td>\n",
       "      <td>6</td>\n",
       "      <td>tccrt3r tell tweet porfavor</td>\n",
       "      <td>4</td>\n",
       "    </tr>\n",
       "  </tbody>\n",
       "</table>\n",
       "</div>"
      ],
      "text/plain": [
       "                                               tweet  target  char_count  \\\n",
       "0  I love hearing my niece say &quot;no daddy i w...       1          79   \n",
       "1                          @JasonBradbury great pic        1          25   \n",
       "2   Wishing i didnt have to go back to the hospital        0          48   \n",
       "3  i have something stuck in my eyee. everyone's ...       0          91   \n",
       "4                @tccrt3r tell to tweet me porfavor        1          35   \n",
       "\n",
       "   word_count                                        clean_tweet  \\\n",
       "0          15  love hearing niece say quot daddy want hannah ...   \n",
       "1           3                            jasonbradbury great pic   \n",
       "2          10                     wishing didnt go back hospital   \n",
       "3          18    something stuck eyee everyone asleep going blow   \n",
       "4           6                        tccrt3r tell tweet porfavor   \n",
       "\n",
       "   clean_word_count  \n",
       "0                11  \n",
       "1                 3  \n",
       "2                 5  \n",
       "3                 7  \n",
       "4                 4  "
      ]
     },
     "execution_count": 45,
     "metadata": {},
     "output_type": "execute_result"
    }
   ],
   "source": [
    "# 1 means positive and 0 means negative\n",
    "df.head()"
   ]
  },
  {
   "cell_type": "markdown",
   "id": "2032bbe5",
   "metadata": {},
   "source": [
    "# Use padding to make the size of all reviews same"
   ]
  },
  {
   "cell_type": "code",
   "execution_count": 46,
   "id": "549c581a",
   "metadata": {},
   "outputs": [],
   "source": [
    "tf_tokenizer = tf.keras.preprocessing.text.Tokenizer(num_words=500, split=' ')\n",
    "tf_tokenizer.fit_on_texts(df['clean_tweet'].values)"
   ]
  },
  {
   "cell_type": "code",
   "execution_count": 47,
   "id": "9828a11d",
   "metadata": {},
   "outputs": [],
   "source": [
    "X = tf_tokenizer.texts_to_sequences(df['clean_tweet'].values)\n",
    "X = tf.keras.preprocessing.sequence.pad_sequences(X, padding='pre')"
   ]
  },
  {
   "cell_type": "code",
   "execution_count": 48,
   "id": "d4734915",
   "metadata": {},
   "outputs": [
    {
     "data": {
      "text/plain": [
       "array([[  0,   0,   0, ...,  23, 181,  10],\n",
       "       [  0,   0,   0, ...,   0,  42, 171],\n",
       "       [  0,   0,   0, ..., 301,   5,  17],\n",
       "       ...,\n",
       "       [  0,   0,   0, ..., 307,  49,  89],\n",
       "       [  0,   0,   0, ...,  66,   1,   4],\n",
       "       [  0,   0,   0, ...,  88, 393, 221]], dtype=int32)"
      ]
     },
     "execution_count": 48,
     "metadata": {},
     "output_type": "execute_result"
    }
   ],
   "source": [
    "X"
   ]
  },
  {
   "cell_type": "code",
   "execution_count": 49,
   "id": "233bc542",
   "metadata": {},
   "outputs": [
    {
     "data": {
      "text/plain": [
       "(28004, 18)"
      ]
     },
     "execution_count": 49,
     "metadata": {},
     "output_type": "execute_result"
    }
   ],
   "source": [
    "X.shape"
   ]
  },
  {
   "cell_type": "code",
   "execution_count": 50,
   "id": "6869afea",
   "metadata": {},
   "outputs": [
    {
     "data": {
      "text/plain": [
       "18"
      ]
     },
     "execution_count": 50,
     "metadata": {},
     "output_type": "execute_result"
    }
   ],
   "source": [
    "padding_len = X.shape[1]\n",
    "padding_len"
   ]
  },
  {
   "cell_type": "markdown",
   "id": "cdf988cc",
   "metadata": {},
   "source": [
    "# Splitting data into train and test"
   ]
  },
  {
   "cell_type": "code",
   "execution_count": 51,
   "id": "d5722d70",
   "metadata": {},
   "outputs": [],
   "source": [
    "y = pd.get_dummies(df['target'])"
   ]
  },
  {
   "cell_type": "code",
   "execution_count": 52,
   "id": "6f436188",
   "metadata": {},
   "outputs": [
    {
     "data": {
      "text/html": [
       "<div>\n",
       "<style scoped>\n",
       "    .dataframe tbody tr th:only-of-type {\n",
       "        vertical-align: middle;\n",
       "    }\n",
       "\n",
       "    .dataframe tbody tr th {\n",
       "        vertical-align: top;\n",
       "    }\n",
       "\n",
       "    .dataframe thead th {\n",
       "        text-align: right;\n",
       "    }\n",
       "</style>\n",
       "<table border=\"1\" class=\"dataframe\">\n",
       "  <thead>\n",
       "    <tr style=\"text-align: right;\">\n",
       "      <th></th>\n",
       "      <th>0</th>\n",
       "      <th>1</th>\n",
       "    </tr>\n",
       "  </thead>\n",
       "  <tbody>\n",
       "    <tr>\n",
       "      <th>0</th>\n",
       "      <td>0</td>\n",
       "      <td>1</td>\n",
       "    </tr>\n",
       "    <tr>\n",
       "      <th>1</th>\n",
       "      <td>0</td>\n",
       "      <td>1</td>\n",
       "    </tr>\n",
       "    <tr>\n",
       "      <th>2</th>\n",
       "      <td>1</td>\n",
       "      <td>0</td>\n",
       "    </tr>\n",
       "    <tr>\n",
       "      <th>3</th>\n",
       "      <td>1</td>\n",
       "      <td>0</td>\n",
       "    </tr>\n",
       "    <tr>\n",
       "      <th>4</th>\n",
       "      <td>0</td>\n",
       "      <td>1</td>\n",
       "    </tr>\n",
       "  </tbody>\n",
       "</table>\n",
       "</div>"
      ],
      "text/plain": [
       "   0  1\n",
       "0  0  1\n",
       "1  0  1\n",
       "2  1  0\n",
       "3  1  0\n",
       "4  0  1"
      ]
     },
     "execution_count": 52,
     "metadata": {},
     "output_type": "execute_result"
    }
   ],
   "source": [
    "y.head()"
   ]
  },
  {
   "cell_type": "code",
   "execution_count": 53,
   "id": "59c221f0",
   "metadata": {},
   "outputs": [
    {
     "data": {
      "text/plain": [
       "((19602, 18), (8402, 18), (19602, 2), (8402, 2))"
      ]
     },
     "execution_count": 53,
     "metadata": {},
     "output_type": "execute_result"
    }
   ],
   "source": [
    "X_train, X_test, y_train, y_test = train_test_split(X, y, test_size=0.3, random_state=42)\n",
    "X_train.shape, X_test.shape, y_train.shape, y_test.shape"
   ]
  },
  {
   "cell_type": "markdown",
   "id": "2b108f72",
   "metadata": {},
   "source": [
    "# Creating Sequential model and train it"
   ]
  },
  {
   "cell_type": "code",
   "execution_count": 54,
   "id": "87a80e33",
   "metadata": {},
   "outputs": [
    {
     "name": "stdout",
     "output_type": "stream",
     "text": [
      "Metal device set to: Apple M1\n"
     ]
    },
    {
     "name": "stderr",
     "output_type": "stream",
     "text": [
      "2022-05-25 11:55:37.320303: I tensorflow/core/common_runtime/pluggable_device/pluggable_device_factory.cc:305] Could not identify NUMA node of platform GPU ID 0, defaulting to 0. Your kernel may not have been built with NUMA support.\n",
      "2022-05-25 11:55:37.320437: I tensorflow/core/common_runtime/pluggable_device/pluggable_device_factory.cc:271] Created TensorFlow device (/job:localhost/replica:0/task:0/device:GPU:0 with 0 MB memory) -> physical PluggableDevice (device: 0, name: METAL, pci bus id: <undefined>)\n"
     ]
    }
   ],
   "source": [
    "model = tf.keras.Sequential([\n",
    "    tf.keras.layers.Embedding(10000, 120, input_length=X.shape[1]),\n",
    "    tf.keras.layers.SpatialDropout1D(0.4),\n",
    "    tf.keras.layers.LSTM(176, dropout=0.2),\n",
    "    tf.keras.layers.Dense(2, activation='softmax')\n",
    "])\n",
    "\n",
    "model.compile(loss=tf.keras.losses.CategoricalCrossentropy(),\n",
    "              optimizer=tf.keras.optimizers.Adam(),\n",
    "              metrics=['accuracy'])"
   ]
  },
  {
   "cell_type": "code",
   "execution_count": 55,
   "id": "b4fd6e5b",
   "metadata": {},
   "outputs": [
    {
     "name": "stdout",
     "output_type": "stream",
     "text": [
      "Model: \"sequential\"\n",
      "_________________________________________________________________\n",
      " Layer (type)                Output Shape              Param #   \n",
      "=================================================================\n",
      " embedding (Embedding)       (None, 18, 120)           1200000   \n",
      "                                                                 \n",
      " spatial_dropout1d (SpatialD  (None, 18, 120)          0         \n",
      " ropout1D)                                                       \n",
      "                                                                 \n",
      " lstm (LSTM)                 (None, 176)               209088    \n",
      "                                                                 \n",
      " dense (Dense)               (None, 2)                 354       \n",
      "                                                                 \n",
      "=================================================================\n",
      "Total params: 1,409,442\n",
      "Trainable params: 1,409,442\n",
      "Non-trainable params: 0\n",
      "_________________________________________________________________\n"
     ]
    }
   ],
   "source": [
    "model.summary()"
   ]
  },
  {
   "cell_type": "code",
   "execution_count": 56,
   "id": "7fd12587",
   "metadata": {},
   "outputs": [
    {
     "name": "stdout",
     "output_type": "stream",
     "text": [
      "Epoch 1/25\n"
     ]
    },
    {
     "name": "stderr",
     "output_type": "stream",
     "text": [
      "2022-05-25 11:55:37.555323: W tensorflow/core/platform/profile_utils/cpu_utils.cc:128] Failed to get CPU frequency: 0 Hz\n",
      "2022-05-25 11:55:38.279983: I tensorflow/core/grappler/optimizers/custom_graph_optimizer_registry.cc:113] Plugin optimizer for device_type GPU is enabled.\n",
      "2022-05-25 11:55:38.443673: I tensorflow/core/grappler/optimizers/custom_graph_optimizer_registry.cc:113] Plugin optimizer for device_type GPU is enabled.\n"
     ]
    },
    {
     "name": "stdout",
     "output_type": "stream",
     "text": [
      "  1/613 [..............................] - ETA: 12:15 - loss: 0.6959 - accuracy: 0.4062"
     ]
    },
    {
     "name": "stderr",
     "output_type": "stream",
     "text": [
      "2022-05-25 11:55:38.616694: I tensorflow/core/grappler/optimizers/custom_graph_optimizer_registry.cc:113] Plugin optimizer for device_type GPU is enabled.\n"
     ]
    },
    {
     "name": "stdout",
     "output_type": "stream",
     "text": [
      "613/613 [==============================] - 13s 19ms/step - loss: 0.5877 - accuracy: 0.6778\n",
      "Epoch 2/25\n",
      "613/613 [==============================] - 11s 18ms/step - loss: 0.5472 - accuracy: 0.7146\n",
      "Epoch 3/25\n",
      "613/613 [==============================] - 11s 18ms/step - loss: 0.5398 - accuracy: 0.7220\n",
      "Epoch 4/25\n",
      "613/613 [==============================] - 11s 18ms/step - loss: 0.5287 - accuracy: 0.7290\n",
      "Epoch 5/25\n",
      "613/613 [==============================] - 11s 18ms/step - loss: 0.5206 - accuracy: 0.7334\n",
      "Epoch 6/25\n",
      "613/613 [==============================] - 11s 18ms/step - loss: 0.5137 - accuracy: 0.7373\n",
      "Epoch 7/25\n",
      "613/613 [==============================] - 11s 18ms/step - loss: 0.5074 - accuracy: 0.7441\n",
      "Epoch 8/25\n",
      "613/613 [==============================] - 12s 19ms/step - loss: 0.4982 - accuracy: 0.7466\n",
      "Epoch 9/25\n",
      "613/613 [==============================] - 12s 19ms/step - loss: 0.4921 - accuracy: 0.7509\n",
      "Epoch 10/25\n",
      "613/613 [==============================] - 11s 19ms/step - loss: 0.4853 - accuracy: 0.7530\n",
      "Epoch 11/25\n",
      "613/613 [==============================] - 11s 19ms/step - loss: 0.4775 - accuracy: 0.7603\n",
      "Epoch 12/25\n",
      "613/613 [==============================] - 13s 21ms/step - loss: 0.4713 - accuracy: 0.7615\n",
      "Epoch 13/25\n",
      "613/613 [==============================] - 11s 19ms/step - loss: 0.4587 - accuracy: 0.7714\n",
      "Epoch 14/25\n",
      "613/613 [==============================] - 11s 19ms/step - loss: 0.4506 - accuracy: 0.7737\n",
      "Epoch 15/25\n",
      "613/613 [==============================] - 11s 19ms/step - loss: 0.4403 - accuracy: 0.7804\n",
      "Epoch 16/25\n",
      "613/613 [==============================] - 11s 18ms/step - loss: 0.4321 - accuracy: 0.7860\n",
      "Epoch 17/25\n",
      "613/613 [==============================] - 11s 18ms/step - loss: 0.4208 - accuracy: 0.7933\n",
      "Epoch 18/25\n",
      "613/613 [==============================] - 11s 19ms/step - loss: 0.4086 - accuracy: 0.8010\n",
      "Epoch 19/25\n",
      "613/613 [==============================] - 11s 18ms/step - loss: 0.3986 - accuracy: 0.8052\n",
      "Epoch 20/25\n",
      "613/613 [==============================] - 11s 18ms/step - loss: 0.3848 - accuracy: 0.8139\n",
      "Epoch 21/25\n",
      "613/613 [==============================] - 12s 19ms/step - loss: 0.3713 - accuracy: 0.8227\n",
      "Epoch 22/25\n",
      "613/613 [==============================] - 12s 19ms/step - loss: 0.3577 - accuracy: 0.8304\n",
      "Epoch 23/25\n",
      "613/613 [==============================] - 12s 19ms/step - loss: 0.3442 - accuracy: 0.8359\n",
      "Epoch 24/25\n",
      "613/613 [==============================] - 12s 19ms/step - loss: 0.3337 - accuracy: 0.8417\n",
      "Epoch 25/25\n",
      "613/613 [==============================] - 12s 19ms/step - loss: 0.3191 - accuracy: 0.8482\n"
     ]
    }
   ],
   "source": [
    "history = model.fit(X_train, y_train, epochs=25, batch_size=32, verbose='auto')"
   ]
  },
  {
   "cell_type": "markdown",
   "id": "32b18e41",
   "metadata": {},
   "source": [
    "### Plot the history"
   ]
  },
  {
   "cell_type": "code",
   "execution_count": 57,
   "id": "7b2f7689",
   "metadata": {},
   "outputs": [
    {
     "data": {
      "text/plain": [
       "<AxesSubplot:>"
      ]
     },
     "execution_count": 57,
     "metadata": {},
     "output_type": "execute_result"
    },
    {
     "data": {
      "image/png": "[encoded data removed]",
      "text/plain": [
       "<Figure size 864x504 with 1 Axes>"
      ]
     },
     "metadata": {},
     "output_type": "display_data"
    }
   ],
   "source": [
    "pd.DataFrame(history.history).plot(figsize=(12,7))"
   ]
  },
  {
   "cell_type": "markdown",
   "id": "260c479a",
   "metadata": {},
   "source": [
    "### Evaluate the model"
   ]
  },
  {
   "cell_type": "code",
   "execution_count": 58,
   "id": "a0d29450",
   "metadata": {},
   "outputs": [
    {
     "name": "stdout",
     "output_type": "stream",
     "text": [
      "  8/263 [..............................] - ETA: 2s - loss: 0.8777 - accuracy: 0.7031  "
     ]
    },
    {
     "name": "stderr",
     "output_type": "stream",
     "text": [
      "2022-05-25 12:00:25.637555: I tensorflow/core/grappler/optimizers/custom_graph_optimizer_registry.cc:113] Plugin optimizer for device_type GPU is enabled.\n",
      "2022-05-25 12:00:25.688349: I tensorflow/core/grappler/optimizers/custom_graph_optimizer_registry.cc:113] Plugin optimizer for device_type GPU is enabled.\n"
     ]
    },
    {
     "name": "stdout",
     "output_type": "stream",
     "text": [
      "263/263 [==============================] - 2s 8ms/step - loss: 0.8891 - accuracy: 0.6654\n"
     ]
    },
    {
     "data": {
      "text/plain": [
       "[0.8891106843948364, 0.6654368042945862]"
      ]
     },
     "execution_count": 58,
     "metadata": {},
     "output_type": "execute_result"
    }
   ],
   "source": [
    "model.evaluate(X_test, y_test)"
   ]
  },
  {
   "cell_type": "markdown",
   "id": "1d0697dc",
   "metadata": {},
   "source": [
    "# Pipeline to predict the sentiment of the raw tweet"
   ]
  },
  {
   "cell_type": "code",
   "execution_count": 59,
   "id": "45a0017e",
   "metadata": {},
   "outputs": [],
   "source": [
    "def pipeline(model, tweet):\n",
    "    df_pipe = pd.DataFrame({'tweet': [tweet]})\n",
    "    df_pipe['clean_tweet'] = df_pipe['tweet'].apply(cleaning)\n",
    "    \n",
    "    X = tf_tokenizer.texts_to_sequences(df_pipe['clean_tweet'].values)\n",
    "    X = tf.keras.preprocessing.sequence.pad_sequences(X, maxlen=padding_len, padding='pre')\n",
    "\n",
    "    [[negative, positive]] = model.predict(X)\n",
    "    \n",
    "    sentiment = \"\"\n",
    "    if positive > negative:\n",
    "        sentiment = \"positive\"\n",
    "    else: \n",
    "        sentiment = \"negative\"\n",
    "        \n",
    "    return positive, negative, sentiment"
   ]
  },
  {
   "cell_type": "code",
   "execution_count": 60,
   "id": "8aa103be",
   "metadata": {},
   "outputs": [
    {
     "name": "stderr",
     "output_type": "stream",
     "text": [
      "2022-05-25 12:00:27.981739: I tensorflow/core/grappler/optimizers/custom_graph_optimizer_registry.cc:113] Plugin optimizer for device_type GPU is enabled.\n",
      "2022-05-25 12:00:28.024339: I tensorflow/core/grappler/optimizers/custom_graph_optimizer_registry.cc:113] Plugin optimizer for device_type GPU is enabled.\n"
     ]
    },
    {
     "data": {
      "text/plain": [
       "(0.6825719, 0.3174281, 'positive')"
      ]
     },
     "execution_count": 60,
     "metadata": {},
     "output_type": "execute_result"
    }
   ],
   "source": [
    "pipeline(model, \"I like the overall movie but some scenes are just not so good\")"
   ]
  },
  {
   "cell_type": "markdown",
   "id": "93ff08e1-6c35-40ef-b90c-0a46006ce6e5",
   "metadata": {},
   "source": [
    "# Pickle all the required data"
   ]
  },
  {
   "cell_type": "code",
   "execution_count": 61,
   "id": "99b7333a-653f-4fb2-b73f-c99c46873736",
   "metadata": {},
   "outputs": [
    {
     "name": "stderr",
     "output_type": "stream",
     "text": [
      "2022-05-25 12:00:28.927408: W tensorflow/python/util/util.cc:368] Sets are not currently considered sequences, but this may change in the future, so consider avoiding using them.\n",
      "WARNING:absl:Found untraced functions such as lstm_cell_layer_call_fn, lstm_cell_layer_call_and_return_conditional_losses while saving (showing 2 of 2). These functions will not be directly callable after loading.\n"
     ]
    },
    {
     "name": "stdout",
     "output_type": "stream",
     "text": [
      "INFO:tensorflow:Assets written to: sentiment_analysis_model/assets\n"
     ]
    },
    {
     "name": "stderr",
     "output_type": "stream",
     "text": [
      "INFO:tensorflow:Assets written to: sentiment_analysis_model/assets\n",
      "WARNING:absl:<keras.layers.recurrent.LSTMCell object at 0x2ae380970> has the same name 'LSTMCell' as a built-in Keras object. Consider renaming <class 'keras.layers.recurrent.LSTMCell'> to avoid naming conflicts when loading with `tf.keras.models.load_model`. If renaming is not possible, pass the object in the `custom_objects` parameter of the load function.\n"
     ]
    }
   ],
   "source": [
    "model.save('sentiment_analysis_model')"
   ]
  },
  {
   "cell_type": "code",
   "execution_count": 62,
   "id": "15f7ac65-e634-4fe9-8198-9135511cbcf9",
   "metadata": {},
   "outputs": [],
   "source": [
    "pickle.dump(tf_tokenizer, open('tokenizer.pkl', 'wb'))"
   ]
  }
 ],
 "metadata": {
  "kernelspec": {
   "display_name": "Python 3 (ipykernel)",
   "language": "python",
   "name": "python3"
  },
  "language_info": {
   "codemirror_mode": {
    "name": "ipython",
    "version": 3
   },
   "file_extension": ".py",
   "mimetype": "text/x-python",
   "name": "python",
   "nbconvert_exporter": "python",
   "pygments_lexer": "ipython3",
   "version": "3.9.7"
  }
 },
 "nbformat": 4,
 "nbformat_minor": 5
}
