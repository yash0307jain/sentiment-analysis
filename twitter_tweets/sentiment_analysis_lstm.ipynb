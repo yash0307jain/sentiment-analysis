{
 "cells": [
  {
   "cell_type": "markdown",
   "id": "8f1cfaab",
   "metadata": {},
   "source": [
    "# Importing the required libraries"
   ]
  },
  {
   "cell_type": "code",
   "execution_count": 323,
   "id": "1986b9d2",
   "metadata": {},
   "outputs": [],
   "source": [
    "import time\n",
    "\n",
    "# For loading data and data manipulation\n",
    "import numpy as np\n",
    "import pandas as pd\n",
    "import matplotlib.pyplot as plt\n",
    "plt.style.use('fivethirtyeight')\n",
    "\n",
    "# For cleaning the text\n",
    "from nltk.corpus import stopwords\n",
    "from nltk import RegexpTokenizer\n",
    "from nltk.stem import WordNetLemmatizer\n",
    "\n",
    "# For data preprocessing\n",
    "from sklearn.preprocessing import LabelEncoder\n",
    "from sklearn.model_selection import train_test_split\n",
    "\n",
    "# For preprocessing and modelling\n",
    "import tensorflow as tf"
   ]
  },
  {
   "cell_type": "markdown",
   "id": "f732c9f3",
   "metadata": {},
   "source": [
    "# Loading the data"
   ]
  },
  {
   "cell_type": "code",
   "execution_count": 324,
   "id": "82bf740b",
   "metadata": {},
   "outputs": [
    {
     "data": {
      "text/html": [
       "<div>\n",
       "<style scoped>\n",
       "    .dataframe tbody tr th:only-of-type {\n",
       "        vertical-align: middle;\n",
       "    }\n",
       "\n",
       "    .dataframe tbody tr th {\n",
       "        vertical-align: top;\n",
       "    }\n",
       "\n",
       "    .dataframe thead th {\n",
       "        text-align: right;\n",
       "    }\n",
       "</style>\n",
       "<table border=\"1\" class=\"dataframe\">\n",
       "  <thead>\n",
       "    <tr style=\"text-align: right;\">\n",
       "      <th></th>\n",
       "      <th>target</th>\n",
       "      <th>ids</th>\n",
       "      <th>date</th>\n",
       "      <th>flag</th>\n",
       "      <th>user</th>\n",
       "      <th>tweet</th>\n",
       "    </tr>\n",
       "  </thead>\n",
       "  <tbody>\n",
       "    <tr>\n",
       "      <th>0</th>\n",
       "      <td>0</td>\n",
       "      <td>1467810369</td>\n",
       "      <td>Mon Apr 06 22:19:45 PDT 2009</td>\n",
       "      <td>NO_QUERY</td>\n",
       "      <td>_TheSpecialOne_</td>\n",
       "      <td>@switchfoot http://twitpic.com/2y1zl - Awww, t...</td>\n",
       "    </tr>\n",
       "    <tr>\n",
       "      <th>1</th>\n",
       "      <td>0</td>\n",
       "      <td>1467810672</td>\n",
       "      <td>Mon Apr 06 22:19:49 PDT 2009</td>\n",
       "      <td>NO_QUERY</td>\n",
       "      <td>scotthamilton</td>\n",
       "      <td>is upset that he can't update his Facebook by ...</td>\n",
       "    </tr>\n",
       "    <tr>\n",
       "      <th>2</th>\n",
       "      <td>0</td>\n",
       "      <td>1467810917</td>\n",
       "      <td>Mon Apr 06 22:19:53 PDT 2009</td>\n",
       "      <td>NO_QUERY</td>\n",
       "      <td>mattycus</td>\n",
       "      <td>@Kenichan I dived many times for the ball. Man...</td>\n",
       "    </tr>\n",
       "    <tr>\n",
       "      <th>3</th>\n",
       "      <td>0</td>\n",
       "      <td>1467811184</td>\n",
       "      <td>Mon Apr 06 22:19:57 PDT 2009</td>\n",
       "      <td>NO_QUERY</td>\n",
       "      <td>ElleCTF</td>\n",
       "      <td>my whole body feels itchy and like its on fire</td>\n",
       "    </tr>\n",
       "    <tr>\n",
       "      <th>4</th>\n",
       "      <td>0</td>\n",
       "      <td>1467811193</td>\n",
       "      <td>Mon Apr 06 22:19:57 PDT 2009</td>\n",
       "      <td>NO_QUERY</td>\n",
       "      <td>Karoli</td>\n",
       "      <td>@nationwideclass no, it's not behaving at all....</td>\n",
       "    </tr>\n",
       "  </tbody>\n",
       "</table>\n",
       "</div>"
      ],
      "text/plain": [
       "   target         ids                          date      flag  \\\n",
       "0       0  1467810369  Mon Apr 06 22:19:45 PDT 2009  NO_QUERY   \n",
       "1       0  1467810672  Mon Apr 06 22:19:49 PDT 2009  NO_QUERY   \n",
       "2       0  1467810917  Mon Apr 06 22:19:53 PDT 2009  NO_QUERY   \n",
       "3       0  1467811184  Mon Apr 06 22:19:57 PDT 2009  NO_QUERY   \n",
       "4       0  1467811193  Mon Apr 06 22:19:57 PDT 2009  NO_QUERY   \n",
       "\n",
       "              user                                              tweet  \n",
       "0  _TheSpecialOne_  @switchfoot http://twitpic.com/2y1zl - Awww, t...  \n",
       "1    scotthamilton  is upset that he can't update his Facebook by ...  \n",
       "2         mattycus  @Kenichan I dived many times for the ball. Man...  \n",
       "3          ElleCTF    my whole body feels itchy and like its on fire   \n",
       "4           Karoli  @nationwideclass no, it's not behaving at all....  "
      ]
     },
     "execution_count": 324,
     "metadata": {},
     "output_type": "execute_result"
    }
   ],
   "source": [
    "df = pd.read_csv(\"twitter_tweets.csv\", encoding=\"ISO-8859-1\", names=[\"target\", \"ids\", \"date\", \"flag\", \"user\", \"tweet\"])\n",
    "df.head()"
   ]
  },
  {
   "cell_type": "markdown",
   "id": "9150eae2",
   "metadata": {},
   "source": [
    "# Taking the required columns"
   ]
  },
  {
   "cell_type": "code",
   "execution_count": 325,
   "id": "75e38c51",
   "metadata": {},
   "outputs": [
    {
     "data": {
      "text/html": [
       "<div>\n",
       "<style scoped>\n",
       "    .dataframe tbody tr th:only-of-type {\n",
       "        vertical-align: middle;\n",
       "    }\n",
       "\n",
       "    .dataframe tbody tr th {\n",
       "        vertical-align: top;\n",
       "    }\n",
       "\n",
       "    .dataframe thead th {\n",
       "        text-align: right;\n",
       "    }\n",
       "</style>\n",
       "<table border=\"1\" class=\"dataframe\">\n",
       "  <thead>\n",
       "    <tr style=\"text-align: right;\">\n",
       "      <th></th>\n",
       "      <th>tweet</th>\n",
       "      <th>target</th>\n",
       "    </tr>\n",
       "  </thead>\n",
       "  <tbody>\n",
       "    <tr>\n",
       "      <th>0</th>\n",
       "      <td>@switchfoot http://twitpic.com/2y1zl - Awww, t...</td>\n",
       "      <td>0</td>\n",
       "    </tr>\n",
       "    <tr>\n",
       "      <th>1</th>\n",
       "      <td>is upset that he can't update his Facebook by ...</td>\n",
       "      <td>0</td>\n",
       "    </tr>\n",
       "    <tr>\n",
       "      <th>2</th>\n",
       "      <td>@Kenichan I dived many times for the ball. Man...</td>\n",
       "      <td>0</td>\n",
       "    </tr>\n",
       "    <tr>\n",
       "      <th>3</th>\n",
       "      <td>my whole body feels itchy and like its on fire</td>\n",
       "      <td>0</td>\n",
       "    </tr>\n",
       "    <tr>\n",
       "      <th>4</th>\n",
       "      <td>@nationwideclass no, it's not behaving at all....</td>\n",
       "      <td>0</td>\n",
       "    </tr>\n",
       "  </tbody>\n",
       "</table>\n",
       "</div>"
      ],
      "text/plain": [
       "                                               tweet  target\n",
       "0  @switchfoot http://twitpic.com/2y1zl - Awww, t...       0\n",
       "1  is upset that he can't update his Facebook by ...       0\n",
       "2  @Kenichan I dived many times for the ball. Man...       0\n",
       "3    my whole body feels itchy and like its on fire        0\n",
       "4  @nationwideclass no, it's not behaving at all....       0"
      ]
     },
     "execution_count": 325,
     "metadata": {},
     "output_type": "execute_result"
    }
   ],
   "source": [
    "required_columns = [\"tweet\", \"target\"]\n",
    "df = df[required_columns]\n",
    "df.head()"
   ]
  },
  {
   "cell_type": "markdown",
   "id": "f514eb2e",
   "metadata": {},
   "source": [
    "# Getting one with the data"
   ]
  },
  {
   "cell_type": "code",
   "execution_count": 326,
   "id": "093a8bb1",
   "metadata": {},
   "outputs": [
    {
     "name": "stdout",
     "output_type": "stream",
     "text": [
      "<class 'pandas.core.frame.DataFrame'>\n",
      "RangeIndex: 1600000 entries, 0 to 1599999\n",
      "Data columns (total 2 columns):\n",
      " #   Column  Non-Null Count    Dtype \n",
      "---  ------  --------------    ----- \n",
      " 0   tweet   1600000 non-null  object\n",
      " 1   target  1600000 non-null  int64 \n",
      "dtypes: int64(1), object(1)\n",
      "memory usage: 24.4+ MB\n"
     ]
    }
   ],
   "source": [
    "df.info()"
   ]
  },
  {
   "cell_type": "code",
   "execution_count": 327,
   "id": "50665724",
   "metadata": {},
   "outputs": [
    {
     "data": {
      "text/html": [
       "<div>\n",
       "<style scoped>\n",
       "    .dataframe tbody tr th:only-of-type {\n",
       "        vertical-align: middle;\n",
       "    }\n",
       "\n",
       "    .dataframe tbody tr th {\n",
       "        vertical-align: top;\n",
       "    }\n",
       "\n",
       "    .dataframe thead th {\n",
       "        text-align: right;\n",
       "    }\n",
       "</style>\n",
       "<table border=\"1\" class=\"dataframe\">\n",
       "  <thead>\n",
       "    <tr style=\"text-align: right;\">\n",
       "      <th></th>\n",
       "      <th>target</th>\n",
       "    </tr>\n",
       "  </thead>\n",
       "  <tbody>\n",
       "    <tr>\n",
       "      <th>count</th>\n",
       "      <td>1.600000e+06</td>\n",
       "    </tr>\n",
       "    <tr>\n",
       "      <th>mean</th>\n",
       "      <td>2.000000e+00</td>\n",
       "    </tr>\n",
       "    <tr>\n",
       "      <th>std</th>\n",
       "      <td>2.000001e+00</td>\n",
       "    </tr>\n",
       "    <tr>\n",
       "      <th>min</th>\n",
       "      <td>0.000000e+00</td>\n",
       "    </tr>\n",
       "    <tr>\n",
       "      <th>25%</th>\n",
       "      <td>0.000000e+00</td>\n",
       "    </tr>\n",
       "    <tr>\n",
       "      <th>50%</th>\n",
       "      <td>2.000000e+00</td>\n",
       "    </tr>\n",
       "    <tr>\n",
       "      <th>75%</th>\n",
       "      <td>4.000000e+00</td>\n",
       "    </tr>\n",
       "    <tr>\n",
       "      <th>max</th>\n",
       "      <td>4.000000e+00</td>\n",
       "    </tr>\n",
       "  </tbody>\n",
       "</table>\n",
       "</div>"
      ],
      "text/plain": [
       "             target\n",
       "count  1.600000e+06\n",
       "mean   2.000000e+00\n",
       "std    2.000001e+00\n",
       "min    0.000000e+00\n",
       "25%    0.000000e+00\n",
       "50%    2.000000e+00\n",
       "75%    4.000000e+00\n",
       "max    4.000000e+00"
      ]
     },
     "execution_count": 327,
     "metadata": {},
     "output_type": "execute_result"
    }
   ],
   "source": [
    "df.describe()"
   ]
  },
  {
   "cell_type": "code",
   "execution_count": 328,
   "id": "66d25bb9",
   "metadata": {},
   "outputs": [
    {
     "data": {
      "text/plain": [
       "(1600000, 2)"
      ]
     },
     "execution_count": 328,
     "metadata": {},
     "output_type": "execute_result"
    }
   ],
   "source": [
    "df.shape"
   ]
  },
  {
   "cell_type": "markdown",
   "id": "34ce8689",
   "metadata": {},
   "source": [
    "# Rename the target values from 0, 4 to negative, positive"
   ]
  },
  {
   "cell_type": "code",
   "execution_count": 329,
   "id": "ae8cc90c",
   "metadata": {},
   "outputs": [
    {
     "data": {
      "text/html": [
       "<div>\n",
       "<style scoped>\n",
       "    .dataframe tbody tr th:only-of-type {\n",
       "        vertical-align: middle;\n",
       "    }\n",
       "\n",
       "    .dataframe tbody tr th {\n",
       "        vertical-align: top;\n",
       "    }\n",
       "\n",
       "    .dataframe thead th {\n",
       "        text-align: right;\n",
       "    }\n",
       "</style>\n",
       "<table border=\"1\" class=\"dataframe\">\n",
       "  <thead>\n",
       "    <tr style=\"text-align: right;\">\n",
       "      <th></th>\n",
       "      <th>tweet</th>\n",
       "      <th>target</th>\n",
       "    </tr>\n",
       "  </thead>\n",
       "  <tbody>\n",
       "    <tr>\n",
       "      <th>0</th>\n",
       "      <td>@switchfoot http://twitpic.com/2y1zl - Awww, t...</td>\n",
       "      <td>negative</td>\n",
       "    </tr>\n",
       "    <tr>\n",
       "      <th>1</th>\n",
       "      <td>is upset that he can't update his Facebook by ...</td>\n",
       "      <td>negative</td>\n",
       "    </tr>\n",
       "    <tr>\n",
       "      <th>2</th>\n",
       "      <td>@Kenichan I dived many times for the ball. Man...</td>\n",
       "      <td>negative</td>\n",
       "    </tr>\n",
       "    <tr>\n",
       "      <th>3</th>\n",
       "      <td>my whole body feels itchy and like its on fire</td>\n",
       "      <td>negative</td>\n",
       "    </tr>\n",
       "    <tr>\n",
       "      <th>4</th>\n",
       "      <td>@nationwideclass no, it's not behaving at all....</td>\n",
       "      <td>negative</td>\n",
       "    </tr>\n",
       "  </tbody>\n",
       "</table>\n",
       "</div>"
      ],
      "text/plain": [
       "                                               tweet    target\n",
       "0  @switchfoot http://twitpic.com/2y1zl - Awww, t...  negative\n",
       "1  is upset that he can't update his Facebook by ...  negative\n",
       "2  @Kenichan I dived many times for the ball. Man...  negative\n",
       "3    my whole body feels itchy and like its on fire   negative\n",
       "4  @nationwideclass no, it's not behaving at all....  negative"
      ]
     },
     "execution_count": 329,
     "metadata": {},
     "output_type": "execute_result"
    }
   ],
   "source": [
    "df['target'] = df['target'].replace([0, 4], ['negative', 'positive'])\n",
    "df.head()"
   ]
  },
  {
   "cell_type": "markdown",
   "id": "4444fd7a",
   "metadata": {},
   "source": [
    "# Plot the graph to count the positive and negative sentiment tweets"
   ]
  },
  {
   "cell_type": "code",
   "execution_count": 330,
   "id": "01b65a34",
   "metadata": {},
   "outputs": [
    {
     "data": {
      "image/png": "[encoded data removed]",
      "text/plain": [
       "<Figure size 864x504 with 1 Axes>"
      ]
     },
     "metadata": {},
     "output_type": "display_data"
    }
   ],
   "source": [
    "plt.figure(figsize=(12, 7))\n",
    "plt.bar(df['target'].value_counts().index, df['target'].value_counts().values)\n",
    "plt.title('Total number of positive and negative tweets')\n",
    "plt.xlabel('Sentiment')\n",
    "plt.ylabel('No of records')\n",
    "plt.show()"
   ]
  },
  {
   "cell_type": "markdown",
   "id": "86e9e574",
   "metadata": {},
   "source": [
    "# Check for the null records and remove them"
   ]
  },
  {
   "cell_type": "code",
   "execution_count": 331,
   "id": "a284df06",
   "metadata": {},
   "outputs": [
    {
     "data": {
      "text/plain": [
       "tweet     0\n",
       "target    0\n",
       "dtype: int64"
      ]
     },
     "execution_count": 331,
     "metadata": {},
     "output_type": "execute_result"
    }
   ],
   "source": [
    "df.isnull().sum()"
   ]
  },
  {
   "cell_type": "markdown",
   "id": "4cefe02a",
   "metadata": {},
   "source": [
    "# Check for the duplicate records and remove them"
   ]
  },
  {
   "cell_type": "code",
   "execution_count": 332,
   "id": "8de2ef39",
   "metadata": {},
   "outputs": [
    {
     "data": {
      "text/html": [
       "<div>\n",
       "<style scoped>\n",
       "    .dataframe tbody tr th:only-of-type {\n",
       "        vertical-align: middle;\n",
       "    }\n",
       "\n",
       "    .dataframe tbody tr th {\n",
       "        vertical-align: top;\n",
       "    }\n",
       "\n",
       "    .dataframe thead th {\n",
       "        text-align: right;\n",
       "    }\n",
       "</style>\n",
       "<table border=\"1\" class=\"dataframe\">\n",
       "  <thead>\n",
       "    <tr style=\"text-align: right;\">\n",
       "      <th></th>\n",
       "      <th>tweet</th>\n",
       "      <th>target</th>\n",
       "    </tr>\n",
       "  </thead>\n",
       "  <tbody>\n",
       "    <tr>\n",
       "      <th>1940</th>\n",
       "      <td>and so the editing of 3000 wedding shots begins</td>\n",
       "      <td>negative</td>\n",
       "    </tr>\n",
       "    <tr>\n",
       "      <th>2149</th>\n",
       "      <td>im lonely  keep me company! 22 female, california</td>\n",
       "      <td>negative</td>\n",
       "    </tr>\n",
       "    <tr>\n",
       "      <th>3743</th>\n",
       "      <td>I'm not liking that new iTunes Pricing at all....</td>\n",
       "      <td>negative</td>\n",
       "    </tr>\n",
       "    <tr>\n",
       "      <th>3746</th>\n",
       "      <td>cant eat, drink or breath properly thanks to t...</td>\n",
       "      <td>negative</td>\n",
       "    </tr>\n",
       "    <tr>\n",
       "      <th>4163</th>\n",
       "      <td>has a cold</td>\n",
       "      <td>negative</td>\n",
       "    </tr>\n",
       "    <tr>\n",
       "      <th>...</th>\n",
       "      <td>...</td>\n",
       "      <td>...</td>\n",
       "    </tr>\n",
       "    <tr>\n",
       "      <th>1599450</th>\n",
       "      <td>Good morning!</td>\n",
       "      <td>positive</td>\n",
       "    </tr>\n",
       "    <tr>\n",
       "      <th>1599501</th>\n",
       "      <td>getting used to twitter</td>\n",
       "      <td>positive</td>\n",
       "    </tr>\n",
       "    <tr>\n",
       "      <th>1599531</th>\n",
       "      <td>@KhloeKardashian Definitely my Mom. And Angeli...</td>\n",
       "      <td>positive</td>\n",
       "    </tr>\n",
       "    <tr>\n",
       "      <th>1599678</th>\n",
       "      <td>goodmorning</td>\n",
       "      <td>positive</td>\n",
       "    </tr>\n",
       "    <tr>\n",
       "      <th>1599768</th>\n",
       "      <td>Good morning everyone.</td>\n",
       "      <td>positive</td>\n",
       "    </tr>\n",
       "  </tbody>\n",
       "</table>\n",
       "<p>16309 rows × 2 columns</p>\n",
       "</div>"
      ],
      "text/plain": [
       "                                                     tweet    target\n",
       "1940      and so the editing of 3000 wedding shots begins   negative\n",
       "2149     im lonely  keep me company! 22 female, california  negative\n",
       "3743     I'm not liking that new iTunes Pricing at all....  negative\n",
       "3746     cant eat, drink or breath properly thanks to t...  negative\n",
       "4163                                           has a cold   negative\n",
       "...                                                    ...       ...\n",
       "1599450                                     Good morning!   positive\n",
       "1599501                           getting used to twitter   positive\n",
       "1599531  @KhloeKardashian Definitely my Mom. And Angeli...  positive\n",
       "1599678                                       goodmorning   positive\n",
       "1599768                            Good morning everyone.   positive\n",
       "\n",
       "[16309 rows x 2 columns]"
      ]
     },
     "execution_count": 332,
     "metadata": {},
     "output_type": "execute_result"
    }
   ],
   "source": [
    "df[df.duplicated()]"
   ]
  },
  {
   "cell_type": "code",
   "execution_count": 333,
   "id": "e4a371d3",
   "metadata": {},
   "outputs": [],
   "source": [
    "df.drop_duplicates(inplace=True)"
   ]
  },
  {
   "cell_type": "code",
   "execution_count": 334,
   "id": "3f054f81",
   "metadata": {},
   "outputs": [
    {
     "data": {
      "text/plain": [
       "(1583691, 2)"
      ]
     },
     "execution_count": 334,
     "metadata": {},
     "output_type": "execute_result"
    }
   ],
   "source": [
    "df.shape"
   ]
  },
  {
   "cell_type": "markdown",
   "id": "0087a17b",
   "metadata": {},
   "source": [
    "# Function to plot the graph between number of records and given column"
   ]
  },
  {
   "cell_type": "code",
   "execution_count": 335,
   "id": "dc3138c9",
   "metadata": {},
   "outputs": [],
   "source": [
    "def plot_count(df, col, label):\n",
    "    plt.figure(figsize=(12, 7))\n",
    "    plt.plot(df[col], label=label)\n",
    "    plt.legend()\n",
    "    plt.xlabel('Number of review')\n",
    "    plt.ylabel('Count')\n",
    "    plt.show()"
   ]
  },
  {
   "cell_type": "markdown",
   "id": "8d0aed6d",
   "metadata": {},
   "source": [
    "# Counting the number of characters in each tweets"
   ]
  },
  {
   "cell_type": "code",
   "execution_count": 336,
   "id": "1f874327",
   "metadata": {},
   "outputs": [],
   "source": [
    "df['char_count'] = df['tweet'].str.len().values"
   ]
  },
  {
   "cell_type": "code",
   "execution_count": 337,
   "id": "75f66a3c",
   "metadata": {},
   "outputs": [
    {
     "data": {
      "text/html": [
       "<div>\n",
       "<style scoped>\n",
       "    .dataframe tbody tr th:only-of-type {\n",
       "        vertical-align: middle;\n",
       "    }\n",
       "\n",
       "    .dataframe tbody tr th {\n",
       "        vertical-align: top;\n",
       "    }\n",
       "\n",
       "    .dataframe thead th {\n",
       "        text-align: right;\n",
       "    }\n",
       "</style>\n",
       "<table border=\"1\" class=\"dataframe\">\n",
       "  <thead>\n",
       "    <tr style=\"text-align: right;\">\n",
       "      <th></th>\n",
       "      <th>tweet</th>\n",
       "      <th>target</th>\n",
       "      <th>char_count</th>\n",
       "    </tr>\n",
       "  </thead>\n",
       "  <tbody>\n",
       "    <tr>\n",
       "      <th>0</th>\n",
       "      <td>@switchfoot http://twitpic.com/2y1zl - Awww, t...</td>\n",
       "      <td>negative</td>\n",
       "      <td>115</td>\n",
       "    </tr>\n",
       "    <tr>\n",
       "      <th>1</th>\n",
       "      <td>is upset that he can't update his Facebook by ...</td>\n",
       "      <td>negative</td>\n",
       "      <td>111</td>\n",
       "    </tr>\n",
       "    <tr>\n",
       "      <th>2</th>\n",
       "      <td>@Kenichan I dived many times for the ball. Man...</td>\n",
       "      <td>negative</td>\n",
       "      <td>89</td>\n",
       "    </tr>\n",
       "    <tr>\n",
       "      <th>3</th>\n",
       "      <td>my whole body feels itchy and like its on fire</td>\n",
       "      <td>negative</td>\n",
       "      <td>47</td>\n",
       "    </tr>\n",
       "    <tr>\n",
       "      <th>4</th>\n",
       "      <td>@nationwideclass no, it's not behaving at all....</td>\n",
       "      <td>negative</td>\n",
       "      <td>111</td>\n",
       "    </tr>\n",
       "  </tbody>\n",
       "</table>\n",
       "</div>"
      ],
      "text/plain": [
       "                                               tweet    target  char_count\n",
       "0  @switchfoot http://twitpic.com/2y1zl - Awww, t...  negative         115\n",
       "1  is upset that he can't update his Facebook by ...  negative         111\n",
       "2  @Kenichan I dived many times for the ball. Man...  negative          89\n",
       "3    my whole body feels itchy and like its on fire   negative          47\n",
       "4  @nationwideclass no, it's not behaving at all....  negative         111"
      ]
     },
     "execution_count": 337,
     "metadata": {},
     "output_type": "execute_result"
    }
   ],
   "source": [
    "df.head()"
   ]
  },
  {
   "cell_type": "code",
   "execution_count": 338,
   "id": "b102c5e8",
   "metadata": {},
   "outputs": [
    {
     "data": {
      "image/png": "[encoded data removed]",
      "text/plain": [
       "<Figure size 864x504 with 1 Axes>"
      ]
     },
     "metadata": {},
     "output_type": "display_data"
    }
   ],
   "source": [
    "plot_count(df, 'char_count', 'Number of characters')"
   ]
  },
  {
   "cell_type": "markdown",
   "id": "dab98c28",
   "metadata": {},
   "source": [
    "### Removing all the records that has more than 175 characters"
   ]
  },
  {
   "cell_type": "code",
   "execution_count": 339,
   "id": "3ed1ed06",
   "metadata": {},
   "outputs": [],
   "source": [
    "df = df[df['char_count'] < 175]"
   ]
  },
  {
   "cell_type": "code",
   "execution_count": 340,
   "id": "383c4c90",
   "metadata": {},
   "outputs": [
    {
     "data": {
      "image/png": "[encoded data removed]",
      "text/plain": [
       "<Figure size 864x504 with 1 Axes>"
      ]
     },
     "metadata": {},
     "output_type": "display_data"
    }
   ],
   "source": [
    "plot_count(df, 'char_count', 'Number of characters')"
   ]
  },
  {
   "cell_type": "code",
   "execution_count": 341,
   "id": "27beedb4",
   "metadata": {},
   "outputs": [
    {
     "data": {
      "text/plain": [
       "(1583451, 3)"
      ]
     },
     "execution_count": 341,
     "metadata": {},
     "output_type": "execute_result"
    }
   ],
   "source": [
    "df.shape"
   ]
  },
  {
   "cell_type": "markdown",
   "id": "91547390",
   "metadata": {},
   "source": [
    "# Count the number of words in each review"
   ]
  },
  {
   "cell_type": "code",
   "execution_count": 342,
   "id": "f79d4801",
   "metadata": {},
   "outputs": [],
   "source": [
    "df['word_count'] = df['tweet'].apply(lambda x: len(x.split()))"
   ]
  },
  {
   "cell_type": "code",
   "execution_count": 343,
   "id": "fa2c4568",
   "metadata": {},
   "outputs": [
    {
     "data": {
      "text/html": [
       "<div>\n",
       "<style scoped>\n",
       "    .dataframe tbody tr th:only-of-type {\n",
       "        vertical-align: middle;\n",
       "    }\n",
       "\n",
       "    .dataframe tbody tr th {\n",
       "        vertical-align: top;\n",
       "    }\n",
       "\n",
       "    .dataframe thead th {\n",
       "        text-align: right;\n",
       "    }\n",
       "</style>\n",
       "<table border=\"1\" class=\"dataframe\">\n",
       "  <thead>\n",
       "    <tr style=\"text-align: right;\">\n",
       "      <th></th>\n",
       "      <th>tweet</th>\n",
       "      <th>target</th>\n",
       "      <th>char_count</th>\n",
       "      <th>word_count</th>\n",
       "    </tr>\n",
       "  </thead>\n",
       "  <tbody>\n",
       "    <tr>\n",
       "      <th>0</th>\n",
       "      <td>@switchfoot http://twitpic.com/2y1zl - Awww, t...</td>\n",
       "      <td>negative</td>\n",
       "      <td>115</td>\n",
       "      <td>19</td>\n",
       "    </tr>\n",
       "    <tr>\n",
       "      <th>1</th>\n",
       "      <td>is upset that he can't update his Facebook by ...</td>\n",
       "      <td>negative</td>\n",
       "      <td>111</td>\n",
       "      <td>21</td>\n",
       "    </tr>\n",
       "    <tr>\n",
       "      <th>2</th>\n",
       "      <td>@Kenichan I dived many times for the ball. Man...</td>\n",
       "      <td>negative</td>\n",
       "      <td>89</td>\n",
       "      <td>18</td>\n",
       "    </tr>\n",
       "    <tr>\n",
       "      <th>3</th>\n",
       "      <td>my whole body feels itchy and like its on fire</td>\n",
       "      <td>negative</td>\n",
       "      <td>47</td>\n",
       "      <td>10</td>\n",
       "    </tr>\n",
       "    <tr>\n",
       "      <th>4</th>\n",
       "      <td>@nationwideclass no, it's not behaving at all....</td>\n",
       "      <td>negative</td>\n",
       "      <td>111</td>\n",
       "      <td>21</td>\n",
       "    </tr>\n",
       "  </tbody>\n",
       "</table>\n",
       "</div>"
      ],
      "text/plain": [
       "                                               tweet    target  char_count  \\\n",
       "0  @switchfoot http://twitpic.com/2y1zl - Awww, t...  negative         115   \n",
       "1  is upset that he can't update his Facebook by ...  negative         111   \n",
       "2  @Kenichan I dived many times for the ball. Man...  negative          89   \n",
       "3    my whole body feels itchy and like its on fire   negative          47   \n",
       "4  @nationwideclass no, it's not behaving at all....  negative         111   \n",
       "\n",
       "   word_count  \n",
       "0          19  \n",
       "1          21  \n",
       "2          18  \n",
       "3          10  \n",
       "4          21  "
      ]
     },
     "execution_count": 343,
     "metadata": {},
     "output_type": "execute_result"
    }
   ],
   "source": [
    "df.head()"
   ]
  },
  {
   "cell_type": "code",
   "execution_count": 344,
   "id": "31a44703",
   "metadata": {},
   "outputs": [
    {
     "data": {
      "image/png": "[encoded data removed]",
      "text/plain": [
       "<Figure size 864x504 with 1 Axes>"
      ]
     },
     "metadata": {},
     "output_type": "display_data"
    }
   ],
   "source": [
    "plot_count(df, 'word_count', 'Number of words')"
   ]
  },
  {
   "cell_type": "markdown",
   "id": "f443b5f7",
   "metadata": {},
   "source": [
    "### Removing all the records that has more than 35 words"
   ]
  },
  {
   "cell_type": "code",
   "execution_count": 345,
   "id": "d3f6e102",
   "metadata": {},
   "outputs": [],
   "source": [
    "df = df[df['word_count'] < 35]"
   ]
  },
  {
   "cell_type": "code",
   "execution_count": 346,
   "id": "0288d2c3",
   "metadata": {},
   "outputs": [
    {
     "data": {
      "text/html": [
       "<div>\n",
       "<style scoped>\n",
       "    .dataframe tbody tr th:only-of-type {\n",
       "        vertical-align: middle;\n",
       "    }\n",
       "\n",
       "    .dataframe tbody tr th {\n",
       "        vertical-align: top;\n",
       "    }\n",
       "\n",
       "    .dataframe thead th {\n",
       "        text-align: right;\n",
       "    }\n",
       "</style>\n",
       "<table border=\"1\" class=\"dataframe\">\n",
       "  <thead>\n",
       "    <tr style=\"text-align: right;\">\n",
       "      <th></th>\n",
       "      <th>tweet</th>\n",
       "      <th>target</th>\n",
       "      <th>char_count</th>\n",
       "      <th>word_count</th>\n",
       "    </tr>\n",
       "  </thead>\n",
       "  <tbody>\n",
       "    <tr>\n",
       "      <th>0</th>\n",
       "      <td>@switchfoot http://twitpic.com/2y1zl - Awww, t...</td>\n",
       "      <td>negative</td>\n",
       "      <td>115</td>\n",
       "      <td>19</td>\n",
       "    </tr>\n",
       "    <tr>\n",
       "      <th>1</th>\n",
       "      <td>is upset that he can't update his Facebook by ...</td>\n",
       "      <td>negative</td>\n",
       "      <td>111</td>\n",
       "      <td>21</td>\n",
       "    </tr>\n",
       "    <tr>\n",
       "      <th>2</th>\n",
       "      <td>@Kenichan I dived many times for the ball. Man...</td>\n",
       "      <td>negative</td>\n",
       "      <td>89</td>\n",
       "      <td>18</td>\n",
       "    </tr>\n",
       "    <tr>\n",
       "      <th>3</th>\n",
       "      <td>my whole body feels itchy and like its on fire</td>\n",
       "      <td>negative</td>\n",
       "      <td>47</td>\n",
       "      <td>10</td>\n",
       "    </tr>\n",
       "    <tr>\n",
       "      <th>4</th>\n",
       "      <td>@nationwideclass no, it's not behaving at all....</td>\n",
       "      <td>negative</td>\n",
       "      <td>111</td>\n",
       "      <td>21</td>\n",
       "    </tr>\n",
       "  </tbody>\n",
       "</table>\n",
       "</div>"
      ],
      "text/plain": [
       "                                               tweet    target  char_count  \\\n",
       "0  @switchfoot http://twitpic.com/2y1zl - Awww, t...  negative         115   \n",
       "1  is upset that he can't update his Facebook by ...  negative         111   \n",
       "2  @Kenichan I dived many times for the ball. Man...  negative          89   \n",
       "3    my whole body feels itchy and like its on fire   negative          47   \n",
       "4  @nationwideclass no, it's not behaving at all....  negative         111   \n",
       "\n",
       "   word_count  \n",
       "0          19  \n",
       "1          21  \n",
       "2          18  \n",
       "3          10  \n",
       "4          21  "
      ]
     },
     "execution_count": 346,
     "metadata": {},
     "output_type": "execute_result"
    }
   ],
   "source": [
    "df.head()"
   ]
  },
  {
   "cell_type": "code",
   "execution_count": 347,
   "id": "77d2e61a",
   "metadata": {},
   "outputs": [
    {
     "data": {
      "text/plain": [
       "(1583410, 4)"
      ]
     },
     "execution_count": 347,
     "metadata": {},
     "output_type": "execute_result"
    }
   ],
   "source": [
    "df.shape"
   ]
  },
  {
   "cell_type": "code",
   "execution_count": 348,
   "id": "44075e98",
   "metadata": {},
   "outputs": [
    {
     "data": {
      "image/png": "[encoded data removed]",
      "text/plain": [
       "<Figure size 864x504 with 1 Axes>"
      ]
     },
     "metadata": {},
     "output_type": "display_data"
    }
   ],
   "source": [
    "plot_count(df, 'word_count', 'Number of words')"
   ]
  },
  {
   "cell_type": "markdown",
   "id": "8ce3dc75",
   "metadata": {},
   "source": [
    "# Take the sample data from all the data"
   ]
  },
  {
   "cell_type": "code",
   "execution_count": 349,
   "id": "f03cf058",
   "metadata": {},
   "outputs": [],
   "source": [
    "df = df.sample(30000, random_state=42)\n",
    "df = df.sample(frac=1)"
   ]
  },
  {
   "cell_type": "code",
   "execution_count": 350,
   "id": "f084875c",
   "metadata": {},
   "outputs": [],
   "source": [
    "df.reset_index(inplace=True, drop=True)"
   ]
  },
  {
   "cell_type": "code",
   "execution_count": 351,
   "id": "9c60c954",
   "metadata": {},
   "outputs": [
    {
     "data": {
      "text/plain": [
       "(30000, 4)"
      ]
     },
     "execution_count": 351,
     "metadata": {},
     "output_type": "execute_result"
    }
   ],
   "source": [
    "df.shape"
   ]
  },
  {
   "cell_type": "markdown",
   "id": "84b81b1c",
   "metadata": {},
   "source": [
    "# Cleaning the tweets"
   ]
  },
  {
   "cell_type": "code",
   "execution_count": 352,
   "id": "9386e7ee",
   "metadata": {},
   "outputs": [],
   "source": [
    "tokenizer = RegexpTokenizer(r\"\\w+\")\n",
    "lemmatizer = WordNetLemmatizer()"
   ]
  },
  {
   "cell_type": "code",
   "execution_count": 353,
   "id": "fe7b7c36",
   "metadata": {},
   "outputs": [],
   "source": [
    "def cleaning(row):\n",
    "    row = row.lower()\n",
    "    words = tokenizer.tokenize(row)\n",
    "    words = [lemmatizer.lemmatize(word.strip()) for word in words if word not in stopwords.words('english')]\n",
    "    return ' '.join(words)"
   ]
  },
  {
   "cell_type": "code",
   "execution_count": 354,
   "id": "4e63244a",
   "metadata": {},
   "outputs": [
    {
     "name": "stdout",
     "output_type": "stream",
     "text": [
      "Wall time: 6min 8s\n"
     ]
    }
   ],
   "source": [
    "%%time\n",
    "df['clean_tweet'] = df['tweet'].apply(cleaning)"
   ]
  },
  {
   "cell_type": "code",
   "execution_count": 355,
   "id": "090c9709",
   "metadata": {},
   "outputs": [
    {
     "data": {
      "text/html": [
       "<div>\n",
       "<style scoped>\n",
       "    .dataframe tbody tr th:only-of-type {\n",
       "        vertical-align: middle;\n",
       "    }\n",
       "\n",
       "    .dataframe tbody tr th {\n",
       "        vertical-align: top;\n",
       "    }\n",
       "\n",
       "    .dataframe thead th {\n",
       "        text-align: right;\n",
       "    }\n",
       "</style>\n",
       "<table border=\"1\" class=\"dataframe\">\n",
       "  <thead>\n",
       "    <tr style=\"text-align: right;\">\n",
       "      <th></th>\n",
       "      <th>tweet</th>\n",
       "      <th>target</th>\n",
       "      <th>char_count</th>\n",
       "      <th>word_count</th>\n",
       "      <th>clean_tweet</th>\n",
       "    </tr>\n",
       "  </thead>\n",
       "  <tbody>\n",
       "    <tr>\n",
       "      <th>0</th>\n",
       "      <td>I found out just how allergic to cats I am. We...</td>\n",
       "      <td>negative</td>\n",
       "      <td>102</td>\n",
       "      <td>21</td>\n",
       "      <td>found allergic cat weird since never allergic ...</td>\n",
       "    </tr>\n",
       "    <tr>\n",
       "      <th>1</th>\n",
       "      <td>YES YES finaly the weekend is here, pity about...</td>\n",
       "      <td>positive</td>\n",
       "      <td>123</td>\n",
       "      <td>24</td>\n",
       "      <td>yes yes finaly weekend pity bad weather hey fi...</td>\n",
       "    </tr>\n",
       "    <tr>\n",
       "      <th>2</th>\n",
       "      <td>mr ambulance you are hurting my kitties ears. ...</td>\n",
       "      <td>negative</td>\n",
       "      <td>79</td>\n",
       "      <td>14</td>\n",
       "      <td>mr ambulance hurting kitty ear hope patient ok...</td>\n",
       "    </tr>\n",
       "    <tr>\n",
       "      <th>3</th>\n",
       "      <td>@keith75m  Up is about a little old man who fl...</td>\n",
       "      <td>positive</td>\n",
       "      <td>98</td>\n",
       "      <td>19</td>\n",
       "      <td>keith75m little old man float house away bunch...</td>\n",
       "    </tr>\n",
       "    <tr>\n",
       "      <th>4</th>\n",
       "      <td>.....listening to Coldplay</td>\n",
       "      <td>positive</td>\n",
       "      <td>27</td>\n",
       "      <td>3</td>\n",
       "      <td>listening coldplay</td>\n",
       "    </tr>\n",
       "  </tbody>\n",
       "</table>\n",
       "</div>"
      ],
      "text/plain": [
       "                                               tweet    target  char_count  \\\n",
       "0  I found out just how allergic to cats I am. We...  negative         102   \n",
       "1  YES YES finaly the weekend is here, pity about...  positive         123   \n",
       "2  mr ambulance you are hurting my kitties ears. ...  negative          79   \n",
       "3  @keith75m  Up is about a little old man who fl...  positive          98   \n",
       "4                        .....listening to Coldplay   positive          27   \n",
       "\n",
       "   word_count                                        clean_tweet  \n",
       "0          21  found allergic cat weird since never allergic ...  \n",
       "1          24  yes yes finaly weekend pity bad weather hey fi...  \n",
       "2          14  mr ambulance hurting kitty ear hope patient ok...  \n",
       "3          19  keith75m little old man float house away bunch...  \n",
       "4           3                                 listening coldplay  "
      ]
     },
     "execution_count": 355,
     "metadata": {},
     "output_type": "execute_result"
    }
   ],
   "source": [
    "df.head()"
   ]
  },
  {
   "cell_type": "markdown",
   "id": "55eace36",
   "metadata": {},
   "source": [
    "# Plot the graph to count the positive and negative sentiment tweets after sampling"
   ]
  },
  {
   "cell_type": "code",
   "execution_count": 356,
   "id": "9d158a78",
   "metadata": {},
   "outputs": [
    {
     "data": {
      "image/png": "[encoded data removed]",
      "text/plain": [
       "<Figure size 864x504 with 1 Axes>"
      ]
     },
     "metadata": {},
     "output_type": "display_data"
    }
   ],
   "source": [
    "plt.figure(figsize=(12, 7))\n",
    "plt.bar(df['target'].value_counts().index, df['target'].value_counts().values)\n",
    "plt.title('Total number of positive and negative tweets')\n",
    "plt.xlabel('Sentiment')\n",
    "plt.ylabel('No of records')\n",
    "plt.show()"
   ]
  },
  {
   "cell_type": "code",
   "execution_count": 357,
   "id": "e9e08b14",
   "metadata": {},
   "outputs": [
    {
     "data": {
      "text/plain": [
       "negative    15005\n",
       "positive    14995\n",
       "Name: target, dtype: int64"
      ]
     },
     "execution_count": 357,
     "metadata": {},
     "output_type": "execute_result"
    }
   ],
   "source": [
    "df['target'].value_counts()"
   ]
  },
  {
   "cell_type": "markdown",
   "id": "1368c8e5",
   "metadata": {},
   "source": [
    "# Word count of clean tweets"
   ]
  },
  {
   "cell_type": "code",
   "execution_count": 358,
   "id": "222541e5",
   "metadata": {},
   "outputs": [],
   "source": [
    "df['clean_word_count'] = df['clean_tweet'].apply(lambda x: len(x.split()))"
   ]
  },
  {
   "cell_type": "code",
   "execution_count": 359,
   "id": "540e704e",
   "metadata": {},
   "outputs": [
    {
     "data": {
      "text/html": [
       "<div>\n",
       "<style scoped>\n",
       "    .dataframe tbody tr th:only-of-type {\n",
       "        vertical-align: middle;\n",
       "    }\n",
       "\n",
       "    .dataframe tbody tr th {\n",
       "        vertical-align: top;\n",
       "    }\n",
       "\n",
       "    .dataframe thead th {\n",
       "        text-align: right;\n",
       "    }\n",
       "</style>\n",
       "<table border=\"1\" class=\"dataframe\">\n",
       "  <thead>\n",
       "    <tr style=\"text-align: right;\">\n",
       "      <th></th>\n",
       "      <th>tweet</th>\n",
       "      <th>target</th>\n",
       "      <th>char_count</th>\n",
       "      <th>word_count</th>\n",
       "      <th>clean_tweet</th>\n",
       "      <th>clean_word_count</th>\n",
       "    </tr>\n",
       "  </thead>\n",
       "  <tbody>\n",
       "    <tr>\n",
       "      <th>0</th>\n",
       "      <td>I found out just how allergic to cats I am. We...</td>\n",
       "      <td>negative</td>\n",
       "      <td>102</td>\n",
       "      <td>21</td>\n",
       "      <td>found allergic cat weird since never allergic ...</td>\n",
       "      <td>9</td>\n",
       "    </tr>\n",
       "    <tr>\n",
       "      <th>1</th>\n",
       "      <td>YES YES finaly the weekend is here, pity about...</td>\n",
       "      <td>positive</td>\n",
       "      <td>123</td>\n",
       "      <td>24</td>\n",
       "      <td>yes yes finaly weekend pity bad weather hey fi...</td>\n",
       "      <td>11</td>\n",
       "    </tr>\n",
       "    <tr>\n",
       "      <th>2</th>\n",
       "      <td>mr ambulance you are hurting my kitties ears. ...</td>\n",
       "      <td>negative</td>\n",
       "      <td>79</td>\n",
       "      <td>14</td>\n",
       "      <td>mr ambulance hurting kitty ear hope patient ok...</td>\n",
       "      <td>9</td>\n",
       "    </tr>\n",
       "    <tr>\n",
       "      <th>3</th>\n",
       "      <td>@keith75m  Up is about a little old man who fl...</td>\n",
       "      <td>positive</td>\n",
       "      <td>98</td>\n",
       "      <td>19</td>\n",
       "      <td>keith75m little old man float house away bunch...</td>\n",
       "      <td>10</td>\n",
       "    </tr>\n",
       "    <tr>\n",
       "      <th>4</th>\n",
       "      <td>.....listening to Coldplay</td>\n",
       "      <td>positive</td>\n",
       "      <td>27</td>\n",
       "      <td>3</td>\n",
       "      <td>listening coldplay</td>\n",
       "      <td>2</td>\n",
       "    </tr>\n",
       "  </tbody>\n",
       "</table>\n",
       "</div>"
      ],
      "text/plain": [
       "                                               tweet    target  char_count  \\\n",
       "0  I found out just how allergic to cats I am. We...  negative         102   \n",
       "1  YES YES finaly the weekend is here, pity about...  positive         123   \n",
       "2  mr ambulance you are hurting my kitties ears. ...  negative          79   \n",
       "3  @keith75m  Up is about a little old man who fl...  positive          98   \n",
       "4                        .....listening to Coldplay   positive          27   \n",
       "\n",
       "   word_count                                        clean_tweet  \\\n",
       "0          21  found allergic cat weird since never allergic ...   \n",
       "1          24  yes yes finaly weekend pity bad weather hey fi...   \n",
       "2          14  mr ambulance hurting kitty ear hope patient ok...   \n",
       "3          19  keith75m little old man float house away bunch...   \n",
       "4           3                                 listening coldplay   \n",
       "\n",
       "   clean_word_count  \n",
       "0                 9  \n",
       "1                11  \n",
       "2                 9  \n",
       "3                10  \n",
       "4                 2  "
      ]
     },
     "execution_count": 359,
     "metadata": {},
     "output_type": "execute_result"
    }
   ],
   "source": [
    "df.head()"
   ]
  },
  {
   "cell_type": "code",
   "execution_count": 360,
   "id": "6b0940c2",
   "metadata": {},
   "outputs": [
    {
     "data": {
      "text/plain": [
       "(30000, 6)"
      ]
     },
     "execution_count": 360,
     "metadata": {},
     "output_type": "execute_result"
    }
   ],
   "source": [
    "df.shape"
   ]
  },
  {
   "cell_type": "code",
   "execution_count": 361,
   "id": "4e6cf644",
   "metadata": {},
   "outputs": [
    {
     "data": {
      "image/png": "[encoded data removed]",
      "text/plain": [
       "<Figure size 864x504 with 1 Axes>"
      ]
     },
     "metadata": {},
     "output_type": "display_data"
    }
   ],
   "source": [
    "plot_count(df, 'clean_word_count', 'Number of word in clean tweets')"
   ]
  },
  {
   "cell_type": "markdown",
   "id": "b9e27d7e",
   "metadata": {},
   "source": [
    "### Removing all the records that has more than 20 words and less than 3"
   ]
  },
  {
   "cell_type": "code",
   "execution_count": 362,
   "id": "1a72b92a",
   "metadata": {},
   "outputs": [],
   "source": [
    "df = df[df['clean_word_count'] <= 20]"
   ]
  },
  {
   "cell_type": "code",
   "execution_count": 363,
   "id": "ea2fac10",
   "metadata": {},
   "outputs": [],
   "source": [
    "df = df[df['clean_word_count'] >= 3]"
   ]
  },
  {
   "cell_type": "code",
   "execution_count": 364,
   "id": "da870af0",
   "metadata": {},
   "outputs": [
    {
     "data": {
      "text/plain": [
       "(28004, 6)"
      ]
     },
     "execution_count": 364,
     "metadata": {},
     "output_type": "execute_result"
    }
   ],
   "source": [
    "df.shape"
   ]
  },
  {
   "cell_type": "code",
   "execution_count": 365,
   "id": "21cfe1a8",
   "metadata": {},
   "outputs": [
    {
     "data": {
      "image/png": "[encoded data removed]",
      "text/plain": [
       "<Figure size 864x504 with 1 Axes>"
      ]
     },
     "metadata": {},
     "output_type": "display_data"
    }
   ],
   "source": [
    "plot_count(df, 'clean_word_count', 'Number of word in clean tweets')"
   ]
  },
  {
   "cell_type": "markdown",
   "id": "5a85ef38",
   "metadata": {},
   "source": [
    "# Encode the labels using Label Encoder"
   ]
  },
  {
   "cell_type": "code",
   "execution_count": 366,
   "id": "40b44688",
   "metadata": {},
   "outputs": [],
   "source": [
    "le = LabelEncoder()\n",
    "df['target'] = le.fit_transform(df['target'])"
   ]
  },
  {
   "cell_type": "code",
   "execution_count": 367,
   "id": "aa9a8350",
   "metadata": {},
   "outputs": [
    {
     "data": {
      "text/html": [
       "<div>\n",
       "<style scoped>\n",
       "    .dataframe tbody tr th:only-of-type {\n",
       "        vertical-align: middle;\n",
       "    }\n",
       "\n",
       "    .dataframe tbody tr th {\n",
       "        vertical-align: top;\n",
       "    }\n",
       "\n",
       "    .dataframe thead th {\n",
       "        text-align: right;\n",
       "    }\n",
       "</style>\n",
       "<table border=\"1\" class=\"dataframe\">\n",
       "  <thead>\n",
       "    <tr style=\"text-align: right;\">\n",
       "      <th></th>\n",
       "      <th>tweet</th>\n",
       "      <th>target</th>\n",
       "      <th>char_count</th>\n",
       "      <th>word_count</th>\n",
       "      <th>clean_tweet</th>\n",
       "      <th>clean_word_count</th>\n",
       "    </tr>\n",
       "  </thead>\n",
       "  <tbody>\n",
       "    <tr>\n",
       "      <th>0</th>\n",
       "      <td>I found out just how allergic to cats I am. We...</td>\n",
       "      <td>0</td>\n",
       "      <td>102</td>\n",
       "      <td>21</td>\n",
       "      <td>found allergic cat weird since never allergic ...</td>\n",
       "      <td>9</td>\n",
       "    </tr>\n",
       "    <tr>\n",
       "      <th>1</th>\n",
       "      <td>YES YES finaly the weekend is here, pity about...</td>\n",
       "      <td>1</td>\n",
       "      <td>123</td>\n",
       "      <td>24</td>\n",
       "      <td>yes yes finaly weekend pity bad weather hey fi...</td>\n",
       "      <td>11</td>\n",
       "    </tr>\n",
       "    <tr>\n",
       "      <th>2</th>\n",
       "      <td>mr ambulance you are hurting my kitties ears. ...</td>\n",
       "      <td>0</td>\n",
       "      <td>79</td>\n",
       "      <td>14</td>\n",
       "      <td>mr ambulance hurting kitty ear hope patient ok...</td>\n",
       "      <td>9</td>\n",
       "    </tr>\n",
       "    <tr>\n",
       "      <th>3</th>\n",
       "      <td>@keith75m  Up is about a little old man who fl...</td>\n",
       "      <td>1</td>\n",
       "      <td>98</td>\n",
       "      <td>19</td>\n",
       "      <td>keith75m little old man float house away bunch...</td>\n",
       "      <td>10</td>\n",
       "    </tr>\n",
       "    <tr>\n",
       "      <th>5</th>\n",
       "      <td>lookin for a driving school just got my permit...</td>\n",
       "      <td>1</td>\n",
       "      <td>83</td>\n",
       "      <td>15</td>\n",
       "      <td>lookin driving school got permit juiced like w...</td>\n",
       "      <td>9</td>\n",
       "    </tr>\n",
       "  </tbody>\n",
       "</table>\n",
       "</div>"
      ],
      "text/plain": [
       "                                               tweet  target  char_count  \\\n",
       "0  I found out just how allergic to cats I am. We...       0         102   \n",
       "1  YES YES finaly the weekend is here, pity about...       1         123   \n",
       "2  mr ambulance you are hurting my kitties ears. ...       0          79   \n",
       "3  @keith75m  Up is about a little old man who fl...       1          98   \n",
       "5  lookin for a driving school just got my permit...       1          83   \n",
       "\n",
       "   word_count                                        clean_tweet  \\\n",
       "0          21  found allergic cat weird since never allergic ...   \n",
       "1          24  yes yes finaly weekend pity bad weather hey fi...   \n",
       "2          14  mr ambulance hurting kitty ear hope patient ok...   \n",
       "3          19  keith75m little old man float house away bunch...   \n",
       "5          15  lookin driving school got permit juiced like w...   \n",
       "\n",
       "   clean_word_count  \n",
       "0                 9  \n",
       "1                11  \n",
       "2                 9  \n",
       "3                10  \n",
       "5                 9  "
      ]
     },
     "execution_count": 367,
     "metadata": {},
     "output_type": "execute_result"
    }
   ],
   "source": [
    "# 1 means positive and 0 means negative\n",
    "df.head()"
   ]
  },
  {
   "cell_type": "markdown",
   "id": "2032bbe5",
   "metadata": {},
   "source": [
    "# Use padding to make the size of all reviews same"
   ]
  },
  {
   "cell_type": "code",
   "execution_count": 368,
   "id": "549c581a",
   "metadata": {},
   "outputs": [],
   "source": [
    "tf_tokenizer = tf.keras.preprocessing.text.Tokenizer(num_words=500, split=' ')\n",
    "tf_tokenizer.fit_on_texts(df['clean_tweet'].values)"
   ]
  },
  {
   "cell_type": "code",
   "execution_count": 369,
   "id": "9828a11d",
   "metadata": {},
   "outputs": [],
   "source": [
    "X = tf_tokenizer.texts_to_sequences(df['clean_tweet'].values)\n",
    "X = tf.keras.preprocessing.sequence.pad_sequences(X, padding='pre')"
   ]
  },
  {
   "cell_type": "code",
   "execution_count": 370,
   "id": "d4734915",
   "metadata": {},
   "outputs": [
    {
     "data": {
      "text/plain": [
       "array([[  0,   0,   0, ...,  89,  37,  95],\n",
       "       [  0,   0,   0, ...,  86, 118, 145],\n",
       "       [  0,   0,   0, ...,  34, 209,  61],\n",
       "       ...,\n",
       "       [  0,   0,   0, ..., 135, 310, 271],\n",
       "       [  0,   0,   0, ...,  97,  34,  65],\n",
       "       [  0,   0,   0, ...,  63, 153, 335]])"
      ]
     },
     "execution_count": 370,
     "metadata": {},
     "output_type": "execute_result"
    }
   ],
   "source": [
    "X"
   ]
  },
  {
   "cell_type": "code",
   "execution_count": 371,
   "id": "233bc542",
   "metadata": {},
   "outputs": [
    {
     "data": {
      "text/plain": [
       "(28004, 18)"
      ]
     },
     "execution_count": 371,
     "metadata": {},
     "output_type": "execute_result"
    }
   ],
   "source": [
    "X.shape"
   ]
  },
  {
   "cell_type": "code",
   "execution_count": 372,
   "id": "6869afea",
   "metadata": {},
   "outputs": [],
   "source": [
    "padding_len = X.shape[1]"
   ]
  },
  {
   "cell_type": "markdown",
   "id": "cdf988cc",
   "metadata": {},
   "source": [
    "# Splitting data into train and test"
   ]
  },
  {
   "cell_type": "code",
   "execution_count": 373,
   "id": "d5722d70",
   "metadata": {},
   "outputs": [],
   "source": [
    "y = pd.get_dummies(df['target'])"
   ]
  },
  {
   "cell_type": "code",
   "execution_count": 374,
   "id": "6f436188",
   "metadata": {},
   "outputs": [
    {
     "data": {
      "text/html": [
       "<div>\n",
       "<style scoped>\n",
       "    .dataframe tbody tr th:only-of-type {\n",
       "        vertical-align: middle;\n",
       "    }\n",
       "\n",
       "    .dataframe tbody tr th {\n",
       "        vertical-align: top;\n",
       "    }\n",
       "\n",
       "    .dataframe thead th {\n",
       "        text-align: right;\n",
       "    }\n",
       "</style>\n",
       "<table border=\"1\" class=\"dataframe\">\n",
       "  <thead>\n",
       "    <tr style=\"text-align: right;\">\n",
       "      <th></th>\n",
       "      <th>0</th>\n",
       "      <th>1</th>\n",
       "    </tr>\n",
       "  </thead>\n",
       "  <tbody>\n",
       "    <tr>\n",
       "      <th>0</th>\n",
       "      <td>1</td>\n",
       "      <td>0</td>\n",
       "    </tr>\n",
       "    <tr>\n",
       "      <th>1</th>\n",
       "      <td>0</td>\n",
       "      <td>1</td>\n",
       "    </tr>\n",
       "    <tr>\n",
       "      <th>2</th>\n",
       "      <td>1</td>\n",
       "      <td>0</td>\n",
       "    </tr>\n",
       "    <tr>\n",
       "      <th>3</th>\n",
       "      <td>0</td>\n",
       "      <td>1</td>\n",
       "    </tr>\n",
       "    <tr>\n",
       "      <th>5</th>\n",
       "      <td>0</td>\n",
       "      <td>1</td>\n",
       "    </tr>\n",
       "  </tbody>\n",
       "</table>\n",
       "</div>"
      ],
      "text/plain": [
       "   0  1\n",
       "0  1  0\n",
       "1  0  1\n",
       "2  1  0\n",
       "3  0  1\n",
       "5  0  1"
      ]
     },
     "execution_count": 374,
     "metadata": {},
     "output_type": "execute_result"
    }
   ],
   "source": [
    "y.head()"
   ]
  },
  {
   "cell_type": "code",
   "execution_count": 376,
   "id": "59c221f0",
   "metadata": {},
   "outputs": [
    {
     "data": {
      "text/plain": [
       "((19602, 18), (8402, 18), (19602, 2), (8402, 2))"
      ]
     },
     "execution_count": 376,
     "metadata": {},
     "output_type": "execute_result"
    }
   ],
   "source": [
    "X_train, X_test, y_train, y_test = train_test_split(X, y, test_size=0.3, random_state=42)\n",
    "X_train.shape, X_test.shape, y_train.shape, y_test.shape"
   ]
  },
  {
   "cell_type": "markdown",
   "id": "2b108f72",
   "metadata": {},
   "source": [
    "# Creating Sequential model and train it"
   ]
  },
  {
   "cell_type": "code",
   "execution_count": 377,
   "id": "87a80e33",
   "metadata": {},
   "outputs": [],
   "source": [
    "model = tf.keras.Sequential([\n",
    "    tf.keras.layers.Embedding(10000, 120, input_length=X.shape[1]),\n",
    "    tf.keras.layers.SpatialDropout1D(0.4),\n",
    "    tf.keras.layers.LSTM(176, dropout=0.2),\n",
    "    tf.keras.layers.Dense(2, activation='softmax')\n",
    "])\n",
    "\n",
    "model.compile(loss=tf.keras.losses.CategoricalCrossentropy(),\n",
    "              optimizer=tf.keras.optimizers.Adam(),\n",
    "              metrics=['accuracy'])"
   ]
  },
  {
   "cell_type": "code",
   "execution_count": 378,
   "id": "b4fd6e5b",
   "metadata": {},
   "outputs": [
    {
     "name": "stdout",
     "output_type": "stream",
     "text": [
      "Model: \"sequential_13\"\n",
      "_________________________________________________________________\n",
      "Layer (type)                 Output Shape              Param #   \n",
      "=================================================================\n",
      "embedding_13 (Embedding)     (None, 18, 120)           1200000   \n",
      "_________________________________________________________________\n",
      "spatial_dropout1d_12 (Spatia (None, 18, 120)           0         \n",
      "_________________________________________________________________\n",
      "lstm_13 (LSTM)               (None, 176)               209088    \n",
      "_________________________________________________________________\n",
      "dense_13 (Dense)             (None, 2)                 354       \n",
      "=================================================================\n",
      "Total params: 1,409,442\n",
      "Trainable params: 1,409,442\n",
      "Non-trainable params: 0\n",
      "_________________________________________________________________\n"
     ]
    }
   ],
   "source": [
    "model.summary()"
   ]
  },
  {
   "cell_type": "code",
   "execution_count": 379,
   "id": "7fd12587",
   "metadata": {},
   "outputs": [
    {
     "name": "stdout",
     "output_type": "stream",
     "text": [
      "Epoch 1/25\n",
      "613/613 [==============================] - 8s 10ms/step - loss: 0.5885 - accuracy: 0.6782\n",
      "Epoch 2/25\n",
      "613/613 [==============================] - 6s 10ms/step - loss: 0.5485 - accuracy: 0.7149\n",
      "Epoch 3/25\n",
      "613/613 [==============================] - 6s 10ms/step - loss: 0.5379 - accuracy: 0.7250\n",
      "Epoch 4/25\n",
      "613/613 [==============================] - 6s 10ms/step - loss: 0.5308 - accuracy: 0.7285\n",
      "Epoch 5/25\n",
      "613/613 [==============================] - 7s 12ms/step - loss: 0.5232 - accuracy: 0.7339\n",
      "Epoch 6/25\n",
      "613/613 [==============================] - 9s 14ms/step - loss: 0.5162 - accuracy: 0.7345\n",
      "Epoch 7/25\n",
      "613/613 [==============================] - 7s 12ms/step - loss: 0.5102 - accuracy: 0.7407\n",
      "Epoch 8/25\n",
      "613/613 [==============================] - 8s 12ms/step - loss: 0.5029 - accuracy: 0.7420\n",
      "Epoch 9/25\n",
      "613/613 [==============================] - 8s 13ms/step - loss: 0.4955 - accuracy: 0.7472\n",
      "Epoch 10/25\n",
      "613/613 [==============================] - 7s 12ms/step - loss: 0.4897 - accuracy: 0.7504\n",
      "Epoch 11/25\n",
      "613/613 [==============================] - 7s 11ms/step - loss: 0.4838 - accuracy: 0.7566\n",
      "Epoch 12/25\n",
      "613/613 [==============================] - 7s 11ms/step - loss: 0.4742 - accuracy: 0.7588\n",
      "Epoch 13/25\n",
      "613/613 [==============================] - 7s 11ms/step - loss: 0.4656 - accuracy: 0.7649\n",
      "Epoch 14/25\n",
      "613/613 [==============================] - 7s 11ms/step - loss: 0.4594 - accuracy: 0.7700\n",
      "Epoch 15/25\n",
      "613/613 [==============================] - 7s 11ms/step - loss: 0.4494 - accuracy: 0.7748\n",
      "Epoch 16/25\n",
      "613/613 [==============================] - 7s 11ms/step - loss: 0.4387 - accuracy: 0.7787\n",
      "Epoch 17/25\n",
      "613/613 [==============================] - 7s 12ms/step - loss: 0.4289 - accuracy: 0.7833\n",
      "Epoch 18/25\n",
      "613/613 [==============================] - 8s 13ms/step - loss: 0.4216 - accuracy: 0.7862\n",
      "Epoch 19/25\n",
      "613/613 [==============================] - 7s 12ms/step - loss: 0.4076 - accuracy: 0.7974\n",
      "Epoch 20/25\n",
      "613/613 [==============================] - 7s 12ms/step - loss: 0.3983 - accuracy: 0.8032\n",
      "Epoch 21/25\n",
      "613/613 [==============================] - 7s 12ms/step - loss: 0.3878 - accuracy: 0.8095\n",
      "Epoch 22/25\n",
      "613/613 [==============================] - 7s 12ms/step - loss: 0.3772 - accuracy: 0.8153\n",
      "Epoch 23/25\n",
      "613/613 [==============================] - 7s 12ms/step - loss: 0.3646 - accuracy: 0.8202\n",
      "Epoch 24/25\n",
      "613/613 [==============================] - 7s 12ms/step - loss: 0.3588 - accuracy: 0.8254\n",
      "Epoch 25/25\n",
      "613/613 [==============================] - 7s 12ms/step - loss: 0.3492 - accuracy: 0.8337\n"
     ]
    }
   ],
   "source": [
    "history = model.fit(X_train, y_train, epochs=25, batch_size=32, verbose='auto')"
   ]
  },
  {
   "cell_type": "markdown",
   "id": "32b18e41",
   "metadata": {},
   "source": [
    "### Plot the history"
   ]
  },
  {
   "cell_type": "code",
   "execution_count": 385,
   "id": "7b2f7689",
   "metadata": {},
   "outputs": [
    {
     "data": {
      "text/plain": [
       "<AxesSubplot:>"
      ]
     },
     "execution_count": 385,
     "metadata": {},
     "output_type": "execute_result"
    },
    {
     "data": {
      "image/png": "[encoded data removed]",
      "text/plain": [
       "<Figure size 864x504 with 1 Axes>"
      ]
     },
     "metadata": {},
     "output_type": "display_data"
    }
   ],
   "source": [
    "pd.DataFrame(history.history).plot(figsize=(12,7))"
   ]
  },
  {
   "cell_type": "markdown",
   "id": "260c479a",
   "metadata": {},
   "source": [
    "### Evaluate the model"
   ]
  },
  {
   "cell_type": "code",
   "execution_count": 386,
   "id": "a0d29450",
   "metadata": {},
   "outputs": [
    {
     "name": "stdout",
     "output_type": "stream",
     "text": [
      "263/263 [==============================] - 1s 5ms/step - loss: 0.8058 - accuracy: 0.6681\n"
     ]
    },
    {
     "data": {
      "text/plain": [
       "[0.8058484196662903, 0.6680552363395691]"
      ]
     },
     "execution_count": 386,
     "metadata": {},
     "output_type": "execute_result"
    }
   ],
   "source": [
    "model.evaluate(X_test, y_test)"
   ]
  },
  {
   "cell_type": "markdown",
   "id": "1d0697dc",
   "metadata": {},
   "source": [
    "# Pipeline to predict the sentiment of the raw tweet"
   ]
  },
  {
   "cell_type": "code",
   "execution_count": 387,
   "id": "45a0017e",
   "metadata": {},
   "outputs": [],
   "source": [
    "def pipeline(model, tweet):\n",
    "    df_pipe = pd.DataFrame({'tweet': [tweet]})\n",
    "    df_pipe['clean_tweet'] = df_pipe['tweet'].apply(cleaning)\n",
    "    \n",
    "    X = tf_tokenizer.texts_to_sequences(df_pipe['clean_tweet'].values)\n",
    "    X = tf.keras.preprocessing.sequence.pad_sequences(X, maxlen=padding_len, padding='pre')\n",
    "\n",
    "    [[negative, positive]] = model.predict(X)\n",
    "    \n",
    "    sentiment = \"\"\n",
    "    if positive > negative:\n",
    "        sentiment = \"positive\"\n",
    "    else: \n",
    "        sentiment = \"negative\"\n",
    "        \n",
    "    return positive, negative, sentiment"
   ]
  },
  {
   "cell_type": "code",
   "execution_count": 390,
   "id": "8aa103be",
   "metadata": {},
   "outputs": [
    {
     "data": {
      "text/plain": [
       "(0.5853117, 0.41468832, 'positive')"
      ]
     },
     "execution_count": 390,
     "metadata": {},
     "output_type": "execute_result"
    }
   ],
   "source": [
    "pipeline(model, \"I like the overall movie but some scenes are just not so good\")"
   ]
  }
 ],
 "metadata": {
  "kernelspec": {
   "display_name": "Python 3",
   "language": "python",
   "name": "python3"
  },
  "language_info": {
   "codemirror_mode": {
    "name": "ipython",
    "version": 3
   },
   "file_extension": ".py",
   "mimetype": "text/x-python",
   "name": "python",
   "nbconvert_exporter": "python",
   "pygments_lexer": "ipython3",
   "version": "3.6.13"
  }
 },
 "nbformat": 4,
 "nbformat_minor": 5
}
