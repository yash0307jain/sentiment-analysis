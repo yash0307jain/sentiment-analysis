{
 "cells": [
  {
   "cell_type": "markdown",
   "id": "5bced3c3",
   "metadata": {},
   "source": [
    "# Required libraries for data handling and plotting"
   ]
  },
  {
   "cell_type": "code",
   "execution_count": 1,
   "id": "5c4f8b9b",
   "metadata": {},
   "outputs": [],
   "source": [
    "import numpy as np\n",
    "import pandas as pd\n",
    "import matplotlib.pyplot as plt\n",
    "import matplotlib as mpl\n",
    "%matplotlib inline"
   ]
  },
  {
   "cell_type": "markdown",
   "id": "e6293715",
   "metadata": {},
   "source": [
    "# Required libraries for modeling and performance metrics"
   ]
  },
  {
   "cell_type": "code",
   "execution_count": 2,
   "id": "99baddce",
   "metadata": {},
   "outputs": [],
   "source": [
    "from sklearn.model_selection import train_test_split\n",
    "from sklearn.metrics import confusion_matrix\n",
    "from sklearn import metrics\n",
    "from sklearn.metrics import roc_curve, auc"
   ]
  },
  {
   "cell_type": "markdown",
   "id": "736814be",
   "metadata": {},
   "source": [
    "# Required libraries for NLP"
   ]
  },
  {
   "cell_type": "code",
   "execution_count": 3,
   "id": "8bd33bef",
   "metadata": {},
   "outputs": [],
   "source": [
    "import nltk\n",
    "import nltk.classify.util\n",
    "from nltk.classify import NaiveBayesClassifier"
   ]
  },
  {
   "cell_type": "markdown",
   "id": "621a5052",
   "metadata": {},
   "source": [
    "# Required libraries for NLP data preprocessing"
   ]
  },
  {
   "cell_type": "code",
   "execution_count": 4,
   "id": "a9c43ee7",
   "metadata": {},
   "outputs": [],
   "source": [
    "import re\n",
    "import string"
   ]
  },
  {
   "cell_type": "markdown",
   "id": "135ecdb2",
   "metadata": {},
   "source": [
    "# Importing the dataset"
   ]
  },
  {
   "cell_type": "code",
   "execution_count": 5,
   "id": "bfeb45d6",
   "metadata": {},
   "outputs": [
    {
     "name": "stderr",
     "output_type": "stream",
     "text": [
      "C:\\ProgramData\\Anaconda3\\lib\\site-packages\\IPython\\core\\interactiveshell.py:3444: DtypeWarning: Columns (1,10) have mixed types.Specify dtype option on import or set low_memory=False.\n",
      "  exec(code_obj, self.user_global_ns, self.user_ns)\n"
     ]
    },
    {
     "data": {
      "text/html": [
       "<div>\n",
       "<style scoped>\n",
       "    .dataframe tbody tr th:only-of-type {\n",
       "        vertical-align: middle;\n",
       "    }\n",
       "\n",
       "    .dataframe tbody tr th {\n",
       "        vertical-align: top;\n",
       "    }\n",
       "\n",
       "    .dataframe thead th {\n",
       "        text-align: right;\n",
       "    }\n",
       "</style>\n",
       "<table border=\"1\" class=\"dataframe\">\n",
       "  <thead>\n",
       "    <tr style=\"text-align: right;\">\n",
       "      <th></th>\n",
       "      <th>id</th>\n",
       "      <th>name</th>\n",
       "      <th>asins</th>\n",
       "      <th>brand</th>\n",
       "      <th>categories</th>\n",
       "      <th>keys</th>\n",
       "      <th>manufacturer</th>\n",
       "      <th>reviews.date</th>\n",
       "      <th>reviews.dateAdded</th>\n",
       "      <th>reviews.dateSeen</th>\n",
       "      <th>...</th>\n",
       "      <th>reviews.doRecommend</th>\n",
       "      <th>reviews.id</th>\n",
       "      <th>reviews.numHelpful</th>\n",
       "      <th>reviews.rating</th>\n",
       "      <th>reviews.sourceURLs</th>\n",
       "      <th>reviews.text</th>\n",
       "      <th>reviews.title</th>\n",
       "      <th>reviews.userCity</th>\n",
       "      <th>reviews.userProvince</th>\n",
       "      <th>reviews.username</th>\n",
       "    </tr>\n",
       "  </thead>\n",
       "  <tbody>\n",
       "    <tr>\n",
       "      <th>0</th>\n",
       "      <td>AVqkIhwDv8e3D1O-lebb</td>\n",
       "      <td>All-New Fire HD 8 Tablet, 8 HD Display, Wi-Fi,...</td>\n",
       "      <td>B01AHB9CN2</td>\n",
       "      <td>Amazon</td>\n",
       "      <td>Electronics,iPad &amp; Tablets,All Tablets,Fire Ta...</td>\n",
       "      <td>841667104676,amazon/53004484,amazon/b01ahb9cn2...</td>\n",
       "      <td>Amazon</td>\n",
       "      <td>2017-01-13T00:00:00.000Z</td>\n",
       "      <td>2017-07-03T23:33:15Z</td>\n",
       "      <td>2017-06-07T09:04:00.000Z,2017-04-30T00:45:00.000Z</td>\n",
       "      <td>...</td>\n",
       "      <td>True</td>\n",
       "      <td>NaN</td>\n",
       "      <td>0.0</td>\n",
       "      <td>5.0</td>\n",
       "      <td>http://reviews.bestbuy.com/3545/5620406/review...</td>\n",
       "      <td>This product so far has not disappointed. My c...</td>\n",
       "      <td>Kindle</td>\n",
       "      <td>NaN</td>\n",
       "      <td>NaN</td>\n",
       "      <td>Adapter</td>\n",
       "    </tr>\n",
       "    <tr>\n",
       "      <th>1</th>\n",
       "      <td>AVqkIhwDv8e3D1O-lebb</td>\n",
       "      <td>All-New Fire HD 8 Tablet, 8 HD Display, Wi-Fi,...</td>\n",
       "      <td>B01AHB9CN2</td>\n",
       "      <td>Amazon</td>\n",
       "      <td>Electronics,iPad &amp; Tablets,All Tablets,Fire Ta...</td>\n",
       "      <td>841667104676,amazon/53004484,amazon/b01ahb9cn2...</td>\n",
       "      <td>Amazon</td>\n",
       "      <td>2017-01-13T00:00:00.000Z</td>\n",
       "      <td>2017-07-03T23:33:15Z</td>\n",
       "      <td>2017-06-07T09:04:00.000Z,2017-04-30T00:45:00.000Z</td>\n",
       "      <td>...</td>\n",
       "      <td>True</td>\n",
       "      <td>NaN</td>\n",
       "      <td>0.0</td>\n",
       "      <td>5.0</td>\n",
       "      <td>http://reviews.bestbuy.com/3545/5620406/review...</td>\n",
       "      <td>great for beginner or experienced person. Boug...</td>\n",
       "      <td>very fast</td>\n",
       "      <td>NaN</td>\n",
       "      <td>NaN</td>\n",
       "      <td>truman</td>\n",
       "    </tr>\n",
       "    <tr>\n",
       "      <th>2</th>\n",
       "      <td>AVqkIhwDv8e3D1O-lebb</td>\n",
       "      <td>All-New Fire HD 8 Tablet, 8 HD Display, Wi-Fi,...</td>\n",
       "      <td>B01AHB9CN2</td>\n",
       "      <td>Amazon</td>\n",
       "      <td>Electronics,iPad &amp; Tablets,All Tablets,Fire Ta...</td>\n",
       "      <td>841667104676,amazon/53004484,amazon/b01ahb9cn2...</td>\n",
       "      <td>Amazon</td>\n",
       "      <td>2017-01-13T00:00:00.000Z</td>\n",
       "      <td>2017-07-03T23:33:15Z</td>\n",
       "      <td>2017-06-07T09:04:00.000Z,2017-04-30T00:45:00.000Z</td>\n",
       "      <td>...</td>\n",
       "      <td>True</td>\n",
       "      <td>NaN</td>\n",
       "      <td>0.0</td>\n",
       "      <td>5.0</td>\n",
       "      <td>http://reviews.bestbuy.com/3545/5620406/review...</td>\n",
       "      <td>Inexpensive tablet for him to use and learn on...</td>\n",
       "      <td>Beginner tablet for our 9 year old son.</td>\n",
       "      <td>NaN</td>\n",
       "      <td>NaN</td>\n",
       "      <td>DaveZ</td>\n",
       "    </tr>\n",
       "    <tr>\n",
       "      <th>3</th>\n",
       "      <td>AVqkIhwDv8e3D1O-lebb</td>\n",
       "      <td>All-New Fire HD 8 Tablet, 8 HD Display, Wi-Fi,...</td>\n",
       "      <td>B01AHB9CN2</td>\n",
       "      <td>Amazon</td>\n",
       "      <td>Electronics,iPad &amp; Tablets,All Tablets,Fire Ta...</td>\n",
       "      <td>841667104676,amazon/53004484,amazon/b01ahb9cn2...</td>\n",
       "      <td>Amazon</td>\n",
       "      <td>2017-01-13T00:00:00.000Z</td>\n",
       "      <td>2017-07-03T23:33:15Z</td>\n",
       "      <td>2017-06-07T09:04:00.000Z,2017-04-30T00:45:00.000Z</td>\n",
       "      <td>...</td>\n",
       "      <td>True</td>\n",
       "      <td>NaN</td>\n",
       "      <td>0.0</td>\n",
       "      <td>4.0</td>\n",
       "      <td>http://reviews.bestbuy.com/3545/5620406/review...</td>\n",
       "      <td>I've had my Fire HD 8 two weeks now and I love...</td>\n",
       "      <td>Good!!!</td>\n",
       "      <td>NaN</td>\n",
       "      <td>NaN</td>\n",
       "      <td>Shacks</td>\n",
       "    </tr>\n",
       "    <tr>\n",
       "      <th>4</th>\n",
       "      <td>AVqkIhwDv8e3D1O-lebb</td>\n",
       "      <td>All-New Fire HD 8 Tablet, 8 HD Display, Wi-Fi,...</td>\n",
       "      <td>B01AHB9CN2</td>\n",
       "      <td>Amazon</td>\n",
       "      <td>Electronics,iPad &amp; Tablets,All Tablets,Fire Ta...</td>\n",
       "      <td>841667104676,amazon/53004484,amazon/b01ahb9cn2...</td>\n",
       "      <td>Amazon</td>\n",
       "      <td>2017-01-12T00:00:00.000Z</td>\n",
       "      <td>2017-07-03T23:33:15Z</td>\n",
       "      <td>2017-06-07T09:04:00.000Z,2017-04-30T00:45:00.000Z</td>\n",
       "      <td>...</td>\n",
       "      <td>True</td>\n",
       "      <td>NaN</td>\n",
       "      <td>0.0</td>\n",
       "      <td>5.0</td>\n",
       "      <td>http://reviews.bestbuy.com/3545/5620406/review...</td>\n",
       "      <td>I bought this for my grand daughter when she c...</td>\n",
       "      <td>Fantastic Tablet for kids</td>\n",
       "      <td>NaN</td>\n",
       "      <td>NaN</td>\n",
       "      <td>explore42</td>\n",
       "    </tr>\n",
       "  </tbody>\n",
       "</table>\n",
       "<p>5 rows × 21 columns</p>\n",
       "</div>"
      ],
      "text/plain": [
       "                     id                                               name  \\\n",
       "0  AVqkIhwDv8e3D1O-lebb  All-New Fire HD 8 Tablet, 8 HD Display, Wi-Fi,...   \n",
       "1  AVqkIhwDv8e3D1O-lebb  All-New Fire HD 8 Tablet, 8 HD Display, Wi-Fi,...   \n",
       "2  AVqkIhwDv8e3D1O-lebb  All-New Fire HD 8 Tablet, 8 HD Display, Wi-Fi,...   \n",
       "3  AVqkIhwDv8e3D1O-lebb  All-New Fire HD 8 Tablet, 8 HD Display, Wi-Fi,...   \n",
       "4  AVqkIhwDv8e3D1O-lebb  All-New Fire HD 8 Tablet, 8 HD Display, Wi-Fi,...   \n",
       "\n",
       "        asins   brand                                         categories  \\\n",
       "0  B01AHB9CN2  Amazon  Electronics,iPad & Tablets,All Tablets,Fire Ta...   \n",
       "1  B01AHB9CN2  Amazon  Electronics,iPad & Tablets,All Tablets,Fire Ta...   \n",
       "2  B01AHB9CN2  Amazon  Electronics,iPad & Tablets,All Tablets,Fire Ta...   \n",
       "3  B01AHB9CN2  Amazon  Electronics,iPad & Tablets,All Tablets,Fire Ta...   \n",
       "4  B01AHB9CN2  Amazon  Electronics,iPad & Tablets,All Tablets,Fire Ta...   \n",
       "\n",
       "                                                keys manufacturer  \\\n",
       "0  841667104676,amazon/53004484,amazon/b01ahb9cn2...       Amazon   \n",
       "1  841667104676,amazon/53004484,amazon/b01ahb9cn2...       Amazon   \n",
       "2  841667104676,amazon/53004484,amazon/b01ahb9cn2...       Amazon   \n",
       "3  841667104676,amazon/53004484,amazon/b01ahb9cn2...       Amazon   \n",
       "4  841667104676,amazon/53004484,amazon/b01ahb9cn2...       Amazon   \n",
       "\n",
       "               reviews.date     reviews.dateAdded  \\\n",
       "0  2017-01-13T00:00:00.000Z  2017-07-03T23:33:15Z   \n",
       "1  2017-01-13T00:00:00.000Z  2017-07-03T23:33:15Z   \n",
       "2  2017-01-13T00:00:00.000Z  2017-07-03T23:33:15Z   \n",
       "3  2017-01-13T00:00:00.000Z  2017-07-03T23:33:15Z   \n",
       "4  2017-01-12T00:00:00.000Z  2017-07-03T23:33:15Z   \n",
       "\n",
       "                                    reviews.dateSeen  ... reviews.doRecommend  \\\n",
       "0  2017-06-07T09:04:00.000Z,2017-04-30T00:45:00.000Z  ...                True   \n",
       "1  2017-06-07T09:04:00.000Z,2017-04-30T00:45:00.000Z  ...                True   \n",
       "2  2017-06-07T09:04:00.000Z,2017-04-30T00:45:00.000Z  ...                True   \n",
       "3  2017-06-07T09:04:00.000Z,2017-04-30T00:45:00.000Z  ...                True   \n",
       "4  2017-06-07T09:04:00.000Z,2017-04-30T00:45:00.000Z  ...                True   \n",
       "\n",
       "  reviews.id  reviews.numHelpful  reviews.rating  \\\n",
       "0        NaN                 0.0             5.0   \n",
       "1        NaN                 0.0             5.0   \n",
       "2        NaN                 0.0             5.0   \n",
       "3        NaN                 0.0             4.0   \n",
       "4        NaN                 0.0             5.0   \n",
       "\n",
       "                                  reviews.sourceURLs  \\\n",
       "0  http://reviews.bestbuy.com/3545/5620406/review...   \n",
       "1  http://reviews.bestbuy.com/3545/5620406/review...   \n",
       "2  http://reviews.bestbuy.com/3545/5620406/review...   \n",
       "3  http://reviews.bestbuy.com/3545/5620406/review...   \n",
       "4  http://reviews.bestbuy.com/3545/5620406/review...   \n",
       "\n",
       "                                        reviews.text  \\\n",
       "0  This product so far has not disappointed. My c...   \n",
       "1  great for beginner or experienced person. Boug...   \n",
       "2  Inexpensive tablet for him to use and learn on...   \n",
       "3  I've had my Fire HD 8 two weeks now and I love...   \n",
       "4  I bought this for my grand daughter when she c...   \n",
       "\n",
       "                             reviews.title reviews.userCity  \\\n",
       "0                                   Kindle              NaN   \n",
       "1                                very fast              NaN   \n",
       "2  Beginner tablet for our 9 year old son.              NaN   \n",
       "3                                  Good!!!              NaN   \n",
       "4                Fantastic Tablet for kids              NaN   \n",
       "\n",
       "   reviews.userProvince  reviews.username  \n",
       "0                   NaN           Adapter  \n",
       "1                   NaN            truman  \n",
       "2                   NaN             DaveZ  \n",
       "3                   NaN            Shacks  \n",
       "4                   NaN         explore42  \n",
       "\n",
       "[5 rows x 21 columns]"
      ]
     },
     "execution_count": 5,
     "metadata": {},
     "output_type": "execute_result"
    }
   ],
   "source": [
    "temp = pd.read_csv(r\"./amazon_product_reviews.csv\")\n",
    "temp.head()"
   ]
  },
  {
   "cell_type": "code",
   "execution_count": 6,
   "id": "f094a148-3fbc-4422-ad59-34929f4453f9",
   "metadata": {},
   "outputs": [
    {
     "data": {
      "text/plain": [
       "Index(['id', 'name', 'asins', 'brand', 'categories', 'keys', 'manufacturer',\n",
       "       'reviews.date', 'reviews.dateAdded', 'reviews.dateSeen',\n",
       "       'reviews.didPurchase', 'reviews.doRecommend', 'reviews.id',\n",
       "       'reviews.numHelpful', 'reviews.rating', 'reviews.sourceURLs',\n",
       "       'reviews.text', 'reviews.title', 'reviews.userCity',\n",
       "       'reviews.userProvince', 'reviews.username'],\n",
       "      dtype='object')"
      ]
     },
     "execution_count": 6,
     "metadata": {},
     "output_type": "execute_result"
    }
   ],
   "source": [
    "temp.columns"
   ]
  },
  {
   "cell_type": "markdown",
   "id": "88309f04",
   "metadata": {},
   "source": [
    "# Data Preprocessing"
   ]
  },
  {
   "cell_type": "markdown",
   "id": "6a1c65de",
   "metadata": {},
   "source": [
    "### Getting reviews and calculate the number of null values"
   ]
  },
  {
   "cell_type": "code",
   "execution_count": 7,
   "id": "e8325b66",
   "metadata": {},
   "outputs": [
    {
     "name": "stdout",
     "output_type": "stream",
     "text": [
      "reviews.rating      33\n",
      "reviews.text         1\n",
      "reviews.title        5\n",
      "reviews.username     2\n",
      "dtype: int64\n"
     ]
    },
    {
     "data": {
      "text/html": [
       "<div>\n",
       "<style scoped>\n",
       "    .dataframe tbody tr th:only-of-type {\n",
       "        vertical-align: middle;\n",
       "    }\n",
       "\n",
       "    .dataframe tbody tr th {\n",
       "        vertical-align: top;\n",
       "    }\n",
       "\n",
       "    .dataframe thead th {\n",
       "        text-align: right;\n",
       "    }\n",
       "</style>\n",
       "<table border=\"1\" class=\"dataframe\">\n",
       "  <thead>\n",
       "    <tr style=\"text-align: right;\">\n",
       "      <th></th>\n",
       "      <th>reviews.rating</th>\n",
       "      <th>reviews.text</th>\n",
       "      <th>reviews.title</th>\n",
       "      <th>reviews.username</th>\n",
       "    </tr>\n",
       "  </thead>\n",
       "  <tbody>\n",
       "    <tr>\n",
       "      <th>0</th>\n",
       "      <td>5.0</td>\n",
       "      <td>This product so far has not disappointed. My c...</td>\n",
       "      <td>Kindle</td>\n",
       "      <td>Adapter</td>\n",
       "    </tr>\n",
       "    <tr>\n",
       "      <th>1</th>\n",
       "      <td>5.0</td>\n",
       "      <td>great for beginner or experienced person. Boug...</td>\n",
       "      <td>very fast</td>\n",
       "      <td>truman</td>\n",
       "    </tr>\n",
       "    <tr>\n",
       "      <th>2</th>\n",
       "      <td>5.0</td>\n",
       "      <td>Inexpensive tablet for him to use and learn on...</td>\n",
       "      <td>Beginner tablet for our 9 year old son.</td>\n",
       "      <td>DaveZ</td>\n",
       "    </tr>\n",
       "    <tr>\n",
       "      <th>3</th>\n",
       "      <td>4.0</td>\n",
       "      <td>I've had my Fire HD 8 two weeks now and I love...</td>\n",
       "      <td>Good!!!</td>\n",
       "      <td>Shacks</td>\n",
       "    </tr>\n",
       "    <tr>\n",
       "      <th>4</th>\n",
       "      <td>5.0</td>\n",
       "      <td>I bought this for my grand daughter when she c...</td>\n",
       "      <td>Fantastic Tablet for kids</td>\n",
       "      <td>explore42</td>\n",
       "    </tr>\n",
       "  </tbody>\n",
       "</table>\n",
       "</div>"
      ],
      "text/plain": [
       "   reviews.rating                                       reviews.text  \\\n",
       "0             5.0  This product so far has not disappointed. My c...   \n",
       "1             5.0  great for beginner or experienced person. Boug...   \n",
       "2             5.0  Inexpensive tablet for him to use and learn on...   \n",
       "3             4.0  I've had my Fire HD 8 two weeks now and I love...   \n",
       "4             5.0  I bought this for my grand daughter when she c...   \n",
       "\n",
       "                             reviews.title reviews.username  \n",
       "0                                   Kindle          Adapter  \n",
       "1                                very fast           truman  \n",
       "2  Beginner tablet for our 9 year old son.            DaveZ  \n",
       "3                                  Good!!!           Shacks  \n",
       "4                Fantastic Tablet for kids        explore42  "
      ]
     },
     "execution_count": 7,
     "metadata": {},
     "output_type": "execute_result"
    }
   ],
   "source": [
    "permanent = temp[['reviews.rating' , 'reviews.text' , 'reviews.title' , 'reviews.username']]\n",
    "print(permanent.isnull().sum()) # Check number of null values of each column\n",
    "permanent.head()"
   ]
  },
  {
   "cell_type": "markdown",
   "id": "90329d2e",
   "metadata": {},
   "source": [
    "### Getting null rating data into the check variable"
   ]
  },
  {
   "cell_type": "code",
   "execution_count": 8,
   "id": "09ee2275",
   "metadata": {},
   "outputs": [
    {
     "data": {
      "text/html": [
       "<div>\n",
       "<style scoped>\n",
       "    .dataframe tbody tr th:only-of-type {\n",
       "        vertical-align: middle;\n",
       "    }\n",
       "\n",
       "    .dataframe tbody tr th {\n",
       "        vertical-align: top;\n",
       "    }\n",
       "\n",
       "    .dataframe thead th {\n",
       "        text-align: right;\n",
       "    }\n",
       "</style>\n",
       "<table border=\"1\" class=\"dataframe\">\n",
       "  <thead>\n",
       "    <tr style=\"text-align: right;\">\n",
       "      <th></th>\n",
       "      <th>reviews.rating</th>\n",
       "      <th>reviews.text</th>\n",
       "      <th>reviews.title</th>\n",
       "      <th>reviews.username</th>\n",
       "    </tr>\n",
       "  </thead>\n",
       "  <tbody>\n",
       "    <tr>\n",
       "      <th>2886</th>\n",
       "      <td>NaN</td>\n",
       "      <td>The Kindle is my first e-ink reader. I own an ...</td>\n",
       "      <td>Worth the money. Not perfect, but very very go...</td>\n",
       "      <td>Jeffrey Stanley</td>\n",
       "    </tr>\n",
       "    <tr>\n",
       "      <th>2887</th>\n",
       "      <td>NaN</td>\n",
       "      <td>I'm a first-time Kindle owner, so I have nothi...</td>\n",
       "      <td>I Wanted a Dedicated E-Reader, and That's What...</td>\n",
       "      <td>Matthew Coenen</td>\n",
       "    </tr>\n",
       "    <tr>\n",
       "      <th>2888</th>\n",
       "      <td>NaN</td>\n",
       "      <td>UPDATE NOVEMBER 2011:My review is now over a y...</td>\n",
       "      <td>Kindle vs. Nook (updated)</td>\n",
       "      <td>Ron Cronovich</td>\n",
       "    </tr>\n",
       "    <tr>\n",
       "      <th>2889</th>\n",
       "      <td>NaN</td>\n",
       "      <td>I'm a first-time Kindle owner, so I have nothi...</td>\n",
       "      <td>I Wanted a Dedicated E-Reader, and That's What...</td>\n",
       "      <td>Matthew Coenen</td>\n",
       "    </tr>\n",
       "    <tr>\n",
       "      <th>2890</th>\n",
       "      <td>NaN</td>\n",
       "      <td>I woke up to a nice surprise this morning: a n...</td>\n",
       "      <td>Not the perfect do-it-all device, but very clo...</td>\n",
       "      <td>C. Tipton</td>\n",
       "    </tr>\n",
       "  </tbody>\n",
       "</table>\n",
       "</div>"
      ],
      "text/plain": [
       "      reviews.rating                                       reviews.text  \\\n",
       "2886             NaN  The Kindle is my first e-ink reader. I own an ...   \n",
       "2887             NaN  I'm a first-time Kindle owner, so I have nothi...   \n",
       "2888             NaN  UPDATE NOVEMBER 2011:My review is now over a y...   \n",
       "2889             NaN  I'm a first-time Kindle owner, so I have nothi...   \n",
       "2890             NaN  I woke up to a nice surprise this morning: a n...   \n",
       "\n",
       "                                          reviews.title reviews.username  \n",
       "2886  Worth the money. Not perfect, but very very go...  Jeffrey Stanley  \n",
       "2887  I Wanted a Dedicated E-Reader, and That's What...   Matthew Coenen  \n",
       "2888                          Kindle vs. Nook (updated)    Ron Cronovich  \n",
       "2889  I Wanted a Dedicated E-Reader, and That's What...   Matthew Coenen  \n",
       "2890  Not the perfect do-it-all device, but very clo...        C. Tipton  "
      ]
     },
     "execution_count": 8,
     "metadata": {},
     "output_type": "execute_result"
    }
   ],
   "source": [
    "check = permanent[permanent[\"reviews.rating\"].isnull()]\n",
    "check.head()"
   ]
  },
  {
   "cell_type": "markdown",
   "id": "bd6e250e",
   "metadata": {},
   "source": [
    "### Getting the not null rating data into the senti variable"
   ]
  },
  {
   "cell_type": "code",
   "execution_count": 9,
   "id": "c9bd8666",
   "metadata": {},
   "outputs": [
    {
     "data": {
      "text/html": [
       "<div>\n",
       "<style scoped>\n",
       "    .dataframe tbody tr th:only-of-type {\n",
       "        vertical-align: middle;\n",
       "    }\n",
       "\n",
       "    .dataframe tbody tr th {\n",
       "        vertical-align: top;\n",
       "    }\n",
       "\n",
       "    .dataframe thead th {\n",
       "        text-align: right;\n",
       "    }\n",
       "</style>\n",
       "<table border=\"1\" class=\"dataframe\">\n",
       "  <thead>\n",
       "    <tr style=\"text-align: right;\">\n",
       "      <th></th>\n",
       "      <th>reviews.rating</th>\n",
       "      <th>reviews.text</th>\n",
       "      <th>reviews.title</th>\n",
       "      <th>reviews.username</th>\n",
       "    </tr>\n",
       "  </thead>\n",
       "  <tbody>\n",
       "    <tr>\n",
       "      <th>0</th>\n",
       "      <td>5.0</td>\n",
       "      <td>This product so far has not disappointed. My c...</td>\n",
       "      <td>Kindle</td>\n",
       "      <td>Adapter</td>\n",
       "    </tr>\n",
       "    <tr>\n",
       "      <th>1</th>\n",
       "      <td>5.0</td>\n",
       "      <td>great for beginner or experienced person. Boug...</td>\n",
       "      <td>very fast</td>\n",
       "      <td>truman</td>\n",
       "    </tr>\n",
       "    <tr>\n",
       "      <th>2</th>\n",
       "      <td>5.0</td>\n",
       "      <td>Inexpensive tablet for him to use and learn on...</td>\n",
       "      <td>Beginner tablet for our 9 year old son.</td>\n",
       "      <td>DaveZ</td>\n",
       "    </tr>\n",
       "    <tr>\n",
       "      <th>3</th>\n",
       "      <td>4.0</td>\n",
       "      <td>I've had my Fire HD 8 two weeks now and I love...</td>\n",
       "      <td>Good!!!</td>\n",
       "      <td>Shacks</td>\n",
       "    </tr>\n",
       "    <tr>\n",
       "      <th>4</th>\n",
       "      <td>5.0</td>\n",
       "      <td>I bought this for my grand daughter when she c...</td>\n",
       "      <td>Fantastic Tablet for kids</td>\n",
       "      <td>explore42</td>\n",
       "    </tr>\n",
       "  </tbody>\n",
       "</table>\n",
       "</div>"
      ],
      "text/plain": [
       "   reviews.rating                                       reviews.text  \\\n",
       "0             5.0  This product so far has not disappointed. My c...   \n",
       "1             5.0  great for beginner or experienced person. Boug...   \n",
       "2             5.0  Inexpensive tablet for him to use and learn on...   \n",
       "3             4.0  I've had my Fire HD 8 two weeks now and I love...   \n",
       "4             5.0  I bought this for my grand daughter when she c...   \n",
       "\n",
       "                             reviews.title reviews.username  \n",
       "0                                   Kindle          Adapter  \n",
       "1                                very fast           truman  \n",
       "2  Beginner tablet for our 9 year old son.            DaveZ  \n",
       "3                                  Good!!!           Shacks  \n",
       "4                Fantastic Tablet for kids        explore42  "
      ]
     },
     "execution_count": 9,
     "metadata": {},
     "output_type": "execute_result"
    }
   ],
   "source": [
    "senti = permanent[permanent[\"reviews.rating\"].notnull()]\n",
    "senti.head()"
   ]
  },
  {
   "cell_type": "markdown",
   "id": "98cb3c62",
   "metadata": {},
   "source": [
    "### Converting the rating more than 4 as positive and less than 4 as negative"
   ]
  },
  {
   "cell_type": "code",
   "execution_count": 10,
   "id": "a25e77e2",
   "metadata": {},
   "outputs": [
    {
     "name": "stderr",
     "output_type": "stream",
     "text": [
      "C:\\Users\\YASH_J~1\\AppData\\Local\\Temp/ipykernel_21156/3480044464.py:1: SettingWithCopyWarning: \n",
      "A value is trying to be set on a copy of a slice from a DataFrame.\n",
      "Try using .loc[row_indexer,col_indexer] = value instead\n",
      "\n",
      "See the caveats in the documentation: https://pandas.pydata.org/pandas-docs/stable/user_guide/indexing.html#returning-a-view-versus-a-copy\n",
      "  senti[\"senti\"] = senti[\"reviews.rating\"]>=4 # this will return either true or false\n",
      "C:\\Users\\YASH_J~1\\AppData\\Local\\Temp/ipykernel_21156/3480044464.py:2: SettingWithCopyWarning: \n",
      "A value is trying to be set on a copy of a slice from a DataFrame.\n",
      "Try using .loc[row_indexer,col_indexer] = value instead\n",
      "\n",
      "See the caveats in the documentation: https://pandas.pydata.org/pandas-docs/stable/user_guide/indexing.html#returning-a-view-versus-a-copy\n",
      "  senti[\"senti\"] = senti[\"senti\"].replace([True , False] , [\"pos\" , \"neg\"])\n"
     ]
    },
    {
     "data": {
      "text/html": [
       "<div>\n",
       "<style scoped>\n",
       "    .dataframe tbody tr th:only-of-type {\n",
       "        vertical-align: middle;\n",
       "    }\n",
       "\n",
       "    .dataframe tbody tr th {\n",
       "        vertical-align: top;\n",
       "    }\n",
       "\n",
       "    .dataframe thead th {\n",
       "        text-align: right;\n",
       "    }\n",
       "</style>\n",
       "<table border=\"1\" class=\"dataframe\">\n",
       "  <thead>\n",
       "    <tr style=\"text-align: right;\">\n",
       "      <th></th>\n",
       "      <th>reviews.rating</th>\n",
       "      <th>reviews.text</th>\n",
       "      <th>reviews.title</th>\n",
       "      <th>reviews.username</th>\n",
       "      <th>senti</th>\n",
       "    </tr>\n",
       "  </thead>\n",
       "  <tbody>\n",
       "    <tr>\n",
       "      <th>0</th>\n",
       "      <td>5.0</td>\n",
       "      <td>This product so far has not disappointed. My c...</td>\n",
       "      <td>Kindle</td>\n",
       "      <td>Adapter</td>\n",
       "      <td>pos</td>\n",
       "    </tr>\n",
       "    <tr>\n",
       "      <th>1</th>\n",
       "      <td>5.0</td>\n",
       "      <td>great for beginner or experienced person. Boug...</td>\n",
       "      <td>very fast</td>\n",
       "      <td>truman</td>\n",
       "      <td>pos</td>\n",
       "    </tr>\n",
       "    <tr>\n",
       "      <th>2</th>\n",
       "      <td>5.0</td>\n",
       "      <td>Inexpensive tablet for him to use and learn on...</td>\n",
       "      <td>Beginner tablet for our 9 year old son.</td>\n",
       "      <td>DaveZ</td>\n",
       "      <td>pos</td>\n",
       "    </tr>\n",
       "    <tr>\n",
       "      <th>3</th>\n",
       "      <td>4.0</td>\n",
       "      <td>I've had my Fire HD 8 two weeks now and I love...</td>\n",
       "      <td>Good!!!</td>\n",
       "      <td>Shacks</td>\n",
       "      <td>pos</td>\n",
       "    </tr>\n",
       "    <tr>\n",
       "      <th>4</th>\n",
       "      <td>5.0</td>\n",
       "      <td>I bought this for my grand daughter when she c...</td>\n",
       "      <td>Fantastic Tablet for kids</td>\n",
       "      <td>explore42</td>\n",
       "      <td>pos</td>\n",
       "    </tr>\n",
       "  </tbody>\n",
       "</table>\n",
       "</div>"
      ],
      "text/plain": [
       "   reviews.rating                                       reviews.text  \\\n",
       "0             5.0  This product so far has not disappointed. My c...   \n",
       "1             5.0  great for beginner or experienced person. Boug...   \n",
       "2             5.0  Inexpensive tablet for him to use and learn on...   \n",
       "3             4.0  I've had my Fire HD 8 two weeks now and I love...   \n",
       "4             5.0  I bought this for my grand daughter when she c...   \n",
       "\n",
       "                             reviews.title reviews.username senti  \n",
       "0                                   Kindle          Adapter   pos  \n",
       "1                                very fast           truman   pos  \n",
       "2  Beginner tablet for our 9 year old son.            DaveZ   pos  \n",
       "3                                  Good!!!           Shacks   pos  \n",
       "4                Fantastic Tablet for kids        explore42   pos  "
      ]
     },
     "execution_count": 10,
     "metadata": {},
     "output_type": "execute_result"
    }
   ],
   "source": [
    "senti[\"senti\"] = senti[\"reviews.rating\"]>=4 # this will return either true or false\n",
    "senti[\"senti\"] = senti[\"senti\"].replace([True , False] , [\"pos\" , \"neg\"])\n",
    "senti.head()"
   ]
  },
  {
   "cell_type": "markdown",
   "id": "4481de30",
   "metadata": {},
   "source": [
    "### Plotting a bar graph to see the count of positive and negative reviews"
   ]
  },
  {
   "cell_type": "code",
   "execution_count": 11,
   "id": "19cab629",
   "metadata": {},
   "outputs": [
    {
     "data": {
      "text/plain": [
       "<AxesSubplot:>"
      ]
     },
     "execution_count": 11,
     "metadata": {},
     "output_type": "execute_result"
    },
    {
     "data": {
      "image/png": "[encoded data removed]",
      "text/plain": [
       "<Figure size 432x288 with 1 Axes>"
      ]
     },
     "metadata": {
      "needs_background": "light"
     },
     "output_type": "display_data"
    }
   ],
   "source": [
    "senti[\"senti\"].value_counts().plot.bar()"
   ]
  },
  {
   "cell_type": "markdown",
   "id": "9bb76cb5",
   "metadata": {},
   "source": [
    "### Cleaning the data\n",
    "* Convert the sentence into the string\n",
    "* Convert them into lower characters\n",
    "* Remove all the character apart from alphabet and replace them with a space and then trim it to remove the unnecessary prefix and suffix spaces"
   ]
  },
  {
   "cell_type": "code",
   "execution_count": 12,
   "id": "1571d7b8",
   "metadata": {},
   "outputs": [
    {
     "name": "stderr",
     "output_type": "stream",
     "text": [
      "C:\\Users\\YASH_J~1\\AppData\\Local\\Temp/ipykernel_21156/2990885386.py:9: SettingWithCopyWarning: \n",
      "A value is trying to be set on a copy of a slice from a DataFrame.\n",
      "Try using .loc[row_indexer,col_indexer] = value instead\n",
      "\n",
      "See the caveats in the documentation: https://pandas.pydata.org/pandas-docs/stable/user_guide/indexing.html#returning-a-view-versus-a-copy\n",
      "  senti[\"Summary_Clean\"] = senti[\"reviews.text\"].apply(cleanup)\n",
      "C:\\Users\\YASH_J~1\\AppData\\Local\\Temp/ipykernel_21156/2990885386.py:10: SettingWithCopyWarning: \n",
      "A value is trying to be set on a copy of a slice from a DataFrame.\n",
      "Try using .loc[row_indexer,col_indexer] = value instead\n",
      "\n",
      "See the caveats in the documentation: https://pandas.pydata.org/pandas-docs/stable/user_guide/indexing.html#returning-a-view-versus-a-copy\n",
      "  check[\"Summary_Clean\"] = check[\"reviews.text\"].apply(cleanup)\n"
     ]
    }
   ],
   "source": [
    "cleanup_re = re.compile('[^a-z]+')\n",
    "def cleanup(sentence):\n",
    "    sentence = str(sentence)\n",
    "    sentence = sentence.lower()\n",
    "    sentence = cleanup_re.sub(' ', sentence).strip()\n",
    "    #sentence = \" \".join(nltk.word_tokenize(sentence))\n",
    "    return sentence\n",
    "\n",
    "senti[\"Summary_Clean\"] = senti[\"reviews.text\"].apply(cleanup)\n",
    "check[\"Summary_Clean\"] = check[\"reviews.text\"].apply(cleanup)"
   ]
  },
  {
   "cell_type": "markdown",
   "id": "642de193",
   "metadata": {},
   "source": [
    "# Splitting the data into train and test"
   ]
  },
  {
   "cell_type": "code",
   "execution_count": 13,
   "id": "81a37cad",
   "metadata": {},
   "outputs": [],
   "source": [
    "split = senti[[\"Summary_Clean\", \"senti\"]]\n",
    "train = split.sample(frac=0.8,random_state=200)\n",
    "test = split.drop(train.index)"
   ]
  },
  {
   "cell_type": "markdown",
   "id": "2ac6a799",
   "metadata": {},
   "source": [
    "# Generating features from all the words in a sentence"
   ]
  },
  {
   "cell_type": "code",
   "execution_count": 14,
   "id": "8988090a",
   "metadata": {},
   "outputs": [],
   "source": [
    "def word_feats(words):\n",
    "    features = {}\n",
    "    for word in words:\n",
    "        features [word] = True\n",
    "    return features"
   ]
  },
  {
   "cell_type": "markdown",
   "id": "42138571",
   "metadata": {},
   "source": [
    "# Generating data for modeling and Train model using Naive Bayes"
   ]
  },
  {
   "cell_type": "code",
   "execution_count": 15,
   "id": "c5f1c906",
   "metadata": {},
   "outputs": [
    {
     "name": "stderr",
     "output_type": "stream",
     "text": [
      "C:\\Users\\YASH_J~1\\AppData\\Local\\Temp/ipykernel_21156/1137078212.py:6: SettingWithCopyWarning: \n",
      "A value is trying to be set on a copy of a slice from a DataFrame.\n",
      "Try using .loc[row_indexer,col_indexer] = value instead\n",
      "\n",
      "See the caveats in the documentation: https://pandas.pydata.org/pandas-docs/stable/user_guide/indexing.html#returning-a-view-versus-a-copy\n",
      "  check[\"words\"] = check[\"Summary_Clean\"].str.lower().str.split()\n"
     ]
    },
    {
     "name": "stdout",
     "output_type": "stream",
     "text": [
      "NLTK Naive bayes Accuracy : 0.5897472924187726\n",
      "Most Informative Features\n",
      "                 deleted = True              neg : pos    =     51.3 : 1.0\n",
      "                 warning = True              neg : pos    =     51.3 : 1.0\n",
      "                    bent = True              neg : pos    =     42.0 : 1.0\n",
      "                    nope = True              neg : pos    =     42.0 : 1.0\n",
      "                  rotate = True              neg : pos    =     42.0 : 1.0\n"
     ]
    }
   ],
   "source": [
    "# Creating new feature in train, test and check dataframe\n",
    "# and providing then 'Summary_Clean' column after lower and \n",
    "# split into them words array\n",
    "train[\"words\"] = train[\"Summary_Clean\"].str.lower().str.split()\n",
    "test[\"words\"] = test[\"Summary_Clean\"].str.lower().str.split()\n",
    "check[\"words\"] = check[\"Summary_Clean\"].str.lower().str.split()\n",
    "\n",
    "train.index = range(train.shape[0]) # number of train records\n",
    "test.index = range(test.shape[0]) # number of test records\n",
    "check.index = range(check.shape[0]) # number of check records\n",
    "prediction =  {} ## For storing results of different classifiers\n",
    "\n",
    "# to store features and its sentiment whether its positive or negative\n",
    "# FORMAT: [{'word': True,....,'word': True}, 'pos']\n",
    "train_naive = []\n",
    "test_naive = []\n",
    "check_naive = []\n",
    "\n",
    "for i in range(train.shape[0]):\n",
    "    train_naive = train_naive + [[word_feats(train[\"words\"][i]) , train[\"senti\"][i]]]\n",
    "for i in range(test.shape[0]):\n",
    "    test_naive = test_naive + [[word_feats(test[\"words\"][i]) , test[\"senti\"][i]]]\n",
    "for i in range(check.shape[0]):\n",
    "    check_naive = check_naive + [word_feats(check[\"words\"][i])]\n",
    "\n",
    "classifier = NaiveBayesClassifier.train(train_naive)\n",
    "print(\"NLTK Naive bayes Accuracy : {}\".format(nltk.classify.util.accuracy(classifier , test_naive)))\n",
    "\n",
    "# to calculatw the most informative features, we use this function provided by NaiveBayesClassifier\n",
    "classifier.show_most_informative_features(5)"
   ]
  },
  {
   "cell_type": "markdown",
   "id": "6560b3c1",
   "metadata": {},
   "source": [
    "# Predicting test and check sentiments"
   ]
  },
  {
   "cell_type": "code",
   "execution_count": 16,
   "id": "5e4eb4ed",
   "metadata": {},
   "outputs": [
    {
     "name": "stderr",
     "output_type": "stream",
     "text": [
      "C:\\Users\\YASH_J~1\\AppData\\Local\\Temp/ipykernel_21156/4150512259.py:11: SettingWithCopyWarning: \n",
      "A value is trying to be set on a copy of a slice from a DataFrame.\n",
      "Try using .loc[row_indexer,col_indexer] = value instead\n",
      "\n",
      "See the caveats in the documentation: https://pandas.pydata.org/pandas-docs/stable/user_guide/indexing.html#returning-a-view-versus-a-copy\n",
      "  check[\"Naive\"] = y1\n"
     ]
    }
   ],
   "source": [
    "y =[]\n",
    "# only_Words will have {'word': True,....,'word': True} from [{'word': True,....,'word': True}, 'pos']\n",
    "only_words = [test_naive[i][0] for i in range(test.shape[0])]\n",
    "for i in range(test.shape[0]):\n",
    "    y = y + [classifier.classify(only_words[i])] # will classify whether the sentence is 'pos' and 'neg'\n",
    "prediction[\"Naive\"] = np.asarray(y)\n",
    "\n",
    "y1 = []\n",
    "for i in range(check.shape[0]):\n",
    "    y1 = y1 + [classifier.classify(check_naive[i])]\n",
    "check[\"Naive\"] = y1"
   ]
  },
  {
   "cell_type": "markdown",
   "id": "0c1f3054",
   "metadata": {},
   "source": [
    "# Converting data into vector\n",
    "#### CountVectorizer and TfdfTransformer together work same as TfdfVectorizer\n",
    "* __CountVectorizer:__ converts the words into vector\n",
    "* __TfdfTransformer:__ normalize that vector"
   ]
  },
  {
   "cell_type": "code",
   "execution_count": 17,
   "id": "50fc6312",
   "metadata": {},
   "outputs": [],
   "source": [
    "from nltk.corpus import stopwords\n",
    "\n",
    "from sklearn.feature_extraction.text import TfidfTransformer\n",
    "from sklearn.feature_extraction.text import CountVectorizer\n",
    "_stopwords = stopwords.words('english')\n",
    "_stopwords.remove(\"not\")\n",
    "\n",
    "count_vect = CountVectorizer(min_df=2 ,stop_words=_stopwords , ngram_range=(1,2))\n",
    "tfidf_transformer = TfidfTransformer()\n",
    "\n",
    "# fit_transform(): will calculate the mean and variance for each of the feature and transform the given data\n",
    "# transform(): will use the mean and variance calculate at the time of fit_transform() and transform the given data\n",
    "X_train_counts = count_vect.fit_transform(train[\"Summary_Clean\"])\n",
    "X_train_tfidf = tfidf_transformer.fit_transform(X_train_counts)\n",
    "\n",
    "X_new_counts = count_vect.transform(test[\"Summary_Clean\"])\n",
    "X_test_tfidf = tfidf_transformer.transform(X_new_counts)\n",
    "\n",
    "checkcounts = count_vect.transform(check[\"Summary_Clean\"])\n",
    "checktfidf = tfidf_transformer.transform(checkcounts)"
   ]
  },
  {
   "cell_type": "markdown",
   "id": "605a7332-1be4-41d0-9bf9-8e69e1c45e36",
   "metadata": {},
   "source": [
    "# Train model using Multinomial Naive Bayes"
   ]
  },
  {
   "cell_type": "code",
   "execution_count": 18,
   "id": "2d0959f1",
   "metadata": {},
   "outputs": [
    {
     "name": "stdout",
     "output_type": "stream",
     "text": [
      "Multinomial Accuracy : 0.9329963898916968\n"
     ]
    },
    {
     "name": "stderr",
     "output_type": "stream",
     "text": [
      "C:\\Users\\YASH_J~1\\AppData\\Local\\Temp/ipykernel_21156/4270760292.py:11: SettingWithCopyWarning: \n",
      "A value is trying to be set on a copy of a slice from a DataFrame.\n",
      "Try using .loc[row_indexer,col_indexer] = value instead\n",
      "\n",
      "See the caveats in the documentation: https://pandas.pydata.org/pandas-docs/stable/user_guide/indexing.html#returning-a-view-versus-a-copy\n",
      "  check[\"multi\"] = model1.predict(checktfidf)## Predicting Sentiment for Check which was Null values for rating\n"
     ]
    }
   ],
   "source": [
    "from sklearn.naive_bayes import MultinomialNB\n",
    "model1 = MultinomialNB().fit(X_train_tfidf , train[\"senti\"])\n",
    "\n",
    "# predict_proba: will return 2d array of shape (number of features, number of possible outcomes)\n",
    "# where each ith element will have some probability for each possible outcome which when sum comes 1\n",
    "# number of possible outcomes for this particular dataset is 'pos' or 'neg'\n",
    "# there for shape of array would be (number of features, 2)\n",
    "prediction['Multinomial'] = model1.predict_proba(X_test_tfidf)[:,1]\n",
    "print(\"Multinomial Accuracy : {}\".format(model1.score(X_test_tfidf , test[\"senti\"])))\n",
    "\n",
    "check[\"multi\"] = model1.predict(checktfidf)## Predicting Sentiment for Check which was Null values for rating"
   ]
  },
  {
   "cell_type": "markdown",
   "id": "00d5c4fe-608a-4044-a653-a1438b41ebc3",
   "metadata": {},
   "source": [
    "# Train model using Bernoulli Naive Bayes"
   ]
  },
  {
   "cell_type": "code",
   "execution_count": 19,
   "id": "b0a3e652",
   "metadata": {},
   "outputs": [
    {
     "name": "stdout",
     "output_type": "stream",
     "text": [
      "Bernoulli Accuracy : 0.91985559566787\n"
     ]
    },
    {
     "name": "stderr",
     "output_type": "stream",
     "text": [
      "C:\\Users\\YASH_J~1\\AppData\\Local\\Temp/ipykernel_21156/1792653343.py:6: SettingWithCopyWarning: \n",
      "A value is trying to be set on a copy of a slice from a DataFrame.\n",
      "Try using .loc[row_indexer,col_indexer] = value instead\n",
      "\n",
      "See the caveats in the documentation: https://pandas.pydata.org/pandas-docs/stable/user_guide/indexing.html#returning-a-view-versus-a-copy\n",
      "  check[\"Bill\"] = model2.predict(checktfidf)## Predicting Sentiment for Check which was Null values for rating\n"
     ]
    }
   ],
   "source": [
    "from sklearn.naive_bayes import BernoulliNB\n",
    "model2 = BernoulliNB().fit(X_train_tfidf,train[\"senti\"])\n",
    "prediction['Bernoulli'] = model2.predict_proba(X_test_tfidf)[:,1]\n",
    "print(\"Bernoulli Accuracy : {}\".format(model2.score(X_test_tfidf , test[\"senti\"])))\n",
    "\n",
    "check[\"Bill\"] = model2.predict(checktfidf)## Predicting Sentiment for Check which was Null values for rating"
   ]
  },
  {
   "cell_type": "markdown",
   "id": "0471bc5d-19bc-438d-b068-990acc09673f",
   "metadata": {},
   "source": [
    "# Train model using Logistic Regression"
   ]
  },
  {
   "cell_type": "code",
   "execution_count": 20,
   "id": "8d6ba448",
   "metadata": {},
   "outputs": [
    {
     "name": "stdout",
     "output_type": "stream",
     "text": [
      "Logistic Regression Accuracy : 0.9371841155234657\n"
     ]
    },
    {
     "name": "stderr",
     "output_type": "stream",
     "text": [
      "C:\\ProgramData\\Anaconda3\\lib\\site-packages\\sklearn\\linear_model\\_logistic.py:814: ConvergenceWarning: lbfgs failed to converge (status=1):\n",
      "STOP: TOTAL NO. of ITERATIONS REACHED LIMIT.\n",
      "\n",
      "Increase the number of iterations (max_iter) or scale the data as shown in:\n",
      "    https://scikit-learn.org/stable/modules/preprocessing.html\n",
      "Please also refer to the documentation for alternative solver options:\n",
      "    https://scikit-learn.org/stable/modules/linear_model.html#logistic-regression\n",
      "  n_iter_i = _check_optimize_result(\n",
      "C:\\Users\\YASH_J~1\\AppData\\Local\\Temp/ipykernel_21156/165588235.py:7: SettingWithCopyWarning: \n",
      "A value is trying to be set on a copy of a slice from a DataFrame.\n",
      "Try using .loc[row_indexer,col_indexer] = value instead\n",
      "\n",
      "See the caveats in the documentation: https://pandas.pydata.org/pandas-docs/stable/user_guide/indexing.html#returning-a-view-versus-a-copy\n",
      "  check[\"log\"] = logreg.predict(checktfidf)## Predicting Sentiment for Check which was Null values for rating\n"
     ]
    }
   ],
   "source": [
    "from sklearn import linear_model\n",
    "logreg = linear_model.LogisticRegression(solver='lbfgs' , C=1000)\n",
    "logistic = logreg.fit(X_train_tfidf, train[\"senti\"])\n",
    "prediction['LogisticRegression'] = logreg.predict_proba(X_test_tfidf)[:,1]\n",
    "print(\"Logistic Regression Accuracy : {}\".format(logreg.score(X_test_tfidf , test[\"senti\"])))\n",
    "\n",
    "check[\"log\"] = logreg.predict(checktfidf)## Predicting Sentiment for Check which was Null values for rating"
   ]
  },
  {
   "cell_type": "code",
   "execution_count": 21,
   "id": "46678cbb",
   "metadata": {},
   "outputs": [
    {
     "name": "stderr",
     "output_type": "stream",
     "text": [
      "C:\\ProgramData\\Anaconda3\\lib\\site-packages\\sklearn\\utils\\deprecation.py:87: FutureWarning: Function get_feature_names is deprecated; get_feature_names is deprecated in 1.0 and will be removed in 1.2. Please use get_feature_names_out instead.\n",
      "  warnings.warn(msg, category=FutureWarning)\n"
     ]
    },
    {
     "data": {
      "text/html": [
       "<div>\n",
       "<style scoped>\n",
       "    .dataframe tbody tr th:only-of-type {\n",
       "        vertical-align: middle;\n",
       "    }\n",
       "\n",
       "    .dataframe tbody tr th {\n",
       "        vertical-align: top;\n",
       "    }\n",
       "\n",
       "    .dataframe thead th {\n",
       "        text-align: right;\n",
       "    }\n",
       "</style>\n",
       "<table border=\"1\" class=\"dataframe\">\n",
       "  <thead>\n",
       "    <tr style=\"text-align: right;\">\n",
       "      <th></th>\n",
       "      <th>feature</th>\n",
       "      <th>coef</th>\n",
       "    </tr>\n",
       "  </thead>\n",
       "  <tbody>\n",
       "    <tr>\n",
       "      <th>25151</th>\n",
       "      <td>love definitely</td>\n",
       "      <td>-22.983914</td>\n",
       "    </tr>\n",
       "    <tr>\n",
       "      <th>43070</th>\n",
       "      <td>terrible</td>\n",
       "      <td>-20.239741</td>\n",
       "    </tr>\n",
       "    <tr>\n",
       "      <th>39400</th>\n",
       "      <td>slow</td>\n",
       "      <td>-19.720074</td>\n",
       "    </tr>\n",
       "    <tr>\n",
       "      <th>36799</th>\n",
       "      <td>returning</td>\n",
       "      <td>-19.266761</td>\n",
       "    </tr>\n",
       "    <tr>\n",
       "      <th>18903</th>\n",
       "      <td>great year</td>\n",
       "      <td>-18.748915</td>\n",
       "    </tr>\n",
       "    <tr>\n",
       "      <th>...</th>\n",
       "      <td>...</td>\n",
       "      <td>...</td>\n",
       "    </tr>\n",
       "    <tr>\n",
       "      <th>13164</th>\n",
       "      <td>excellent</td>\n",
       "      <td>16.392526</td>\n",
       "    </tr>\n",
       "    <tr>\n",
       "      <th>29179</th>\n",
       "      <td>not disappointed</td>\n",
       "      <td>16.860578</td>\n",
       "    </tr>\n",
       "    <tr>\n",
       "      <th>18321</th>\n",
       "      <td>great</td>\n",
       "      <td>18.847214</td>\n",
       "    </tr>\n",
       "    <tr>\n",
       "      <th>31562</th>\n",
       "      <td>perfect</td>\n",
       "      <td>20.001789</td>\n",
       "    </tr>\n",
       "    <tr>\n",
       "      <th>25070</th>\n",
       "      <td>love</td>\n",
       "      <td>28.826012</td>\n",
       "    </tr>\n",
       "  </tbody>\n",
       "</table>\n",
       "<p>49641 rows × 2 columns</p>\n",
       "</div>"
      ],
      "text/plain": [
       "                feature       coef\n",
       "25151   love definitely -22.983914\n",
       "43070          terrible -20.239741\n",
       "39400              slow -19.720074\n",
       "36799         returning -19.266761\n",
       "18903        great year -18.748915\n",
       "...                 ...        ...\n",
       "13164         excellent  16.392526\n",
       "29179  not disappointed  16.860578\n",
       "18321             great  18.847214\n",
       "31562           perfect  20.001789\n",
       "25070              love  28.826012\n",
       "\n",
       "[49641 rows x 2 columns]"
      ]
     },
     "execution_count": 21,
     "metadata": {},
     "output_type": "execute_result"
    }
   ],
   "source": [
    "words = count_vect.get_feature_names()\n",
    "feature_coefs = pd.DataFrame(\n",
    "    data = list(zip(words, logistic.coef_[0])),\n",
    "    columns = ['feature', 'coef'])\n",
    "feature_coefs.sort_values(by=\"coef\")"
   ]
  },
  {
   "cell_type": "code",
   "execution_count": 22,
   "id": "5d0bad23",
   "metadata": {},
   "outputs": [
    {
     "data": {
      "image/png": "[encoded data removed]",
      "text/plain": [
       "<Figure size 432x288 with 1 Axes>"
      ]
     },
     "metadata": {
      "needs_background": "light"
     },
     "output_type": "display_data"
    }
   ],
   "source": [
    "def formatt(x):\n",
    "    if x == 'neg':\n",
    "        return 0\n",
    "    if x == 0:\n",
    "        return 0\n",
    "    return 1\n",
    "vfunc = np.vectorize(formatt)\n",
    "\n",
    "cmp = 0\n",
    "colors = ['b', 'g', 'y', 'm', 'k']\n",
    "for model, predicted in prediction.items():\n",
    "    if model not in 'Naive':\n",
    "        false_positive_rate, true_positive_rate, thresholds = roc_curve(test[\"senti\"].map(vfunc), predicted)\n",
    "        roc_auc = auc(false_positive_rate, true_positive_rate)\n",
    "        plt.plot(false_positive_rate, true_positive_rate, colors[cmp], label='%s: AUC %0.2f'% (model,roc_auc))\n",
    "        cmp += 1\n",
    "\n",
    "plt.title('Classifiers comparaison with ROC')\n",
    "plt.legend(loc='lower right')\n",
    "plt.plot([0,1],[0,1],'r--')\n",
    "plt.xlim([-0.1,1.2])\n",
    "plt.ylim([-0.1,1.2])\n",
    "plt.ylabel('True Positive Rate')\n",
    "plt.xlabel('False Positive Rate')\n",
    "plt.show()"
   ]
  },
  {
   "cell_type": "code",
   "execution_count": 23,
   "id": "ee4271b7",
   "metadata": {},
   "outputs": [],
   "source": [
    "test.senti = test.senti.replace([\"pos\" , \"neg\"] , [True , False] )"
   ]
  },
  {
   "cell_type": "code",
   "execution_count": 24,
   "id": "8c9affb2",
   "metadata": {},
   "outputs": [
    {
     "name": "stdout",
     "output_type": "stream",
     "text": [
      " Multinomial:\n",
      "              precision    recall  f1-score   support\n",
      "\n",
      "    positive       0.00      0.00      0.00       464\n",
      "    negative       0.93      1.00      0.97      6461\n",
      "\n",
      "    accuracy                           0.93      6925\n",
      "   macro avg       0.47      0.50      0.48      6925\n",
      "weighted avg       0.87      0.93      0.90      6925\n",
      "\n",
      "\n",
      "\n",
      " Bernoulli:\n",
      "              precision    recall  f1-score   support\n",
      "\n",
      "    positive       0.32      0.17      0.22       464\n",
      "    negative       0.94      0.97      0.96      6461\n",
      "\n",
      "    accuracy                           0.92      6925\n",
      "   macro avg       0.63      0.57      0.59      6925\n",
      "weighted avg       0.90      0.92      0.91      6925\n",
      "\n",
      "\n",
      "\n",
      " LogisticRegression:\n",
      "              precision    recall  f1-score   support\n",
      "\n",
      "    positive       0.55      0.32      0.40       464\n",
      "    negative       0.95      0.98      0.97      6461\n",
      "\n",
      "    accuracy                           0.94      6925\n",
      "   macro avg       0.75      0.65      0.69      6925\n",
      "weighted avg       0.93      0.94      0.93      6925\n",
      "\n",
      "\n",
      "\n"
     ]
    },
    {
     "name": "stderr",
     "output_type": "stream",
     "text": [
      "C:\\ProgramData\\Anaconda3\\lib\\site-packages\\sklearn\\metrics\\_classification.py:1308: UndefinedMetricWarning: Precision and F-score are ill-defined and being set to 0.0 in labels with no predicted samples. Use `zero_division` parameter to control this behavior.\n",
      "  _warn_prf(average, modifier, msg_start, len(result))\n",
      "C:\\ProgramData\\Anaconda3\\lib\\site-packages\\sklearn\\metrics\\_classification.py:1308: UndefinedMetricWarning: Precision and F-score are ill-defined and being set to 0.0 in labels with no predicted samples. Use `zero_division` parameter to control this behavior.\n",
      "  _warn_prf(average, modifier, msg_start, len(result))\n",
      "C:\\ProgramData\\Anaconda3\\lib\\site-packages\\sklearn\\metrics\\_classification.py:1308: UndefinedMetricWarning: Precision and F-score are ill-defined and being set to 0.0 in labels with no predicted samples. Use `zero_division` parameter to control this behavior.\n",
      "  _warn_prf(average, modifier, msg_start, len(result))\n"
     ]
    }
   ],
   "source": [
    "keys = prediction.keys()\n",
    "for key in ['Multinomial', 'Bernoulli', 'LogisticRegression']:\n",
    "    print(\" {}:\".format(key))\n",
    "    print(metrics.classification_report(test[\"senti\"], prediction.get(key)>.5, target_names = [\"positive\", \"negative\"]))\n",
    "    print(\"\\n\")"
   ]
  },
  {
   "cell_type": "code",
   "execution_count": 25,
   "id": "652ccdd7",
   "metadata": {},
   "outputs": [
    {
     "name": "stdout",
     "output_type": "stream",
     "text": [
      "Sample estimated as POS: negative prob 0.000000, positive prob 1.000000\n",
      "Sample estimated as NEG: negative prob 0.991382, positive prob 0.008618\n",
      "Sample estimated as NEG: negative prob 0.979753, positive prob 0.020247\n",
      "Sample estimated as POS: negative prob 0.000010, positive prob 0.999990\n",
      "Sample estimated as POS: negative prob 0.457604, positive prob 0.542396\n"
     ]
    }
   ],
   "source": [
    "def test_sample(model, sample):\n",
    "    sample_counts = count_vect.transform([sample])\n",
    "    sample_tfidf = tfidf_transformer.transform(sample_counts)\n",
    "    result = model.predict(sample_tfidf)[0]\n",
    "    prob = model.predict_proba(sample_tfidf)[0]\n",
    "    print(\"Sample estimated as %s: negative prob %f, positive prob %f\" % (result.upper(), prob[0], prob[1]))\n",
    "\n",
    "test_sample(logreg, \"The product was good and easy to  use\")\n",
    "test_sample(logreg, \"the whole experience was horrible and product is worst\")\n",
    "test_sample(logreg, \"product is not good\")\n",
    "test_sample(logreg, \"product is good\")\n",
    "test_sample(logreg, \"product is good, but sometimes doesnot work properly\")"
   ]
  },
  {
   "cell_type": "code",
   "execution_count": 26,
   "id": "a85a873f",
   "metadata": {},
   "outputs": [
    {
     "data": {
      "text/html": [
       "<div>\n",
       "<style scoped>\n",
       "    .dataframe tbody tr th:only-of-type {\n",
       "        vertical-align: middle;\n",
       "    }\n",
       "\n",
       "    .dataframe tbody tr th {\n",
       "        vertical-align: top;\n",
       "    }\n",
       "\n",
       "    .dataframe thead th {\n",
       "        text-align: right;\n",
       "    }\n",
       "</style>\n",
       "<table border=\"1\" class=\"dataframe\">\n",
       "  <thead>\n",
       "    <tr style=\"text-align: right;\">\n",
       "      <th></th>\n",
       "      <th>reviews.rating</th>\n",
       "      <th>reviews.text</th>\n",
       "      <th>reviews.title</th>\n",
       "      <th>reviews.username</th>\n",
       "      <th>Summary_Clean</th>\n",
       "      <th>words</th>\n",
       "      <th>Naive</th>\n",
       "      <th>multi</th>\n",
       "      <th>Bill</th>\n",
       "      <th>log</th>\n",
       "    </tr>\n",
       "  </thead>\n",
       "  <tbody>\n",
       "    <tr>\n",
       "      <th>0</th>\n",
       "      <td>NaN</td>\n",
       "      <td>The Kindle is my first e-ink reader. I own an ...</td>\n",
       "      <td>Worth the money. Not perfect, but very very go...</td>\n",
       "      <td>Jeffrey Stanley</td>\n",
       "      <td>the kindle is my first e ink reader i own an i...</td>\n",
       "      <td>[the, kindle, is, my, first, e, ink, reader, i...</td>\n",
       "      <td>neg</td>\n",
       "      <td>pos</td>\n",
       "      <td>neg</td>\n",
       "      <td>pos</td>\n",
       "    </tr>\n",
       "    <tr>\n",
       "      <th>1</th>\n",
       "      <td>NaN</td>\n",
       "      <td>I'm a first-time Kindle owner, so I have nothi...</td>\n",
       "      <td>I Wanted a Dedicated E-Reader, and That's What...</td>\n",
       "      <td>Matthew Coenen</td>\n",
       "      <td>i m a first time kindle owner so i have nothin...</td>\n",
       "      <td>[i, m, a, first, time, kindle, owner, so, i, h...</td>\n",
       "      <td>neg</td>\n",
       "      <td>pos</td>\n",
       "      <td>neg</td>\n",
       "      <td>pos</td>\n",
       "    </tr>\n",
       "    <tr>\n",
       "      <th>2</th>\n",
       "      <td>NaN</td>\n",
       "      <td>UPDATE NOVEMBER 2011:My review is now over a y...</td>\n",
       "      <td>Kindle vs. Nook (updated)</td>\n",
       "      <td>Ron Cronovich</td>\n",
       "      <td>update november my review is now over a year o...</td>\n",
       "      <td>[update, november, my, review, is, now, over, ...</td>\n",
       "      <td>neg</td>\n",
       "      <td>pos</td>\n",
       "      <td>neg</td>\n",
       "      <td>pos</td>\n",
       "    </tr>\n",
       "    <tr>\n",
       "      <th>3</th>\n",
       "      <td>NaN</td>\n",
       "      <td>I'm a first-time Kindle owner, so I have nothi...</td>\n",
       "      <td>I Wanted a Dedicated E-Reader, and That's What...</td>\n",
       "      <td>Matthew Coenen</td>\n",
       "      <td>i m a first time kindle owner so i have nothin...</td>\n",
       "      <td>[i, m, a, first, time, kindle, owner, so, i, h...</td>\n",
       "      <td>neg</td>\n",
       "      <td>pos</td>\n",
       "      <td>neg</td>\n",
       "      <td>pos</td>\n",
       "    </tr>\n",
       "    <tr>\n",
       "      <th>4</th>\n",
       "      <td>NaN</td>\n",
       "      <td>I woke up to a nice surprise this morning: a n...</td>\n",
       "      <td>Not the perfect do-it-all device, but very clo...</td>\n",
       "      <td>C. Tipton</td>\n",
       "      <td>i woke up to a nice surprise this morning a ne...</td>\n",
       "      <td>[i, woke, up, to, a, nice, surprise, this, mor...</td>\n",
       "      <td>neg</td>\n",
       "      <td>pos</td>\n",
       "      <td>neg</td>\n",
       "      <td>pos</td>\n",
       "    </tr>\n",
       "    <tr>\n",
       "      <th>5</th>\n",
       "      <td>NaN</td>\n",
       "      <td>The Kindle is my first e-ink reader. I own an ...</td>\n",
       "      <td>Worth the money. Not perfect, but very very go...</td>\n",
       "      <td>Jeffrey Stanley</td>\n",
       "      <td>the kindle is my first e ink reader i own an i...</td>\n",
       "      <td>[the, kindle, is, my, first, e, ink, reader, i...</td>\n",
       "      <td>neg</td>\n",
       "      <td>pos</td>\n",
       "      <td>neg</td>\n",
       "      <td>pos</td>\n",
       "    </tr>\n",
       "    <tr>\n",
       "      <th>6</th>\n",
       "      <td>NaN</td>\n",
       "      <td>UPDATE NOVEMBER 2011:br /br /My review is now ...</td>\n",
       "      <td>Kindle vs. Nook (updated)</td>\n",
       "      <td>Ron Cronovich</td>\n",
       "      <td>update november br br my review is now over a ...</td>\n",
       "      <td>[update, november, br, br, my, review, is, now...</td>\n",
       "      <td>neg</td>\n",
       "      <td>pos</td>\n",
       "      <td>neg</td>\n",
       "      <td>pos</td>\n",
       "    </tr>\n",
       "    <tr>\n",
       "      <th>7</th>\n",
       "      <td>NaN</td>\n",
       "      <td>I woke up to a nice surprise this morning: a n...</td>\n",
       "      <td>Not the perfect do-it-all device, but very clo...</td>\n",
       "      <td>C. Tipton</td>\n",
       "      <td>i woke up to a nice surprise this morning a ne...</td>\n",
       "      <td>[i, woke, up, to, a, nice, surprise, this, mor...</td>\n",
       "      <td>neg</td>\n",
       "      <td>pos</td>\n",
       "      <td>neg</td>\n",
       "      <td>pos</td>\n",
       "    </tr>\n",
       "    <tr>\n",
       "      <th>8</th>\n",
       "      <td>NaN</td>\n",
       "      <td>I use to hate to read but now that I have my K...</td>\n",
       "      <td>Great</td>\n",
       "      <td>D. Tatro</td>\n",
       "      <td>i use to hate to read but now that i have my k...</td>\n",
       "      <td>[i, use, to, hate, to, read, but, now, that, i...</td>\n",
       "      <td>pos</td>\n",
       "      <td>pos</td>\n",
       "      <td>pos</td>\n",
       "      <td>pos</td>\n",
       "    </tr>\n",
       "    <tr>\n",
       "      <th>9</th>\n",
       "      <td>NaN</td>\n",
       "      <td>All of them quit working. There's absolutely n...</td>\n",
       "      <td>I've had 3!</td>\n",
       "      <td>M. Lansford Kindle fave</td>\n",
       "      <td>all of them quit working there s absolutely no...</td>\n",
       "      <td>[all, of, them, quit, working, there, s, absol...</td>\n",
       "      <td>neg</td>\n",
       "      <td>pos</td>\n",
       "      <td>pos</td>\n",
       "      <td>pos</td>\n",
       "    </tr>\n",
       "  </tbody>\n",
       "</table>\n",
       "</div>"
      ],
      "text/plain": [
       "   reviews.rating                                       reviews.text  \\\n",
       "0             NaN  The Kindle is my first e-ink reader. I own an ...   \n",
       "1             NaN  I'm a first-time Kindle owner, so I have nothi...   \n",
       "2             NaN  UPDATE NOVEMBER 2011:My review is now over a y...   \n",
       "3             NaN  I'm a first-time Kindle owner, so I have nothi...   \n",
       "4             NaN  I woke up to a nice surprise this morning: a n...   \n",
       "5             NaN  The Kindle is my first e-ink reader. I own an ...   \n",
       "6             NaN  UPDATE NOVEMBER 2011:br /br /My review is now ...   \n",
       "7             NaN  I woke up to a nice surprise this morning: a n...   \n",
       "8             NaN  I use to hate to read but now that I have my K...   \n",
       "9             NaN  All of them quit working. There's absolutely n...   \n",
       "\n",
       "                                       reviews.title         reviews.username  \\\n",
       "0  Worth the money. Not perfect, but very very go...          Jeffrey Stanley   \n",
       "1  I Wanted a Dedicated E-Reader, and That's What...           Matthew Coenen   \n",
       "2                          Kindle vs. Nook (updated)            Ron Cronovich   \n",
       "3  I Wanted a Dedicated E-Reader, and That's What...           Matthew Coenen   \n",
       "4  Not the perfect do-it-all device, but very clo...                C. Tipton   \n",
       "5  Worth the money. Not perfect, but very very go...          Jeffrey Stanley   \n",
       "6                          Kindle vs. Nook (updated)            Ron Cronovich   \n",
       "7  Not the perfect do-it-all device, but very clo...                C. Tipton   \n",
       "8                                              Great                 D. Tatro   \n",
       "9                                        I've had 3!  M. Lansford Kindle fave   \n",
       "\n",
       "                                       Summary_Clean  \\\n",
       "0  the kindle is my first e ink reader i own an i...   \n",
       "1  i m a first time kindle owner so i have nothin...   \n",
       "2  update november my review is now over a year o...   \n",
       "3  i m a first time kindle owner so i have nothin...   \n",
       "4  i woke up to a nice surprise this morning a ne...   \n",
       "5  the kindle is my first e ink reader i own an i...   \n",
       "6  update november br br my review is now over a ...   \n",
       "7  i woke up to a nice surprise this morning a ne...   \n",
       "8  i use to hate to read but now that i have my k...   \n",
       "9  all of them quit working there s absolutely no...   \n",
       "\n",
       "                                               words Naive multi Bill  log  \n",
       "0  [the, kindle, is, my, first, e, ink, reader, i...   neg   pos  neg  pos  \n",
       "1  [i, m, a, first, time, kindle, owner, so, i, h...   neg   pos  neg  pos  \n",
       "2  [update, november, my, review, is, now, over, ...   neg   pos  neg  pos  \n",
       "3  [i, m, a, first, time, kindle, owner, so, i, h...   neg   pos  neg  pos  \n",
       "4  [i, woke, up, to, a, nice, surprise, this, mor...   neg   pos  neg  pos  \n",
       "5  [the, kindle, is, my, first, e, ink, reader, i...   neg   pos  neg  pos  \n",
       "6  [update, november, br, br, my, review, is, now...   neg   pos  neg  pos  \n",
       "7  [i, woke, up, to, a, nice, surprise, this, mor...   neg   pos  neg  pos  \n",
       "8  [i, use, to, hate, to, read, but, now, that, i...   pos   pos  pos  pos  \n",
       "9  [all, of, them, quit, working, there, s, absol...   neg   pos  pos  pos  "
      ]
     },
     "execution_count": 26,
     "metadata": {},
     "output_type": "execute_result"
    }
   ],
   "source": [
    "check.head(10)"
   ]
  },
  {
   "cell_type": "code",
   "execution_count": null,
   "id": "bd8a6c85",
   "metadata": {},
   "outputs": [],
   "source": []
  }
 ],
 "metadata": {
  "kernelspec": {
   "display_name": "Python 3 (ipykernel)",
   "language": "python",
   "name": "python3"
  },
  "language_info": {
   "codemirror_mode": {
    "name": "ipython",
    "version": 3
   },
   "file_extension": ".py",
   "mimetype": "text/x-python",
   "name": "python",
   "nbconvert_exporter": "python",
   "pygments_lexer": "ipython3",
   "version": "3.9.7"
  }
 },
 "nbformat": 4,
 "nbformat_minor": 5
}
