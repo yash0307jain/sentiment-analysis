{
 "cells": [
  {
   "cell_type": "code",
   "execution_count": 1,
   "id": "r-B7sreOuean",
   "metadata": {
    "colab": {
     "base_uri": "https://localhost:8080/"
    },
    "id": "r-B7sreOuean",
    "outputId": "4e830296-38d1-4866-e545-2ff91c8e160a"
   },
   "outputs": [],
   "source": [
    "#import os\n",
    "#import glob\n",
    "#from google.colab import drive\n",
    "#drive.mount('/content/drive')\n",
    "#dataset_path = \"/content/drive/My Drive/Machine Learning/ML Datasets/Amazon_review/amazon_product_reviews.csv\"\n",
    "dataset_path = \"amazon_product_reviews.csv\""
   ]
  },
  {
   "cell_type": "code",
   "execution_count": 2,
   "id": "4TAQH5tbt-Yr",
   "metadata": {
    "colab": {
     "base_uri": "https://localhost:8080/"
    },
    "id": "4TAQH5tbt-Yr",
    "outputId": "d8183934-dbae-45b0-b391-47363f47319b"
   },
   "outputs": [],
   "source": [
    "#import nltk\n",
    "#nltk.download('stopwords')\n",
    "#nltk.download('wordnet')"
   ]
  },
  {
   "cell_type": "markdown",
   "id": "472d09c7",
   "metadata": {
    "id": "472d09c7"
   },
   "source": [
    "# Importing the required libraries"
   ]
  },
  {
   "cell_type": "code",
   "execution_count": 3,
   "id": "01f4f4ee",
   "metadata": {
    "id": "01f4f4ee"
   },
   "outputs": [],
   "source": [
    "import time\n",
    "\n",
    "# For loading data and data manipulation\n",
    "import numpy as np\n",
    "import pandas as pd\n",
    "import matplotlib.pyplot as plt\n",
    "plt.style.use('fivethirtyeight')\n",
    "\n",
    "# For cleaning the text\n",
    "from nltk.corpus import stopwords\n",
    "from nltk import RegexpTokenizer\n",
    "from nltk.stem import WordNetLemmatizer\n",
    "\n",
    "# For data preprocessing\n",
    "from sklearn.preprocessing import LabelEncoder\n",
    "from sklearn.model_selection import train_test_split\n",
    "\n",
    "# For preprocessing and modelling\n",
    "import tensorflow as tf"
   ]
  },
  {
   "cell_type": "markdown",
   "id": "0e1bd483",
   "metadata": {
    "id": "0e1bd483"
   },
   "source": [
    "# Loading the data"
   ]
  },
  {
   "cell_type": "code",
   "execution_count": 4,
   "id": "4c4d6752",
   "metadata": {
    "colab": {
     "base_uri": "https://localhost:8080/",
     "height": 855
    },
    "id": "4c4d6752",
    "outputId": "7f6cab91-8b73-4af2-bec0-a621ee22a6af"
   },
   "outputs": [
    {
     "name": "stderr",
     "output_type": "stream",
     "text": [
      "C:\\Users\\Yash_Jain1\\.conda\\envs\\tf-gpu\\lib\\site-packages\\IPython\\core\\interactiveshell.py:3072: DtypeWarning: Columns (1,10) have mixed types.Specify dtype option on import or set low_memory=False.\n",
      "  interactivity=interactivity, compiler=compiler, result=result)\n"
     ]
    },
    {
     "data": {
      "text/html": [
       "<div>\n",
       "<style scoped>\n",
       "    .dataframe tbody tr th:only-of-type {\n",
       "        vertical-align: middle;\n",
       "    }\n",
       "\n",
       "    .dataframe tbody tr th {\n",
       "        vertical-align: top;\n",
       "    }\n",
       "\n",
       "    .dataframe thead th {\n",
       "        text-align: right;\n",
       "    }\n",
       "</style>\n",
       "<table border=\"1\" class=\"dataframe\">\n",
       "  <thead>\n",
       "    <tr style=\"text-align: right;\">\n",
       "      <th></th>\n",
       "      <th>id</th>\n",
       "      <th>name</th>\n",
       "      <th>asins</th>\n",
       "      <th>brand</th>\n",
       "      <th>categories</th>\n",
       "      <th>keys</th>\n",
       "      <th>manufacturer</th>\n",
       "      <th>reviews.date</th>\n",
       "      <th>reviews.dateAdded</th>\n",
       "      <th>reviews.dateSeen</th>\n",
       "      <th>...</th>\n",
       "      <th>reviews.doRecommend</th>\n",
       "      <th>reviews.id</th>\n",
       "      <th>reviews.numHelpful</th>\n",
       "      <th>reviews.rating</th>\n",
       "      <th>reviews.sourceURLs</th>\n",
       "      <th>reviews.text</th>\n",
       "      <th>reviews.title</th>\n",
       "      <th>reviews.userCity</th>\n",
       "      <th>reviews.userProvince</th>\n",
       "      <th>reviews.username</th>\n",
       "    </tr>\n",
       "  </thead>\n",
       "  <tbody>\n",
       "    <tr>\n",
       "      <th>0</th>\n",
       "      <td>AVqkIhwDv8e3D1O-lebb</td>\n",
       "      <td>All-New Fire HD 8 Tablet, 8 HD Display, Wi-Fi,...</td>\n",
       "      <td>B01AHB9CN2</td>\n",
       "      <td>Amazon</td>\n",
       "      <td>Electronics,iPad &amp; Tablets,All Tablets,Fire Ta...</td>\n",
       "      <td>841667104676,amazon/53004484,amazon/b01ahb9cn2...</td>\n",
       "      <td>Amazon</td>\n",
       "      <td>2017-01-13T00:00:00.000Z</td>\n",
       "      <td>2017-07-03T23:33:15Z</td>\n",
       "      <td>2017-06-07T09:04:00.000Z,2017-04-30T00:45:00.000Z</td>\n",
       "      <td>...</td>\n",
       "      <td>True</td>\n",
       "      <td>NaN</td>\n",
       "      <td>0.0</td>\n",
       "      <td>5.0</td>\n",
       "      <td>http://reviews.bestbuy.com/3545/5620406/review...</td>\n",
       "      <td>This product so far has not disappointed. My c...</td>\n",
       "      <td>Kindle</td>\n",
       "      <td>NaN</td>\n",
       "      <td>NaN</td>\n",
       "      <td>Adapter</td>\n",
       "    </tr>\n",
       "    <tr>\n",
       "      <th>1</th>\n",
       "      <td>AVqkIhwDv8e3D1O-lebb</td>\n",
       "      <td>All-New Fire HD 8 Tablet, 8 HD Display, Wi-Fi,...</td>\n",
       "      <td>B01AHB9CN2</td>\n",
       "      <td>Amazon</td>\n",
       "      <td>Electronics,iPad &amp; Tablets,All Tablets,Fire Ta...</td>\n",
       "      <td>841667104676,amazon/53004484,amazon/b01ahb9cn2...</td>\n",
       "      <td>Amazon</td>\n",
       "      <td>2017-01-13T00:00:00.000Z</td>\n",
       "      <td>2017-07-03T23:33:15Z</td>\n",
       "      <td>2017-06-07T09:04:00.000Z,2017-04-30T00:45:00.000Z</td>\n",
       "      <td>...</td>\n",
       "      <td>True</td>\n",
       "      <td>NaN</td>\n",
       "      <td>0.0</td>\n",
       "      <td>5.0</td>\n",
       "      <td>http://reviews.bestbuy.com/3545/5620406/review...</td>\n",
       "      <td>great for beginner or experienced person. Boug...</td>\n",
       "      <td>very fast</td>\n",
       "      <td>NaN</td>\n",
       "      <td>NaN</td>\n",
       "      <td>truman</td>\n",
       "    </tr>\n",
       "    <tr>\n",
       "      <th>2</th>\n",
       "      <td>AVqkIhwDv8e3D1O-lebb</td>\n",
       "      <td>All-New Fire HD 8 Tablet, 8 HD Display, Wi-Fi,...</td>\n",
       "      <td>B01AHB9CN2</td>\n",
       "      <td>Amazon</td>\n",
       "      <td>Electronics,iPad &amp; Tablets,All Tablets,Fire Ta...</td>\n",
       "      <td>841667104676,amazon/53004484,amazon/b01ahb9cn2...</td>\n",
       "      <td>Amazon</td>\n",
       "      <td>2017-01-13T00:00:00.000Z</td>\n",
       "      <td>2017-07-03T23:33:15Z</td>\n",
       "      <td>2017-06-07T09:04:00.000Z,2017-04-30T00:45:00.000Z</td>\n",
       "      <td>...</td>\n",
       "      <td>True</td>\n",
       "      <td>NaN</td>\n",
       "      <td>0.0</td>\n",
       "      <td>5.0</td>\n",
       "      <td>http://reviews.bestbuy.com/3545/5620406/review...</td>\n",
       "      <td>Inexpensive tablet for him to use and learn on...</td>\n",
       "      <td>Beginner tablet for our 9 year old son.</td>\n",
       "      <td>NaN</td>\n",
       "      <td>NaN</td>\n",
       "      <td>DaveZ</td>\n",
       "    </tr>\n",
       "    <tr>\n",
       "      <th>3</th>\n",
       "      <td>AVqkIhwDv8e3D1O-lebb</td>\n",
       "      <td>All-New Fire HD 8 Tablet, 8 HD Display, Wi-Fi,...</td>\n",
       "      <td>B01AHB9CN2</td>\n",
       "      <td>Amazon</td>\n",
       "      <td>Electronics,iPad &amp; Tablets,All Tablets,Fire Ta...</td>\n",
       "      <td>841667104676,amazon/53004484,amazon/b01ahb9cn2...</td>\n",
       "      <td>Amazon</td>\n",
       "      <td>2017-01-13T00:00:00.000Z</td>\n",
       "      <td>2017-07-03T23:33:15Z</td>\n",
       "      <td>2017-06-07T09:04:00.000Z,2017-04-30T00:45:00.000Z</td>\n",
       "      <td>...</td>\n",
       "      <td>True</td>\n",
       "      <td>NaN</td>\n",
       "      <td>0.0</td>\n",
       "      <td>4.0</td>\n",
       "      <td>http://reviews.bestbuy.com/3545/5620406/review...</td>\n",
       "      <td>I've had my Fire HD 8 two weeks now and I love...</td>\n",
       "      <td>Good!!!</td>\n",
       "      <td>NaN</td>\n",
       "      <td>NaN</td>\n",
       "      <td>Shacks</td>\n",
       "    </tr>\n",
       "    <tr>\n",
       "      <th>4</th>\n",
       "      <td>AVqkIhwDv8e3D1O-lebb</td>\n",
       "      <td>All-New Fire HD 8 Tablet, 8 HD Display, Wi-Fi,...</td>\n",
       "      <td>B01AHB9CN2</td>\n",
       "      <td>Amazon</td>\n",
       "      <td>Electronics,iPad &amp; Tablets,All Tablets,Fire Ta...</td>\n",
       "      <td>841667104676,amazon/53004484,amazon/b01ahb9cn2...</td>\n",
       "      <td>Amazon</td>\n",
       "      <td>2017-01-12T00:00:00.000Z</td>\n",
       "      <td>2017-07-03T23:33:15Z</td>\n",
       "      <td>2017-06-07T09:04:00.000Z,2017-04-30T00:45:00.000Z</td>\n",
       "      <td>...</td>\n",
       "      <td>True</td>\n",
       "      <td>NaN</td>\n",
       "      <td>0.0</td>\n",
       "      <td>5.0</td>\n",
       "      <td>http://reviews.bestbuy.com/3545/5620406/review...</td>\n",
       "      <td>I bought this for my grand daughter when she c...</td>\n",
       "      <td>Fantastic Tablet for kids</td>\n",
       "      <td>NaN</td>\n",
       "      <td>NaN</td>\n",
       "      <td>explore42</td>\n",
       "    </tr>\n",
       "  </tbody>\n",
       "</table>\n",
       "<p>5 rows × 21 columns</p>\n",
       "</div>"
      ],
      "text/plain": [
       "                     id                                               name  \\\n",
       "0  AVqkIhwDv8e3D1O-lebb  All-New Fire HD 8 Tablet, 8 HD Display, Wi-Fi,...   \n",
       "1  AVqkIhwDv8e3D1O-lebb  All-New Fire HD 8 Tablet, 8 HD Display, Wi-Fi,...   \n",
       "2  AVqkIhwDv8e3D1O-lebb  All-New Fire HD 8 Tablet, 8 HD Display, Wi-Fi,...   \n",
       "3  AVqkIhwDv8e3D1O-lebb  All-New Fire HD 8 Tablet, 8 HD Display, Wi-Fi,...   \n",
       "4  AVqkIhwDv8e3D1O-lebb  All-New Fire HD 8 Tablet, 8 HD Display, Wi-Fi,...   \n",
       "\n",
       "        asins   brand                                         categories  \\\n",
       "0  B01AHB9CN2  Amazon  Electronics,iPad & Tablets,All Tablets,Fire Ta...   \n",
       "1  B01AHB9CN2  Amazon  Electronics,iPad & Tablets,All Tablets,Fire Ta...   \n",
       "2  B01AHB9CN2  Amazon  Electronics,iPad & Tablets,All Tablets,Fire Ta...   \n",
       "3  B01AHB9CN2  Amazon  Electronics,iPad & Tablets,All Tablets,Fire Ta...   \n",
       "4  B01AHB9CN2  Amazon  Electronics,iPad & Tablets,All Tablets,Fire Ta...   \n",
       "\n",
       "                                                keys manufacturer  \\\n",
       "0  841667104676,amazon/53004484,amazon/b01ahb9cn2...       Amazon   \n",
       "1  841667104676,amazon/53004484,amazon/b01ahb9cn2...       Amazon   \n",
       "2  841667104676,amazon/53004484,amazon/b01ahb9cn2...       Amazon   \n",
       "3  841667104676,amazon/53004484,amazon/b01ahb9cn2...       Amazon   \n",
       "4  841667104676,amazon/53004484,amazon/b01ahb9cn2...       Amazon   \n",
       "\n",
       "               reviews.date     reviews.dateAdded  \\\n",
       "0  2017-01-13T00:00:00.000Z  2017-07-03T23:33:15Z   \n",
       "1  2017-01-13T00:00:00.000Z  2017-07-03T23:33:15Z   \n",
       "2  2017-01-13T00:00:00.000Z  2017-07-03T23:33:15Z   \n",
       "3  2017-01-13T00:00:00.000Z  2017-07-03T23:33:15Z   \n",
       "4  2017-01-12T00:00:00.000Z  2017-07-03T23:33:15Z   \n",
       "\n",
       "                                    reviews.dateSeen  ... reviews.doRecommend  \\\n",
       "0  2017-06-07T09:04:00.000Z,2017-04-30T00:45:00.000Z  ...                True   \n",
       "1  2017-06-07T09:04:00.000Z,2017-04-30T00:45:00.000Z  ...                True   \n",
       "2  2017-06-07T09:04:00.000Z,2017-04-30T00:45:00.000Z  ...                True   \n",
       "3  2017-06-07T09:04:00.000Z,2017-04-30T00:45:00.000Z  ...                True   \n",
       "4  2017-06-07T09:04:00.000Z,2017-04-30T00:45:00.000Z  ...                True   \n",
       "\n",
       "  reviews.id  reviews.numHelpful  reviews.rating  \\\n",
       "0        NaN                 0.0             5.0   \n",
       "1        NaN                 0.0             5.0   \n",
       "2        NaN                 0.0             5.0   \n",
       "3        NaN                 0.0             4.0   \n",
       "4        NaN                 0.0             5.0   \n",
       "\n",
       "                                  reviews.sourceURLs  \\\n",
       "0  http://reviews.bestbuy.com/3545/5620406/review...   \n",
       "1  http://reviews.bestbuy.com/3545/5620406/review...   \n",
       "2  http://reviews.bestbuy.com/3545/5620406/review...   \n",
       "3  http://reviews.bestbuy.com/3545/5620406/review...   \n",
       "4  http://reviews.bestbuy.com/3545/5620406/review...   \n",
       "\n",
       "                                        reviews.text  \\\n",
       "0  This product so far has not disappointed. My c...   \n",
       "1  great for beginner or experienced person. Boug...   \n",
       "2  Inexpensive tablet for him to use and learn on...   \n",
       "3  I've had my Fire HD 8 two weeks now and I love...   \n",
       "4  I bought this for my grand daughter when she c...   \n",
       "\n",
       "                             reviews.title reviews.userCity  \\\n",
       "0                                   Kindle              NaN   \n",
       "1                                very fast              NaN   \n",
       "2  Beginner tablet for our 9 year old son.              NaN   \n",
       "3                                  Good!!!              NaN   \n",
       "4                Fantastic Tablet for kids              NaN   \n",
       "\n",
       "   reviews.userProvince  reviews.username  \n",
       "0                   NaN           Adapter  \n",
       "1                   NaN            truman  \n",
       "2                   NaN             DaveZ  \n",
       "3                   NaN            Shacks  \n",
       "4                   NaN         explore42  \n",
       "\n",
       "[5 rows x 21 columns]"
      ]
     },
     "execution_count": 4,
     "metadata": {},
     "output_type": "execute_result"
    }
   ],
   "source": [
    "df = pd.read_csv(dataset_path)\n",
    "df.head()"
   ]
  },
  {
   "cell_type": "markdown",
   "id": "13c338a8",
   "metadata": {
    "id": "13c338a8"
   },
   "source": [
    "# Getting one with the data"
   ]
  },
  {
   "cell_type": "code",
   "execution_count": 5,
   "id": "7f1ca674",
   "metadata": {
    "colab": {
     "base_uri": "https://localhost:8080/"
    },
    "id": "7f1ca674",
    "outputId": "b8f1a096-4d07-4254-a623-e82ad973a78f"
   },
   "outputs": [
    {
     "name": "stdout",
     "output_type": "stream",
     "text": [
      "<class 'pandas.core.frame.DataFrame'>\n",
      "RangeIndex: 34660 entries, 0 to 34659\n",
      "Data columns (total 21 columns):\n",
      " #   Column                Non-Null Count  Dtype  \n",
      "---  ------                --------------  -----  \n",
      " 0   id                    34660 non-null  object \n",
      " 1   name                  27900 non-null  object \n",
      " 2   asins                 34658 non-null  object \n",
      " 3   brand                 34660 non-null  object \n",
      " 4   categories            34660 non-null  object \n",
      " 5   keys                  34660 non-null  object \n",
      " 6   manufacturer          34660 non-null  object \n",
      " 7   reviews.date          34621 non-null  object \n",
      " 8   reviews.dateAdded     24039 non-null  object \n",
      " 9   reviews.dateSeen      34660 non-null  object \n",
      " 10  reviews.didPurchase   1 non-null      object \n",
      " 11  reviews.doRecommend   34066 non-null  object \n",
      " 12  reviews.id            1 non-null      float64\n",
      " 13  reviews.numHelpful    34131 non-null  float64\n",
      " 14  reviews.rating        34627 non-null  float64\n",
      " 15  reviews.sourceURLs    34660 non-null  object \n",
      " 16  reviews.text          34659 non-null  object \n",
      " 17  reviews.title         34655 non-null  object \n",
      " 18  reviews.userCity      0 non-null      float64\n",
      " 19  reviews.userProvince  0 non-null      float64\n",
      " 20  reviews.username      34658 non-null  object \n",
      "dtypes: float64(5), object(16)\n",
      "memory usage: 5.6+ MB\n"
     ]
    }
   ],
   "source": [
    "df.info()"
   ]
  },
  {
   "cell_type": "code",
   "execution_count": 6,
   "id": "b5e5ded5",
   "metadata": {
    "colab": {
     "base_uri": "https://localhost:8080/",
     "height": 300
    },
    "id": "b5e5ded5",
    "outputId": "d552839d-3d35-4ceb-8002-f6579a503ae1"
   },
   "outputs": [
    {
     "data": {
      "text/html": [
       "<div>\n",
       "<style scoped>\n",
       "    .dataframe tbody tr th:only-of-type {\n",
       "        vertical-align: middle;\n",
       "    }\n",
       "\n",
       "    .dataframe tbody tr th {\n",
       "        vertical-align: top;\n",
       "    }\n",
       "\n",
       "    .dataframe thead th {\n",
       "        text-align: right;\n",
       "    }\n",
       "</style>\n",
       "<table border=\"1\" class=\"dataframe\">\n",
       "  <thead>\n",
       "    <tr style=\"text-align: right;\">\n",
       "      <th></th>\n",
       "      <th>reviews.id</th>\n",
       "      <th>reviews.numHelpful</th>\n",
       "      <th>reviews.rating</th>\n",
       "      <th>reviews.userCity</th>\n",
       "      <th>reviews.userProvince</th>\n",
       "    </tr>\n",
       "  </thead>\n",
       "  <tbody>\n",
       "    <tr>\n",
       "      <th>count</th>\n",
       "      <td>1.0</td>\n",
       "      <td>34131.000000</td>\n",
       "      <td>34627.000000</td>\n",
       "      <td>0.0</td>\n",
       "      <td>0.0</td>\n",
       "    </tr>\n",
       "    <tr>\n",
       "      <th>mean</th>\n",
       "      <td>111372787.0</td>\n",
       "      <td>0.630248</td>\n",
       "      <td>4.584573</td>\n",
       "      <td>NaN</td>\n",
       "      <td>NaN</td>\n",
       "    </tr>\n",
       "    <tr>\n",
       "      <th>std</th>\n",
       "      <td>NaN</td>\n",
       "      <td>13.215775</td>\n",
       "      <td>0.735653</td>\n",
       "      <td>NaN</td>\n",
       "      <td>NaN</td>\n",
       "    </tr>\n",
       "    <tr>\n",
       "      <th>min</th>\n",
       "      <td>111372787.0</td>\n",
       "      <td>0.000000</td>\n",
       "      <td>1.000000</td>\n",
       "      <td>NaN</td>\n",
       "      <td>NaN</td>\n",
       "    </tr>\n",
       "    <tr>\n",
       "      <th>25%</th>\n",
       "      <td>111372787.0</td>\n",
       "      <td>0.000000</td>\n",
       "      <td>4.000000</td>\n",
       "      <td>NaN</td>\n",
       "      <td>NaN</td>\n",
       "    </tr>\n",
       "    <tr>\n",
       "      <th>50%</th>\n",
       "      <td>111372787.0</td>\n",
       "      <td>0.000000</td>\n",
       "      <td>5.000000</td>\n",
       "      <td>NaN</td>\n",
       "      <td>NaN</td>\n",
       "    </tr>\n",
       "    <tr>\n",
       "      <th>75%</th>\n",
       "      <td>111372787.0</td>\n",
       "      <td>0.000000</td>\n",
       "      <td>5.000000</td>\n",
       "      <td>NaN</td>\n",
       "      <td>NaN</td>\n",
       "    </tr>\n",
       "    <tr>\n",
       "      <th>max</th>\n",
       "      <td>111372787.0</td>\n",
       "      <td>814.000000</td>\n",
       "      <td>5.000000</td>\n",
       "      <td>NaN</td>\n",
       "      <td>NaN</td>\n",
       "    </tr>\n",
       "  </tbody>\n",
       "</table>\n",
       "</div>"
      ],
      "text/plain": [
       "        reviews.id  reviews.numHelpful  reviews.rating  reviews.userCity  \\\n",
       "count          1.0        34131.000000    34627.000000               0.0   \n",
       "mean   111372787.0            0.630248        4.584573               NaN   \n",
       "std            NaN           13.215775        0.735653               NaN   \n",
       "min    111372787.0            0.000000        1.000000               NaN   \n",
       "25%    111372787.0            0.000000        4.000000               NaN   \n",
       "50%    111372787.0            0.000000        5.000000               NaN   \n",
       "75%    111372787.0            0.000000        5.000000               NaN   \n",
       "max    111372787.0          814.000000        5.000000               NaN   \n",
       "\n",
       "       reviews.userProvince  \n",
       "count                   0.0  \n",
       "mean                    NaN  \n",
       "std                     NaN  \n",
       "min                     NaN  \n",
       "25%                     NaN  \n",
       "50%                     NaN  \n",
       "75%                     NaN  \n",
       "max                     NaN  "
      ]
     },
     "execution_count": 6,
     "metadata": {},
     "output_type": "execute_result"
    }
   ],
   "source": [
    "df.describe()"
   ]
  },
  {
   "cell_type": "code",
   "execution_count": 7,
   "id": "c00df117",
   "metadata": {
    "colab": {
     "base_uri": "https://localhost:8080/"
    },
    "id": "c00df117",
    "outputId": "a007d7f5-f162-4973-a9dd-00a8a174e618"
   },
   "outputs": [
    {
     "data": {
      "text/plain": [
       "Index(['id', 'name', 'asins', 'brand', 'categories', 'keys', 'manufacturer',\n",
       "       'reviews.date', 'reviews.dateAdded', 'reviews.dateSeen',\n",
       "       'reviews.didPurchase', 'reviews.doRecommend', 'reviews.id',\n",
       "       'reviews.numHelpful', 'reviews.rating', 'reviews.sourceURLs',\n",
       "       'reviews.text', 'reviews.title', 'reviews.userCity',\n",
       "       'reviews.userProvince', 'reviews.username'],\n",
       "      dtype='object')"
      ]
     },
     "execution_count": 7,
     "metadata": {},
     "output_type": "execute_result"
    }
   ],
   "source": [
    "df.columns"
   ]
  },
  {
   "cell_type": "code",
   "execution_count": 8,
   "id": "0721e9cc",
   "metadata": {
    "colab": {
     "base_uri": "https://localhost:8080/"
    },
    "id": "0721e9cc",
    "outputId": "d87049e3-3798-4480-e443-51c27c9c3154"
   },
   "outputs": [
    {
     "data": {
      "text/plain": [
       "(34660, 21)"
      ]
     },
     "execution_count": 8,
     "metadata": {},
     "output_type": "execute_result"
    }
   ],
   "source": [
    "df.shape"
   ]
  },
  {
   "cell_type": "markdown",
   "id": "be797643",
   "metadata": {
    "id": "be797643"
   },
   "source": [
    "# Taking the required columns"
   ]
  },
  {
   "cell_type": "code",
   "execution_count": 9,
   "id": "aac3e7e4",
   "metadata": {
    "colab": {
     "base_uri": "https://localhost:8080/",
     "height": 206
    },
    "id": "aac3e7e4",
    "outputId": "62732dce-5c80-4e02-e29f-b84c5d4612eb"
   },
   "outputs": [
    {
     "data": {
      "text/html": [
       "<div>\n",
       "<style scoped>\n",
       "    .dataframe tbody tr th:only-of-type {\n",
       "        vertical-align: middle;\n",
       "    }\n",
       "\n",
       "    .dataframe tbody tr th {\n",
       "        vertical-align: top;\n",
       "    }\n",
       "\n",
       "    .dataframe thead th {\n",
       "        text-align: right;\n",
       "    }\n",
       "</style>\n",
       "<table border=\"1\" class=\"dataframe\">\n",
       "  <thead>\n",
       "    <tr style=\"text-align: right;\">\n",
       "      <th></th>\n",
       "      <th>reviews.text</th>\n",
       "      <th>reviews.rating</th>\n",
       "    </tr>\n",
       "  </thead>\n",
       "  <tbody>\n",
       "    <tr>\n",
       "      <th>0</th>\n",
       "      <td>This product so far has not disappointed. My c...</td>\n",
       "      <td>5.0</td>\n",
       "    </tr>\n",
       "    <tr>\n",
       "      <th>1</th>\n",
       "      <td>great for beginner or experienced person. Boug...</td>\n",
       "      <td>5.0</td>\n",
       "    </tr>\n",
       "    <tr>\n",
       "      <th>2</th>\n",
       "      <td>Inexpensive tablet for him to use and learn on...</td>\n",
       "      <td>5.0</td>\n",
       "    </tr>\n",
       "    <tr>\n",
       "      <th>3</th>\n",
       "      <td>I've had my Fire HD 8 two weeks now and I love...</td>\n",
       "      <td>4.0</td>\n",
       "    </tr>\n",
       "    <tr>\n",
       "      <th>4</th>\n",
       "      <td>I bought this for my grand daughter when she c...</td>\n",
       "      <td>5.0</td>\n",
       "    </tr>\n",
       "  </tbody>\n",
       "</table>\n",
       "</div>"
      ],
      "text/plain": [
       "                                        reviews.text  reviews.rating\n",
       "0  This product so far has not disappointed. My c...             5.0\n",
       "1  great for beginner or experienced person. Boug...             5.0\n",
       "2  Inexpensive tablet for him to use and learn on...             5.0\n",
       "3  I've had my Fire HD 8 two weeks now and I love...             4.0\n",
       "4  I bought this for my grand daughter when she c...             5.0"
      ]
     },
     "execution_count": 9,
     "metadata": {},
     "output_type": "execute_result"
    }
   ],
   "source": [
    "required_columns = ['reviews.text', 'reviews.rating']\n",
    "df = df[required_columns]\n",
    "\n",
    "df.head()"
   ]
  },
  {
   "cell_type": "code",
   "execution_count": 10,
   "id": "3f3447fe",
   "metadata": {
    "colab": {
     "base_uri": "https://localhost:8080/"
    },
    "id": "3f3447fe",
    "outputId": "fbfc9814-8c96-4446-9ae4-5a7727b371d1"
   },
   "outputs": [],
   "source": [
    "df.rename(columns={'reviews.text': 'review', 'reviews.rating': 'rating'}, inplace=True)"
   ]
  },
  {
   "cell_type": "code",
   "execution_count": 11,
   "id": "89138451",
   "metadata": {
    "colab": {
     "base_uri": "https://localhost:8080/",
     "height": 206
    },
    "id": "89138451",
    "outputId": "c15075af-6501-44f1-cb55-3da84d76d703"
   },
   "outputs": [
    {
     "data": {
      "text/html": [
       "<div>\n",
       "<style scoped>\n",
       "    .dataframe tbody tr th:only-of-type {\n",
       "        vertical-align: middle;\n",
       "    }\n",
       "\n",
       "    .dataframe tbody tr th {\n",
       "        vertical-align: top;\n",
       "    }\n",
       "\n",
       "    .dataframe thead th {\n",
       "        text-align: right;\n",
       "    }\n",
       "</style>\n",
       "<table border=\"1\" class=\"dataframe\">\n",
       "  <thead>\n",
       "    <tr style=\"text-align: right;\">\n",
       "      <th></th>\n",
       "      <th>review</th>\n",
       "      <th>rating</th>\n",
       "    </tr>\n",
       "  </thead>\n",
       "  <tbody>\n",
       "    <tr>\n",
       "      <th>0</th>\n",
       "      <td>This product so far has not disappointed. My c...</td>\n",
       "      <td>5.0</td>\n",
       "    </tr>\n",
       "    <tr>\n",
       "      <th>1</th>\n",
       "      <td>great for beginner or experienced person. Boug...</td>\n",
       "      <td>5.0</td>\n",
       "    </tr>\n",
       "    <tr>\n",
       "      <th>2</th>\n",
       "      <td>Inexpensive tablet for him to use and learn on...</td>\n",
       "      <td>5.0</td>\n",
       "    </tr>\n",
       "    <tr>\n",
       "      <th>3</th>\n",
       "      <td>I've had my Fire HD 8 two weeks now and I love...</td>\n",
       "      <td>4.0</td>\n",
       "    </tr>\n",
       "    <tr>\n",
       "      <th>4</th>\n",
       "      <td>I bought this for my grand daughter when she c...</td>\n",
       "      <td>5.0</td>\n",
       "    </tr>\n",
       "  </tbody>\n",
       "</table>\n",
       "</div>"
      ],
      "text/plain": [
       "                                              review  rating\n",
       "0  This product so far has not disappointed. My c...     5.0\n",
       "1  great for beginner or experienced person. Boug...     5.0\n",
       "2  Inexpensive tablet for him to use and learn on...     5.0\n",
       "3  I've had my Fire HD 8 two weeks now and I love...     4.0\n",
       "4  I bought this for my grand daughter when she c...     5.0"
      ]
     },
     "execution_count": 11,
     "metadata": {},
     "output_type": "execute_result"
    }
   ],
   "source": [
    "df.head()"
   ]
  },
  {
   "cell_type": "code",
   "execution_count": 12,
   "id": "7589cd03",
   "metadata": {
    "colab": {
     "base_uri": "https://localhost:8080/"
    },
    "id": "7589cd03",
    "outputId": "5a7e4616-eb24-4ea7-eaa9-720302401feb"
   },
   "outputs": [
    {
     "data": {
      "text/plain": [
       "(34660, 2)"
      ]
     },
     "execution_count": 12,
     "metadata": {},
     "output_type": "execute_result"
    }
   ],
   "source": [
    "df.shape"
   ]
  },
  {
   "cell_type": "markdown",
   "id": "9e4c0bd2",
   "metadata": {
    "id": "9e4c0bd2"
   },
   "source": [
    " # Counting the number of characters in each review"
   ]
  },
  {
   "cell_type": "code",
   "execution_count": 13,
   "id": "a121abd3",
   "metadata": {
    "id": "a121abd3"
   },
   "outputs": [],
   "source": [
    "df['char_count'] = df['review'].str.len().values"
   ]
  },
  {
   "cell_type": "code",
   "execution_count": 14,
   "id": "7ae46936",
   "metadata": {
    "colab": {
     "base_uri": "https://localhost:8080/",
     "height": 206
    },
    "id": "7ae46936",
    "outputId": "5445f02c-4db9-4b5b-fa20-87286adfa9f2"
   },
   "outputs": [
    {
     "data": {
      "text/html": [
       "<div>\n",
       "<style scoped>\n",
       "    .dataframe tbody tr th:only-of-type {\n",
       "        vertical-align: middle;\n",
       "    }\n",
       "\n",
       "    .dataframe tbody tr th {\n",
       "        vertical-align: top;\n",
       "    }\n",
       "\n",
       "    .dataframe thead th {\n",
       "        text-align: right;\n",
       "    }\n",
       "</style>\n",
       "<table border=\"1\" class=\"dataframe\">\n",
       "  <thead>\n",
       "    <tr style=\"text-align: right;\">\n",
       "      <th></th>\n",
       "      <th>review</th>\n",
       "      <th>rating</th>\n",
       "      <th>char_count</th>\n",
       "    </tr>\n",
       "  </thead>\n",
       "  <tbody>\n",
       "    <tr>\n",
       "      <th>0</th>\n",
       "      <td>This product so far has not disappointed. My c...</td>\n",
       "      <td>5.0</td>\n",
       "      <td>143.0</td>\n",
       "    </tr>\n",
       "    <tr>\n",
       "      <th>1</th>\n",
       "      <td>great for beginner or experienced person. Boug...</td>\n",
       "      <td>5.0</td>\n",
       "      <td>75.0</td>\n",
       "    </tr>\n",
       "    <tr>\n",
       "      <th>2</th>\n",
       "      <td>Inexpensive tablet for him to use and learn on...</td>\n",
       "      <td>5.0</td>\n",
       "      <td>131.0</td>\n",
       "    </tr>\n",
       "    <tr>\n",
       "      <th>3</th>\n",
       "      <td>I've had my Fire HD 8 two weeks now and I love...</td>\n",
       "      <td>4.0</td>\n",
       "      <td>593.0</td>\n",
       "    </tr>\n",
       "    <tr>\n",
       "      <th>4</th>\n",
       "      <td>I bought this for my grand daughter when she c...</td>\n",
       "      <td>5.0</td>\n",
       "      <td>613.0</td>\n",
       "    </tr>\n",
       "  </tbody>\n",
       "</table>\n",
       "</div>"
      ],
      "text/plain": [
       "                                              review  rating  char_count\n",
       "0  This product so far has not disappointed. My c...     5.0       143.0\n",
       "1  great for beginner or experienced person. Boug...     5.0        75.0\n",
       "2  Inexpensive tablet for him to use and learn on...     5.0       131.0\n",
       "3  I've had my Fire HD 8 two weeks now and I love...     4.0       593.0\n",
       "4  I bought this for my grand daughter when she c...     5.0       613.0"
      ]
     },
     "execution_count": 14,
     "metadata": {},
     "output_type": "execute_result"
    }
   ],
   "source": [
    "df.head()"
   ]
  },
  {
   "cell_type": "code",
   "execution_count": 15,
   "id": "ba4fa634",
   "metadata": {
    "colab": {
     "base_uri": "https://localhost:8080/"
    },
    "id": "ba4fa634",
    "outputId": "2c6a514a-210c-49c5-aae7-88d9e4cb1b32"
   },
   "outputs": [
    {
     "data": {
      "text/plain": [
       "(34660, 3)"
      ]
     },
     "execution_count": 15,
     "metadata": {},
     "output_type": "execute_result"
    }
   ],
   "source": [
    "df.shape"
   ]
  },
  {
   "cell_type": "markdown",
   "id": "5ea66e4a",
   "metadata": {
    "id": "5ea66e4a"
   },
   "source": [
    "# Function to plot the curve between number of records & given column"
   ]
  },
  {
   "cell_type": "code",
   "execution_count": 16,
   "id": "09f61286",
   "metadata": {
    "id": "09f61286"
   },
   "outputs": [],
   "source": [
    "def plot_count(df, col, label):\n",
    "    plt.figure(figsize=(12, 7))\n",
    "    plt.plot(df[col], label=label)\n",
    "    plt.legend()\n",
    "    plt.xlabel('Number of review')\n",
    "    plt.ylabel('Count')\n",
    "    plt.show()"
   ]
  },
  {
   "cell_type": "markdown",
   "id": "32964c15",
   "metadata": {
    "id": "32964c15"
   },
   "source": [
    "# Removing the outliers on the basis of number of characters"
   ]
  },
  {
   "cell_type": "code",
   "execution_count": 17,
   "id": "9ca25739",
   "metadata": {
    "colab": {
     "base_uri": "https://localhost:8080/",
     "height": 479
    },
    "id": "9ca25739",
    "outputId": "62ba36be-96dd-42e2-ae8a-2dc38df0b6df"
   },
   "outputs": [
    {
     "data": {
      "image/png": "[encoded data removed]",
      "text/plain": [
       "<Figure size 864x504 with 1 Axes>"
      ]
     },
     "metadata": {},
     "output_type": "display_data"
    }
   ],
   "source": [
    "plot_count(df, 'char_count', 'Number of char')"
   ]
  },
  {
   "cell_type": "markdown",
   "id": "86ae3419",
   "metadata": {
    "id": "86ae3419"
   },
   "source": [
    "### min, max and mean of the the char_count column"
   ]
  },
  {
   "cell_type": "code",
   "execution_count": 18,
   "id": "981654d5",
   "metadata": {
    "colab": {
     "base_uri": "https://localhost:8080/"
    },
    "id": "981654d5",
    "outputId": "53e92b82-a863-4578-906c-7cfa65c286aa"
   },
   "outputs": [
    {
     "data": {
      "text/plain": [
       "(3.0, 10670.0, 159.04743356703887)"
      ]
     },
     "execution_count": 18,
     "metadata": {},
     "output_type": "execute_result"
    }
   ],
   "source": [
    "df['char_count'].min(), df['char_count'].max(), df['char_count'].mean()"
   ]
  },
  {
   "cell_type": "markdown",
   "id": "03ed30ea",
   "metadata": {
    "id": "03ed30ea"
   },
   "source": [
    "### Removing all the records that has more than 2000 characters"
   ]
  },
  {
   "cell_type": "code",
   "execution_count": 19,
   "id": "14cdaa8d",
   "metadata": {
    "id": "14cdaa8d"
   },
   "outputs": [],
   "source": [
    "df = df[df['char_count'] <= 2000]"
   ]
  },
  {
   "cell_type": "code",
   "execution_count": 20,
   "id": "e2cca9c6",
   "metadata": {
    "colab": {
     "base_uri": "https://localhost:8080/",
     "height": 479
    },
    "id": "e2cca9c6",
    "outputId": "4961ffde-9cd9-44fd-aeb7-a06e9bc66997"
   },
   "outputs": [
    {
     "data": {
      "image/png": "[encoded data removed]",
      "text/plain": [
       "<Figure size 864x504 with 1 Axes>"
      ]
     },
     "metadata": {},
     "output_type": "display_data"
    }
   ],
   "source": [
    "plot_count(df, 'char_count', 'Number of char')"
   ]
  },
  {
   "cell_type": "code",
   "execution_count": 21,
   "id": "98a62687",
   "metadata": {
    "colab": {
     "base_uri": "https://localhost:8080/"
    },
    "id": "98a62687",
    "outputId": "ec9656af-e83b-4510-bd8a-ab49d0889897"
   },
   "outputs": [
    {
     "data": {
      "text/plain": [
       "(34631, 3)"
      ]
     },
     "execution_count": 21,
     "metadata": {},
     "output_type": "execute_result"
    }
   ],
   "source": [
    "df.shape"
   ]
  },
  {
   "cell_type": "markdown",
   "id": "20e7c2ed",
   "metadata": {
    "id": "20e7c2ed"
   },
   "source": [
    "### Also removing all those records which has less than 50 characters"
   ]
  },
  {
   "cell_type": "code",
   "execution_count": 22,
   "id": "81bfd2a3",
   "metadata": {
    "id": "81bfd2a3"
   },
   "outputs": [],
   "source": [
    "df = df[df['char_count'] > 50]"
   ]
  },
  {
   "cell_type": "code",
   "execution_count": 23,
   "id": "ed7929a0",
   "metadata": {
    "colab": {
     "base_uri": "https://localhost:8080/",
     "height": 479
    },
    "id": "ed7929a0",
    "outputId": "14824060-7f02-4ba2-ff20-29273a2c51fc"
   },
   "outputs": [
    {
     "data": {
      "image/png": "[encoded data removed]",
      "text/plain": [
       "<Figure size 864x504 with 1 Axes>"
      ]
     },
     "metadata": {},
     "output_type": "display_data"
    }
   ],
   "source": [
    "plot_count(df, 'char_count', 'Number of char')"
   ]
  },
  {
   "cell_type": "code",
   "execution_count": 24,
   "id": "d685ed4c",
   "metadata": {
    "colab": {
     "base_uri": "https://localhost:8080/"
    },
    "id": "d685ed4c",
    "outputId": "4db923d7-2887-4d2d-c2e8-c55a472c88d0"
   },
   "outputs": [
    {
     "data": {
      "text/plain": [
       "(33509, 3)"
      ]
     },
     "execution_count": 24,
     "metadata": {},
     "output_type": "execute_result"
    }
   ],
   "source": [
    "df.shape"
   ]
  },
  {
   "cell_type": "markdown",
   "id": "966d8c35",
   "metadata": {
    "id": "966d8c35"
   },
   "source": [
    "# Counting the number of words in each review"
   ]
  },
  {
   "cell_type": "code",
   "execution_count": 25,
   "id": "7a7de211",
   "metadata": {
    "id": "7a7de211"
   },
   "outputs": [],
   "source": [
    "df['word_count'] = df['review'].apply(lambda x: len(x.split()))"
   ]
  },
  {
   "cell_type": "code",
   "execution_count": 26,
   "id": "2fd512dd",
   "metadata": {
    "colab": {
     "base_uri": "https://localhost:8080/",
     "height": 206
    },
    "id": "2fd512dd",
    "outputId": "b5b5773d-97b1-4905-9f3c-ea41d5ae2691"
   },
   "outputs": [
    {
     "data": {
      "text/html": [
       "<div>\n",
       "<style scoped>\n",
       "    .dataframe tbody tr th:only-of-type {\n",
       "        vertical-align: middle;\n",
       "    }\n",
       "\n",
       "    .dataframe tbody tr th {\n",
       "        vertical-align: top;\n",
       "    }\n",
       "\n",
       "    .dataframe thead th {\n",
       "        text-align: right;\n",
       "    }\n",
       "</style>\n",
       "<table border=\"1\" class=\"dataframe\">\n",
       "  <thead>\n",
       "    <tr style=\"text-align: right;\">\n",
       "      <th></th>\n",
       "      <th>review</th>\n",
       "      <th>rating</th>\n",
       "      <th>char_count</th>\n",
       "      <th>word_count</th>\n",
       "    </tr>\n",
       "  </thead>\n",
       "  <tbody>\n",
       "    <tr>\n",
       "      <th>0</th>\n",
       "      <td>This product so far has not disappointed. My c...</td>\n",
       "      <td>5.0</td>\n",
       "      <td>143.0</td>\n",
       "      <td>27</td>\n",
       "    </tr>\n",
       "    <tr>\n",
       "      <th>1</th>\n",
       "      <td>great for beginner or experienced person. Boug...</td>\n",
       "      <td>5.0</td>\n",
       "      <td>75.0</td>\n",
       "      <td>14</td>\n",
       "    </tr>\n",
       "    <tr>\n",
       "      <th>2</th>\n",
       "      <td>Inexpensive tablet for him to use and learn on...</td>\n",
       "      <td>5.0</td>\n",
       "      <td>131.0</td>\n",
       "      <td>26</td>\n",
       "    </tr>\n",
       "    <tr>\n",
       "      <th>3</th>\n",
       "      <td>I've had my Fire HD 8 two weeks now and I love...</td>\n",
       "      <td>4.0</td>\n",
       "      <td>593.0</td>\n",
       "      <td>117</td>\n",
       "    </tr>\n",
       "    <tr>\n",
       "      <th>4</th>\n",
       "      <td>I bought this for my grand daughter when she c...</td>\n",
       "      <td>5.0</td>\n",
       "      <td>613.0</td>\n",
       "      <td>117</td>\n",
       "    </tr>\n",
       "  </tbody>\n",
       "</table>\n",
       "</div>"
      ],
      "text/plain": [
       "                                              review  rating  char_count  \\\n",
       "0  This product so far has not disappointed. My c...     5.0       143.0   \n",
       "1  great for beginner or experienced person. Boug...     5.0        75.0   \n",
       "2  Inexpensive tablet for him to use and learn on...     5.0       131.0   \n",
       "3  I've had my Fire HD 8 two weeks now and I love...     4.0       593.0   \n",
       "4  I bought this for my grand daughter when she c...     5.0       613.0   \n",
       "\n",
       "   word_count  \n",
       "0          27  \n",
       "1          14  \n",
       "2          26  \n",
       "3         117  \n",
       "4         117  "
      ]
     },
     "execution_count": 26,
     "metadata": {},
     "output_type": "execute_result"
    }
   ],
   "source": [
    "df.head()"
   ]
  },
  {
   "cell_type": "code",
   "execution_count": 27,
   "id": "d54fce01",
   "metadata": {
    "colab": {
     "base_uri": "https://localhost:8080/",
     "height": 479
    },
    "id": "d54fce01",
    "outputId": "c102ebba-30cc-4b4e-8198-63ea480ee297"
   },
   "outputs": [
    {
     "data": {
      "image/png": "[encoded data removed]",
      "text/plain": [
       "<Figure size 864x504 with 1 Axes>"
      ]
     },
     "metadata": {},
     "output_type": "display_data"
    }
   ],
   "source": [
    "plot_count(df, 'word_count', 'Number of words')"
   ]
  },
  {
   "cell_type": "markdown",
   "id": "2116d41d",
   "metadata": {},
   "source": [
    "# Count the number of records of each rating"
   ]
  },
  {
   "cell_type": "code",
   "execution_count": 28,
   "id": "c65c6cfe",
   "metadata": {},
   "outputs": [
    {
     "data": {
      "image/png": "[encoded data removed]",
      "text/plain": [
       "<Figure size 864x504 with 1 Axes>"
      ]
     },
     "metadata": {},
     "output_type": "display_data"
    }
   ],
   "source": [
    "plt.figure(figsize=(12,7))\n",
    "plt.hist(df['rating'], range(6))\n",
    "plt.title('Number of records of rating i to i+1')\n",
    "plt.xlabel('Rating')\n",
    "plt.ylabel('Record count')\n",
    "plt.show()"
   ]
  },
  {
   "cell_type": "markdown",
   "id": "0ad2c3c8",
   "metadata": {
    "id": "0ad2c3c8"
   },
   "source": [
    "# Making reviews greater than rating 4 as positive and less than 4 as negative"
   ]
  },
  {
   "cell_type": "code",
   "execution_count": 29,
   "id": "dc47dd08",
   "metadata": {
    "id": "dc47dd08"
   },
   "outputs": [],
   "source": [
    "df['sentiment'] = df['rating'] >= 4.0"
   ]
  },
  {
   "cell_type": "code",
   "execution_count": 30,
   "id": "2009fd25",
   "metadata": {
    "colab": {
     "base_uri": "https://localhost:8080/",
     "height": 206
    },
    "id": "2009fd25",
    "outputId": "5f8fe507-d955-4c3a-e86a-aba6c576ac3e"
   },
   "outputs": [
    {
     "data": {
      "text/html": [
       "<div>\n",
       "<style scoped>\n",
       "    .dataframe tbody tr th:only-of-type {\n",
       "        vertical-align: middle;\n",
       "    }\n",
       "\n",
       "    .dataframe tbody tr th {\n",
       "        vertical-align: top;\n",
       "    }\n",
       "\n",
       "    .dataframe thead th {\n",
       "        text-align: right;\n",
       "    }\n",
       "</style>\n",
       "<table border=\"1\" class=\"dataframe\">\n",
       "  <thead>\n",
       "    <tr style=\"text-align: right;\">\n",
       "      <th></th>\n",
       "      <th>review</th>\n",
       "      <th>rating</th>\n",
       "      <th>char_count</th>\n",
       "      <th>word_count</th>\n",
       "      <th>sentiment</th>\n",
       "    </tr>\n",
       "  </thead>\n",
       "  <tbody>\n",
       "    <tr>\n",
       "      <th>0</th>\n",
       "      <td>This product so far has not disappointed. My c...</td>\n",
       "      <td>5.0</td>\n",
       "      <td>143.0</td>\n",
       "      <td>27</td>\n",
       "      <td>True</td>\n",
       "    </tr>\n",
       "    <tr>\n",
       "      <th>1</th>\n",
       "      <td>great for beginner or experienced person. Boug...</td>\n",
       "      <td>5.0</td>\n",
       "      <td>75.0</td>\n",
       "      <td>14</td>\n",
       "      <td>True</td>\n",
       "    </tr>\n",
       "    <tr>\n",
       "      <th>2</th>\n",
       "      <td>Inexpensive tablet for him to use and learn on...</td>\n",
       "      <td>5.0</td>\n",
       "      <td>131.0</td>\n",
       "      <td>26</td>\n",
       "      <td>True</td>\n",
       "    </tr>\n",
       "    <tr>\n",
       "      <th>3</th>\n",
       "      <td>I've had my Fire HD 8 two weeks now and I love...</td>\n",
       "      <td>4.0</td>\n",
       "      <td>593.0</td>\n",
       "      <td>117</td>\n",
       "      <td>True</td>\n",
       "    </tr>\n",
       "    <tr>\n",
       "      <th>4</th>\n",
       "      <td>I bought this for my grand daughter when she c...</td>\n",
       "      <td>5.0</td>\n",
       "      <td>613.0</td>\n",
       "      <td>117</td>\n",
       "      <td>True</td>\n",
       "    </tr>\n",
       "  </tbody>\n",
       "</table>\n",
       "</div>"
      ],
      "text/plain": [
       "                                              review  rating  char_count  \\\n",
       "0  This product so far has not disappointed. My c...     5.0       143.0   \n",
       "1  great for beginner or experienced person. Boug...     5.0        75.0   \n",
       "2  Inexpensive tablet for him to use and learn on...     5.0       131.0   \n",
       "3  I've had my Fire HD 8 two weeks now and I love...     4.0       593.0   \n",
       "4  I bought this for my grand daughter when she c...     5.0       613.0   \n",
       "\n",
       "   word_count  sentiment  \n",
       "0          27       True  \n",
       "1          14       True  \n",
       "2          26       True  \n",
       "3         117       True  \n",
       "4         117       True  "
      ]
     },
     "execution_count": 30,
     "metadata": {},
     "output_type": "execute_result"
    }
   ],
   "source": [
    "df.head()"
   ]
  },
  {
   "cell_type": "code",
   "execution_count": 31,
   "id": "7f8c5a79",
   "metadata": {
    "id": "7f8c5a79"
   },
   "outputs": [],
   "source": [
    "df['sentiment'] = df['sentiment'].replace([True, False], ['positive', 'negative'])"
   ]
  },
  {
   "cell_type": "code",
   "execution_count": 32,
   "id": "5c7dfe49",
   "metadata": {
    "colab": {
     "base_uri": "https://localhost:8080/",
     "height": 206
    },
    "id": "5c7dfe49",
    "outputId": "6562795a-3570-498a-827a-6c03163ad111"
   },
   "outputs": [
    {
     "data": {
      "text/html": [
       "<div>\n",
       "<style scoped>\n",
       "    .dataframe tbody tr th:only-of-type {\n",
       "        vertical-align: middle;\n",
       "    }\n",
       "\n",
       "    .dataframe tbody tr th {\n",
       "        vertical-align: top;\n",
       "    }\n",
       "\n",
       "    .dataframe thead th {\n",
       "        text-align: right;\n",
       "    }\n",
       "</style>\n",
       "<table border=\"1\" class=\"dataframe\">\n",
       "  <thead>\n",
       "    <tr style=\"text-align: right;\">\n",
       "      <th></th>\n",
       "      <th>review</th>\n",
       "      <th>rating</th>\n",
       "      <th>char_count</th>\n",
       "      <th>word_count</th>\n",
       "      <th>sentiment</th>\n",
       "    </tr>\n",
       "  </thead>\n",
       "  <tbody>\n",
       "    <tr>\n",
       "      <th>0</th>\n",
       "      <td>This product so far has not disappointed. My c...</td>\n",
       "      <td>5.0</td>\n",
       "      <td>143.0</td>\n",
       "      <td>27</td>\n",
       "      <td>positive</td>\n",
       "    </tr>\n",
       "    <tr>\n",
       "      <th>1</th>\n",
       "      <td>great for beginner or experienced person. Boug...</td>\n",
       "      <td>5.0</td>\n",
       "      <td>75.0</td>\n",
       "      <td>14</td>\n",
       "      <td>positive</td>\n",
       "    </tr>\n",
       "    <tr>\n",
       "      <th>2</th>\n",
       "      <td>Inexpensive tablet for him to use and learn on...</td>\n",
       "      <td>5.0</td>\n",
       "      <td>131.0</td>\n",
       "      <td>26</td>\n",
       "      <td>positive</td>\n",
       "    </tr>\n",
       "    <tr>\n",
       "      <th>3</th>\n",
       "      <td>I've had my Fire HD 8 two weeks now and I love...</td>\n",
       "      <td>4.0</td>\n",
       "      <td>593.0</td>\n",
       "      <td>117</td>\n",
       "      <td>positive</td>\n",
       "    </tr>\n",
       "    <tr>\n",
       "      <th>4</th>\n",
       "      <td>I bought this for my grand daughter when she c...</td>\n",
       "      <td>5.0</td>\n",
       "      <td>613.0</td>\n",
       "      <td>117</td>\n",
       "      <td>positive</td>\n",
       "    </tr>\n",
       "  </tbody>\n",
       "</table>\n",
       "</div>"
      ],
      "text/plain": [
       "                                              review  rating  char_count  \\\n",
       "0  This product so far has not disappointed. My c...     5.0       143.0   \n",
       "1  great for beginner or experienced person. Boug...     5.0        75.0   \n",
       "2  Inexpensive tablet for him to use and learn on...     5.0       131.0   \n",
       "3  I've had my Fire HD 8 two weeks now and I love...     4.0       593.0   \n",
       "4  I bought this for my grand daughter when she c...     5.0       613.0   \n",
       "\n",
       "   word_count sentiment  \n",
       "0          27  positive  \n",
       "1          14  positive  \n",
       "2          26  positive  \n",
       "3         117  positive  \n",
       "4         117  positive  "
      ]
     },
     "execution_count": 32,
     "metadata": {},
     "output_type": "execute_result"
    }
   ],
   "source": [
    "df.head()"
   ]
  },
  {
   "cell_type": "code",
   "execution_count": 33,
   "id": "67ec413c",
   "metadata": {
    "colab": {
     "base_uri": "https://localhost:8080/"
    },
    "id": "67ec413c",
    "outputId": "6bb7ddd4-ec0f-4c76-96ce-6aca3f0d842c"
   },
   "outputs": [
    {
     "data": {
      "text/plain": [
       "(33509, 5)"
      ]
     },
     "execution_count": 33,
     "metadata": {},
     "output_type": "execute_result"
    }
   ],
   "source": [
    "df.shape"
   ]
  },
  {
   "cell_type": "markdown",
   "id": "aee8ae5f",
   "metadata": {
    "id": "aee8ae5f"
   },
   "source": [
    "# Removing records which has null values"
   ]
  },
  {
   "cell_type": "code",
   "execution_count": 34,
   "id": "4954b043",
   "metadata": {
    "colab": {
     "base_uri": "https://localhost:8080/"
    },
    "id": "4954b043",
    "outputId": "152b844f-030f-44cf-f97d-7d16eb99937c"
   },
   "outputs": [
    {
     "data": {
      "text/plain": [
       "review         0\n",
       "rating        31\n",
       "char_count     0\n",
       "word_count     0\n",
       "sentiment      0\n",
       "dtype: int64"
      ]
     },
     "execution_count": 34,
     "metadata": {},
     "output_type": "execute_result"
    }
   ],
   "source": [
    "df.isnull().sum()"
   ]
  },
  {
   "cell_type": "code",
   "execution_count": 35,
   "id": "c3146028",
   "metadata": {
    "colab": {
     "base_uri": "https://localhost:8080/",
     "height": 1000
    },
    "id": "c3146028",
    "outputId": "639fc792-9db0-4fa1-819f-253985ee9303"
   },
   "outputs": [
    {
     "data": {
      "text/html": [
       "<div>\n",
       "<style scoped>\n",
       "    .dataframe tbody tr th:only-of-type {\n",
       "        vertical-align: middle;\n",
       "    }\n",
       "\n",
       "    .dataframe tbody tr th {\n",
       "        vertical-align: top;\n",
       "    }\n",
       "\n",
       "    .dataframe thead th {\n",
       "        text-align: right;\n",
       "    }\n",
       "</style>\n",
       "<table border=\"1\" class=\"dataframe\">\n",
       "  <thead>\n",
       "    <tr style=\"text-align: right;\">\n",
       "      <th></th>\n",
       "      <th>review</th>\n",
       "      <th>rating</th>\n",
       "      <th>char_count</th>\n",
       "      <th>word_count</th>\n",
       "      <th>sentiment</th>\n",
       "    </tr>\n",
       "  </thead>\n",
       "  <tbody>\n",
       "    <tr>\n",
       "      <th>2886</th>\n",
       "      <td>The Kindle is my first e-ink reader. I own an ...</td>\n",
       "      <td>NaN</td>\n",
       "      <td>1672.0</td>\n",
       "      <td>289</td>\n",
       "      <td>negative</td>\n",
       "    </tr>\n",
       "    <tr>\n",
       "      <th>2887</th>\n",
       "      <td>I'm a first-time Kindle owner, so I have nothi...</td>\n",
       "      <td>NaN</td>\n",
       "      <td>1568.0</td>\n",
       "      <td>276</td>\n",
       "      <td>negative</td>\n",
       "    </tr>\n",
       "    <tr>\n",
       "      <th>2888</th>\n",
       "      <td>UPDATE NOVEMBER 2011:My review is now over a y...</td>\n",
       "      <td>NaN</td>\n",
       "      <td>1529.0</td>\n",
       "      <td>276</td>\n",
       "      <td>negative</td>\n",
       "    </tr>\n",
       "    <tr>\n",
       "      <th>2889</th>\n",
       "      <td>I'm a first-time Kindle owner, so I have nothi...</td>\n",
       "      <td>NaN</td>\n",
       "      <td>1661.0</td>\n",
       "      <td>290</td>\n",
       "      <td>negative</td>\n",
       "    </tr>\n",
       "    <tr>\n",
       "      <th>2890</th>\n",
       "      <td>I woke up to a nice surprise this morning: a n...</td>\n",
       "      <td>NaN</td>\n",
       "      <td>1725.0</td>\n",
       "      <td>310</td>\n",
       "      <td>negative</td>\n",
       "    </tr>\n",
       "    <tr>\n",
       "      <th>2891</th>\n",
       "      <td>The Kindle is my first e-ink reader. I own an ...</td>\n",
       "      <td>NaN</td>\n",
       "      <td>1704.0</td>\n",
       "      <td>297</td>\n",
       "      <td>negative</td>\n",
       "    </tr>\n",
       "    <tr>\n",
       "      <th>2892</th>\n",
       "      <td>UPDATE NOVEMBER 2011:br /br /My review is now ...</td>\n",
       "      <td>NaN</td>\n",
       "      <td>1577.0</td>\n",
       "      <td>288</td>\n",
       "      <td>negative</td>\n",
       "    </tr>\n",
       "    <tr>\n",
       "      <th>2893</th>\n",
       "      <td>I woke up to a nice surprise this morning: a n...</td>\n",
       "      <td>NaN</td>\n",
       "      <td>1741.0</td>\n",
       "      <td>314</td>\n",
       "      <td>negative</td>\n",
       "    </tr>\n",
       "    <tr>\n",
       "      <th>2894</th>\n",
       "      <td>I use to hate to read but now that I have my K...</td>\n",
       "      <td>NaN</td>\n",
       "      <td>147.0</td>\n",
       "      <td>35</td>\n",
       "      <td>negative</td>\n",
       "    </tr>\n",
       "    <tr>\n",
       "      <th>2895</th>\n",
       "      <td>All of them quit working. There's absolutely n...</td>\n",
       "      <td>NaN</td>\n",
       "      <td>210.0</td>\n",
       "      <td>40</td>\n",
       "      <td>negative</td>\n",
       "    </tr>\n",
       "    <tr>\n",
       "      <th>2898</th>\n",
       "      <td>I researched the purchase of a Kindle for a lo...</td>\n",
       "      <td>NaN</td>\n",
       "      <td>1804.0</td>\n",
       "      <td>339</td>\n",
       "      <td>negative</td>\n",
       "    </tr>\n",
       "    <tr>\n",
       "      <th>2899</th>\n",
       "      <td>This thing has captured my wife's heart. She r...</td>\n",
       "      <td>NaN</td>\n",
       "      <td>331.0</td>\n",
       "      <td>65</td>\n",
       "      <td>negative</td>\n",
       "    </tr>\n",
       "    <tr>\n",
       "      <th>2900</th>\n",
       "      <td>I got my Kindle a few years ago and barely use...</td>\n",
       "      <td>NaN</td>\n",
       "      <td>977.0</td>\n",
       "      <td>175</td>\n",
       "      <td>negative</td>\n",
       "    </tr>\n",
       "    <tr>\n",
       "      <th>2901</th>\n",
       "      <td>It was excellent for me in one moment when I w...</td>\n",
       "      <td>NaN</td>\n",
       "      <td>266.0</td>\n",
       "      <td>55</td>\n",
       "      <td>negative</td>\n",
       "    </tr>\n",
       "    <tr>\n",
       "      <th>2902</th>\n",
       "      <td>Bought for my husband for Christmas and I have...</td>\n",
       "      <td>NaN</td>\n",
       "      <td>315.0</td>\n",
       "      <td>64</td>\n",
       "      <td>negative</td>\n",
       "    </tr>\n",
       "    <tr>\n",
       "      <th>2903</th>\n",
       "      <td>It simply works even after 3.5 years of consta...</td>\n",
       "      <td>NaN</td>\n",
       "      <td>140.0</td>\n",
       "      <td>24</td>\n",
       "      <td>negative</td>\n",
       "    </tr>\n",
       "    <tr>\n",
       "      <th>2904</th>\n",
       "      <td>I would highly recommend them to everyone. Got...</td>\n",
       "      <td>NaN</td>\n",
       "      <td>98.0</td>\n",
       "      <td>20</td>\n",
       "      <td>negative</td>\n",
       "    </tr>\n",
       "    <tr>\n",
       "      <th>3691</th>\n",
       "      <td>UPDATE: I bought both a Fire HD and a Gen 2. (...</td>\n",
       "      <td>NaN</td>\n",
       "      <td>1669.0</td>\n",
       "      <td>305</td>\n",
       "      <td>negative</td>\n",
       "    </tr>\n",
       "    <tr>\n",
       "      <th>3692</th>\n",
       "      <td>I just received my kindle fire today. I had a ...</td>\n",
       "      <td>NaN</td>\n",
       "      <td>1737.0</td>\n",
       "      <td>317</td>\n",
       "      <td>negative</td>\n",
       "    </tr>\n",
       "    <tr>\n",
       "      <th>3693</th>\n",
       "      <td>I purchased the Kindle Fire ten months ago for...</td>\n",
       "      <td>NaN</td>\n",
       "      <td>1498.0</td>\n",
       "      <td>265</td>\n",
       "      <td>negative</td>\n",
       "    </tr>\n",
       "    <tr>\n",
       "      <th>3694</th>\n",
       "      <td>My 7 year old son has the 1st gen Kindle Fire,...</td>\n",
       "      <td>NaN</td>\n",
       "      <td>1771.0</td>\n",
       "      <td>345</td>\n",
       "      <td>negative</td>\n",
       "    </tr>\n",
       "    <tr>\n",
       "      <th>14727</th>\n",
       "      <td>Having received my Fire TV today, I've been tr...</td>\n",
       "      <td>NaN</td>\n",
       "      <td>1727.0</td>\n",
       "      <td>314</td>\n",
       "      <td>negative</td>\n",
       "    </tr>\n",
       "    <tr>\n",
       "      <th>14728</th>\n",
       "      <td>I'm your typical middle-aged woman - I don't g...</td>\n",
       "      <td>NaN</td>\n",
       "      <td>898.0</td>\n",
       "      <td>165</td>\n",
       "      <td>negative</td>\n",
       "    </tr>\n",
       "    <tr>\n",
       "      <th>14729</th>\n",
       "      <td>An Amazon.com official commented on this revie...</td>\n",
       "      <td>NaN</td>\n",
       "      <td>439.0</td>\n",
       "      <td>76</td>\n",
       "      <td>negative</td>\n",
       "    </tr>\n",
       "    <tr>\n",
       "      <th>14731</th>\n",
       "      <td>Having received my Fire TV today, I've been tr...</td>\n",
       "      <td>NaN</td>\n",
       "      <td>1718.0</td>\n",
       "      <td>315</td>\n",
       "      <td>negative</td>\n",
       "    </tr>\n",
       "    <tr>\n",
       "      <th>14732</th>\n",
       "      <td>I am not a casual user of on-demand content an...</td>\n",
       "      <td>NaN</td>\n",
       "      <td>1681.0</td>\n",
       "      <td>305</td>\n",
       "      <td>negative</td>\n",
       "    </tr>\n",
       "    <tr>\n",
       "      <th>21226</th>\n",
       "      <td>My previous kindle was a DX, this is my second...</td>\n",
       "      <td>NaN</td>\n",
       "      <td>466.0</td>\n",
       "      <td>77</td>\n",
       "      <td>negative</td>\n",
       "    </tr>\n",
       "    <tr>\n",
       "      <th>21227</th>\n",
       "      <td>Just got mine right now. Looks the same as the...</td>\n",
       "      <td>NaN</td>\n",
       "      <td>470.0</td>\n",
       "      <td>90</td>\n",
       "      <td>negative</td>\n",
       "    </tr>\n",
       "    <tr>\n",
       "      <th>21228</th>\n",
       "      <td>As reviewed by the wife This is the perfect th...</td>\n",
       "      <td>NaN</td>\n",
       "      <td>966.0</td>\n",
       "      <td>192</td>\n",
       "      <td>negative</td>\n",
       "    </tr>\n",
       "    <tr>\n",
       "      <th>21229</th>\n",
       "      <td>My new Kindle Paperwhite came from the USA to ...</td>\n",
       "      <td>NaN</td>\n",
       "      <td>616.0</td>\n",
       "      <td>123</td>\n",
       "      <td>negative</td>\n",
       "    </tr>\n",
       "    <tr>\n",
       "      <th>29572</th>\n",
       "      <td>This stuff tastes great. It does have sugar in...</td>\n",
       "      <td>NaN</td>\n",
       "      <td>77.0</td>\n",
       "      <td>15</td>\n",
       "      <td>negative</td>\n",
       "    </tr>\n",
       "  </tbody>\n",
       "</table>\n",
       "</div>"
      ],
      "text/plain": [
       "                                                  review  rating  char_count  \\\n",
       "2886   The Kindle is my first e-ink reader. I own an ...     NaN      1672.0   \n",
       "2887   I'm a first-time Kindle owner, so I have nothi...     NaN      1568.0   \n",
       "2888   UPDATE NOVEMBER 2011:My review is now over a y...     NaN      1529.0   \n",
       "2889   I'm a first-time Kindle owner, so I have nothi...     NaN      1661.0   \n",
       "2890   I woke up to a nice surprise this morning: a n...     NaN      1725.0   \n",
       "2891   The Kindle is my first e-ink reader. I own an ...     NaN      1704.0   \n",
       "2892   UPDATE NOVEMBER 2011:br /br /My review is now ...     NaN      1577.0   \n",
       "2893   I woke up to a nice surprise this morning: a n...     NaN      1741.0   \n",
       "2894   I use to hate to read but now that I have my K...     NaN       147.0   \n",
       "2895   All of them quit working. There's absolutely n...     NaN       210.0   \n",
       "2898   I researched the purchase of a Kindle for a lo...     NaN      1804.0   \n",
       "2899   This thing has captured my wife's heart. She r...     NaN       331.0   \n",
       "2900   I got my Kindle a few years ago and barely use...     NaN       977.0   \n",
       "2901   It was excellent for me in one moment when I w...     NaN       266.0   \n",
       "2902   Bought for my husband for Christmas and I have...     NaN       315.0   \n",
       "2903   It simply works even after 3.5 years of consta...     NaN       140.0   \n",
       "2904   I would highly recommend them to everyone. Got...     NaN        98.0   \n",
       "3691   UPDATE: I bought both a Fire HD and a Gen 2. (...     NaN      1669.0   \n",
       "3692   I just received my kindle fire today. I had a ...     NaN      1737.0   \n",
       "3693   I purchased the Kindle Fire ten months ago for...     NaN      1498.0   \n",
       "3694   My 7 year old son has the 1st gen Kindle Fire,...     NaN      1771.0   \n",
       "14727  Having received my Fire TV today, I've been tr...     NaN      1727.0   \n",
       "14728  I'm your typical middle-aged woman - I don't g...     NaN       898.0   \n",
       "14729  An Amazon.com official commented on this revie...     NaN       439.0   \n",
       "14731  Having received my Fire TV today, I've been tr...     NaN      1718.0   \n",
       "14732  I am not a casual user of on-demand content an...     NaN      1681.0   \n",
       "21226  My previous kindle was a DX, this is my second...     NaN       466.0   \n",
       "21227  Just got mine right now. Looks the same as the...     NaN       470.0   \n",
       "21228  As reviewed by the wife This is the perfect th...     NaN       966.0   \n",
       "21229  My new Kindle Paperwhite came from the USA to ...     NaN       616.0   \n",
       "29572  This stuff tastes great. It does have sugar in...     NaN        77.0   \n",
       "\n",
       "       word_count sentiment  \n",
       "2886          289  negative  \n",
       "2887          276  negative  \n",
       "2888          276  negative  \n",
       "2889          290  negative  \n",
       "2890          310  negative  \n",
       "2891          297  negative  \n",
       "2892          288  negative  \n",
       "2893          314  negative  \n",
       "2894           35  negative  \n",
       "2895           40  negative  \n",
       "2898          339  negative  \n",
       "2899           65  negative  \n",
       "2900          175  negative  \n",
       "2901           55  negative  \n",
       "2902           64  negative  \n",
       "2903           24  negative  \n",
       "2904           20  negative  \n",
       "3691          305  negative  \n",
       "3692          317  negative  \n",
       "3693          265  negative  \n",
       "3694          345  negative  \n",
       "14727         314  negative  \n",
       "14728         165  negative  \n",
       "14729          76  negative  \n",
       "14731         315  negative  \n",
       "14732         305  negative  \n",
       "21226          77  negative  \n",
       "21227          90  negative  \n",
       "21228         192  negative  \n",
       "21229         123  negative  \n",
       "29572          15  negative  "
      ]
     },
     "execution_count": 35,
     "metadata": {},
     "output_type": "execute_result"
    }
   ],
   "source": [
    "df[df.isnull().any(axis=1)]"
   ]
  },
  {
   "cell_type": "code",
   "execution_count": 36,
   "id": "2035d32b",
   "metadata": {
    "id": "2035d32b"
   },
   "outputs": [],
   "source": [
    "df.dropna(inplace=True)"
   ]
  },
  {
   "cell_type": "code",
   "execution_count": 37,
   "id": "21c97ff9",
   "metadata": {
    "colab": {
     "base_uri": "https://localhost:8080/"
    },
    "id": "21c97ff9",
    "outputId": "7da5060a-8441-45b4-c365-818429235f66"
   },
   "outputs": [
    {
     "data": {
      "text/plain": [
       "(33478, 5)"
      ]
     },
     "execution_count": 37,
     "metadata": {},
     "output_type": "execute_result"
    }
   ],
   "source": [
    "df.shape"
   ]
  },
  {
   "cell_type": "markdown",
   "id": "cd1f91a8",
   "metadata": {
    "id": "cd1f91a8"
   },
   "source": [
    "# Cleaning the reviews"
   ]
  },
  {
   "cell_type": "code",
   "execution_count": 38,
   "id": "bf18cc42",
   "metadata": {
    "id": "bf18cc42"
   },
   "outputs": [],
   "source": [
    "tokenizer = RegexpTokenizer(r\"\\w+\")\n",
    "lemmatizer = WordNetLemmatizer()"
   ]
  },
  {
   "cell_type": "code",
   "execution_count": 39,
   "id": "17e2ce63",
   "metadata": {
    "id": "17e2ce63"
   },
   "outputs": [],
   "source": [
    "def cleaning(row):\n",
    "    row = row.lower()\n",
    "    words = tokenizer.tokenize(row)\n",
    "    words = [lemmatizer.lemmatize(word.strip()) for word in words if word not in stopwords.words('english')]\n",
    "    return ' '.join(words)"
   ]
  },
  {
   "cell_type": "code",
   "execution_count": 40,
   "id": "7be537d9",
   "metadata": {
    "colab": {
     "base_uri": "https://localhost:8080/"
    },
    "id": "7be537d9",
    "outputId": "1c567d35-f4e7-42d5-bf48-a2d500029133"
   },
   "outputs": [
    {
     "name": "stdout",
     "output_type": "stream",
     "text": [
      "Wall time: 13min 44s\n"
     ]
    }
   ],
   "source": [
    "%%time\n",
    "df['clean_review'] = df['review'].apply(cleaning)"
   ]
  },
  {
   "cell_type": "code",
   "execution_count": 41,
   "id": "c2812795",
   "metadata": {
    "colab": {
     "base_uri": "https://localhost:8080/",
     "height": 206
    },
    "id": "c2812795",
    "outputId": "4eaf1980-ac10-453e-8ea4-6e7df0d3dfa7"
   },
   "outputs": [
    {
     "data": {
      "text/html": [
       "<div>\n",
       "<style scoped>\n",
       "    .dataframe tbody tr th:only-of-type {\n",
       "        vertical-align: middle;\n",
       "    }\n",
       "\n",
       "    .dataframe tbody tr th {\n",
       "        vertical-align: top;\n",
       "    }\n",
       "\n",
       "    .dataframe thead th {\n",
       "        text-align: right;\n",
       "    }\n",
       "</style>\n",
       "<table border=\"1\" class=\"dataframe\">\n",
       "  <thead>\n",
       "    <tr style=\"text-align: right;\">\n",
       "      <th></th>\n",
       "      <th>review</th>\n",
       "      <th>rating</th>\n",
       "      <th>char_count</th>\n",
       "      <th>word_count</th>\n",
       "      <th>sentiment</th>\n",
       "      <th>clean_review</th>\n",
       "    </tr>\n",
       "  </thead>\n",
       "  <tbody>\n",
       "    <tr>\n",
       "      <th>0</th>\n",
       "      <td>This product so far has not disappointed. My c...</td>\n",
       "      <td>5.0</td>\n",
       "      <td>143.0</td>\n",
       "      <td>27</td>\n",
       "      <td>positive</td>\n",
       "      <td>product far disappointed child love use like a...</td>\n",
       "    </tr>\n",
       "    <tr>\n",
       "      <th>1</th>\n",
       "      <td>great for beginner or experienced person. Boug...</td>\n",
       "      <td>5.0</td>\n",
       "      <td>75.0</td>\n",
       "      <td>14</td>\n",
       "      <td>positive</td>\n",
       "      <td>great beginner experienced person bought gift ...</td>\n",
       "    </tr>\n",
       "    <tr>\n",
       "      <th>2</th>\n",
       "      <td>Inexpensive tablet for him to use and learn on...</td>\n",
       "      <td>5.0</td>\n",
       "      <td>131.0</td>\n",
       "      <td>26</td>\n",
       "      <td>positive</td>\n",
       "      <td>inexpensive tablet use learn step nabi thrille...</td>\n",
       "    </tr>\n",
       "    <tr>\n",
       "      <th>3</th>\n",
       "      <td>I've had my Fire HD 8 two weeks now and I love...</td>\n",
       "      <td>4.0</td>\n",
       "      <td>593.0</td>\n",
       "      <td>117</td>\n",
       "      <td>positive</td>\n",
       "      <td>fire hd 8 two week love tablet great value pri...</td>\n",
       "    </tr>\n",
       "    <tr>\n",
       "      <th>4</th>\n",
       "      <td>I bought this for my grand daughter when she c...</td>\n",
       "      <td>5.0</td>\n",
       "      <td>613.0</td>\n",
       "      <td>117</td>\n",
       "      <td>positive</td>\n",
       "      <td>bought grand daughter come visit set user ente...</td>\n",
       "    </tr>\n",
       "  </tbody>\n",
       "</table>\n",
       "</div>"
      ],
      "text/plain": [
       "                                              review  rating  char_count  \\\n",
       "0  This product so far has not disappointed. My c...     5.0       143.0   \n",
       "1  great for beginner or experienced person. Boug...     5.0        75.0   \n",
       "2  Inexpensive tablet for him to use and learn on...     5.0       131.0   \n",
       "3  I've had my Fire HD 8 two weeks now and I love...     4.0       593.0   \n",
       "4  I bought this for my grand daughter when she c...     5.0       613.0   \n",
       "\n",
       "   word_count sentiment                                       clean_review  \n",
       "0          27  positive  product far disappointed child love use like a...  \n",
       "1          14  positive  great beginner experienced person bought gift ...  \n",
       "2          26  positive  inexpensive tablet use learn step nabi thrille...  \n",
       "3         117  positive  fire hd 8 two week love tablet great value pri...  \n",
       "4         117  positive  bought grand daughter come visit set user ente...  "
      ]
     },
     "execution_count": 41,
     "metadata": {},
     "output_type": "execute_result"
    }
   ],
   "source": [
    "df.head()"
   ]
  },
  {
   "cell_type": "markdown",
   "id": "c6c51bc8",
   "metadata": {
    "id": "c6c51bc8"
   },
   "source": [
    "# Encode the labels using Label Encoder"
   ]
  },
  {
   "cell_type": "code",
   "execution_count": 42,
   "id": "7711e4b6",
   "metadata": {
    "id": "7711e4b6"
   },
   "outputs": [],
   "source": [
    "le = LabelEncoder()\n",
    "df['sentiment'] = le.fit_transform(df['sentiment'])"
   ]
  },
  {
   "cell_type": "code",
   "execution_count": 43,
   "id": "92eace37",
   "metadata": {
    "colab": {
     "base_uri": "https://localhost:8080/",
     "height": 206
    },
    "id": "92eace37",
    "outputId": "1d889bbb-406b-495a-a59d-1eeb380d1f6a"
   },
   "outputs": [
    {
     "data": {
      "text/html": [
       "<div>\n",
       "<style scoped>\n",
       "    .dataframe tbody tr th:only-of-type {\n",
       "        vertical-align: middle;\n",
       "    }\n",
       "\n",
       "    .dataframe tbody tr th {\n",
       "        vertical-align: top;\n",
       "    }\n",
       "\n",
       "    .dataframe thead th {\n",
       "        text-align: right;\n",
       "    }\n",
       "</style>\n",
       "<table border=\"1\" class=\"dataframe\">\n",
       "  <thead>\n",
       "    <tr style=\"text-align: right;\">\n",
       "      <th></th>\n",
       "      <th>review</th>\n",
       "      <th>rating</th>\n",
       "      <th>char_count</th>\n",
       "      <th>word_count</th>\n",
       "      <th>sentiment</th>\n",
       "      <th>clean_review</th>\n",
       "    </tr>\n",
       "  </thead>\n",
       "  <tbody>\n",
       "    <tr>\n",
       "      <th>0</th>\n",
       "      <td>This product so far has not disappointed. My c...</td>\n",
       "      <td>5.0</td>\n",
       "      <td>143.0</td>\n",
       "      <td>27</td>\n",
       "      <td>1</td>\n",
       "      <td>product far disappointed child love use like a...</td>\n",
       "    </tr>\n",
       "    <tr>\n",
       "      <th>1</th>\n",
       "      <td>great for beginner or experienced person. Boug...</td>\n",
       "      <td>5.0</td>\n",
       "      <td>75.0</td>\n",
       "      <td>14</td>\n",
       "      <td>1</td>\n",
       "      <td>great beginner experienced person bought gift ...</td>\n",
       "    </tr>\n",
       "    <tr>\n",
       "      <th>2</th>\n",
       "      <td>Inexpensive tablet for him to use and learn on...</td>\n",
       "      <td>5.0</td>\n",
       "      <td>131.0</td>\n",
       "      <td>26</td>\n",
       "      <td>1</td>\n",
       "      <td>inexpensive tablet use learn step nabi thrille...</td>\n",
       "    </tr>\n",
       "    <tr>\n",
       "      <th>3</th>\n",
       "      <td>I've had my Fire HD 8 two weeks now and I love...</td>\n",
       "      <td>4.0</td>\n",
       "      <td>593.0</td>\n",
       "      <td>117</td>\n",
       "      <td>1</td>\n",
       "      <td>fire hd 8 two week love tablet great value pri...</td>\n",
       "    </tr>\n",
       "    <tr>\n",
       "      <th>4</th>\n",
       "      <td>I bought this for my grand daughter when she c...</td>\n",
       "      <td>5.0</td>\n",
       "      <td>613.0</td>\n",
       "      <td>117</td>\n",
       "      <td>1</td>\n",
       "      <td>bought grand daughter come visit set user ente...</td>\n",
       "    </tr>\n",
       "  </tbody>\n",
       "</table>\n",
       "</div>"
      ],
      "text/plain": [
       "                                              review  rating  char_count  \\\n",
       "0  This product so far has not disappointed. My c...     5.0       143.0   \n",
       "1  great for beginner or experienced person. Boug...     5.0        75.0   \n",
       "2  Inexpensive tablet for him to use and learn on...     5.0       131.0   \n",
       "3  I've had my Fire HD 8 two weeks now and I love...     4.0       593.0   \n",
       "4  I bought this for my grand daughter when she c...     5.0       613.0   \n",
       "\n",
       "   word_count  sentiment                                       clean_review  \n",
       "0          27          1  product far disappointed child love use like a...  \n",
       "1          14          1  great beginner experienced person bought gift ...  \n",
       "2          26          1  inexpensive tablet use learn step nabi thrille...  \n",
       "3         117          1  fire hd 8 two week love tablet great value pri...  \n",
       "4         117          1  bought grand daughter come visit set user ente...  "
      ]
     },
     "execution_count": 43,
     "metadata": {},
     "output_type": "execute_result"
    }
   ],
   "source": [
    "# 1 means positive and 0 means negative\n",
    "df.head()"
   ]
  },
  {
   "cell_type": "markdown",
   "id": "8c7f6d1e",
   "metadata": {
    "id": "8c7f6d1e"
   },
   "source": [
    "# Word count of clean review"
   ]
  },
  {
   "cell_type": "code",
   "execution_count": 44,
   "id": "f4152930",
   "metadata": {
    "id": "f4152930"
   },
   "outputs": [],
   "source": [
    "df['clean_word_count'] = df['clean_review'].apply(lambda x: len(x.split()))"
   ]
  },
  {
   "cell_type": "code",
   "execution_count": 45,
   "id": "1d5d6a3b",
   "metadata": {
    "colab": {
     "base_uri": "https://localhost:8080/",
     "height": 206
    },
    "id": "1d5d6a3b",
    "outputId": "c9d9cbee-9b36-4efc-f021-f913fadacb0b"
   },
   "outputs": [
    {
     "data": {
      "text/html": [
       "<div>\n",
       "<style scoped>\n",
       "    .dataframe tbody tr th:only-of-type {\n",
       "        vertical-align: middle;\n",
       "    }\n",
       "\n",
       "    .dataframe tbody tr th {\n",
       "        vertical-align: top;\n",
       "    }\n",
       "\n",
       "    .dataframe thead th {\n",
       "        text-align: right;\n",
       "    }\n",
       "</style>\n",
       "<table border=\"1\" class=\"dataframe\">\n",
       "  <thead>\n",
       "    <tr style=\"text-align: right;\">\n",
       "      <th></th>\n",
       "      <th>review</th>\n",
       "      <th>rating</th>\n",
       "      <th>char_count</th>\n",
       "      <th>word_count</th>\n",
       "      <th>sentiment</th>\n",
       "      <th>clean_review</th>\n",
       "      <th>clean_word_count</th>\n",
       "    </tr>\n",
       "  </thead>\n",
       "  <tbody>\n",
       "    <tr>\n",
       "      <th>0</th>\n",
       "      <td>This product so far has not disappointed. My c...</td>\n",
       "      <td>5.0</td>\n",
       "      <td>143.0</td>\n",
       "      <td>27</td>\n",
       "      <td>1</td>\n",
       "      <td>product far disappointed child love use like a...</td>\n",
       "      <td>13</td>\n",
       "    </tr>\n",
       "    <tr>\n",
       "      <th>1</th>\n",
       "      <td>great for beginner or experienced person. Boug...</td>\n",
       "      <td>5.0</td>\n",
       "      <td>75.0</td>\n",
       "      <td>14</td>\n",
       "      <td>1</td>\n",
       "      <td>great beginner experienced person bought gift ...</td>\n",
       "      <td>7</td>\n",
       "    </tr>\n",
       "    <tr>\n",
       "      <th>2</th>\n",
       "      <td>Inexpensive tablet for him to use and learn on...</td>\n",
       "      <td>5.0</td>\n",
       "      <td>131.0</td>\n",
       "      <td>26</td>\n",
       "      <td>1</td>\n",
       "      <td>inexpensive tablet use learn step nabi thrille...</td>\n",
       "      <td>10</td>\n",
       "    </tr>\n",
       "    <tr>\n",
       "      <th>3</th>\n",
       "      <td>I've had my Fire HD 8 two weeks now and I love...</td>\n",
       "      <td>4.0</td>\n",
       "      <td>593.0</td>\n",
       "      <td>117</td>\n",
       "      <td>1</td>\n",
       "      <td>fire hd 8 two week love tablet great value pri...</td>\n",
       "      <td>61</td>\n",
       "    </tr>\n",
       "    <tr>\n",
       "      <th>4</th>\n",
       "      <td>I bought this for my grand daughter when she c...</td>\n",
       "      <td>5.0</td>\n",
       "      <td>613.0</td>\n",
       "      <td>117</td>\n",
       "      <td>1</td>\n",
       "      <td>bought grand daughter come visit set user ente...</td>\n",
       "      <td>52</td>\n",
       "    </tr>\n",
       "  </tbody>\n",
       "</table>\n",
       "</div>"
      ],
      "text/plain": [
       "                                              review  rating  char_count  \\\n",
       "0  This product so far has not disappointed. My c...     5.0       143.0   \n",
       "1  great for beginner or experienced person. Boug...     5.0        75.0   \n",
       "2  Inexpensive tablet for him to use and learn on...     5.0       131.0   \n",
       "3  I've had my Fire HD 8 two weeks now and I love...     4.0       593.0   \n",
       "4  I bought this for my grand daughter when she c...     5.0       613.0   \n",
       "\n",
       "   word_count  sentiment                                       clean_review  \\\n",
       "0          27          1  product far disappointed child love use like a...   \n",
       "1          14          1  great beginner experienced person bought gift ...   \n",
       "2          26          1  inexpensive tablet use learn step nabi thrille...   \n",
       "3         117          1  fire hd 8 two week love tablet great value pri...   \n",
       "4         117          1  bought grand daughter come visit set user ente...   \n",
       "\n",
       "   clean_word_count  \n",
       "0                13  \n",
       "1                 7  \n",
       "2                10  \n",
       "3                61  \n",
       "4                52  "
      ]
     },
     "execution_count": 45,
     "metadata": {},
     "output_type": "execute_result"
    }
   ],
   "source": [
    "df.head()"
   ]
  },
  {
   "cell_type": "code",
   "execution_count": 46,
   "id": "dfdc7c1c",
   "metadata": {
    "id": "dfdc7c1c"
   },
   "outputs": [],
   "source": [
    "df = df[df['clean_word_count'] > 1]"
   ]
  },
  {
   "cell_type": "code",
   "execution_count": 47,
   "id": "486fef38",
   "metadata": {
    "colab": {
     "base_uri": "https://localhost:8080/"
    },
    "id": "486fef38",
    "outputId": "5ba567d4-2ed8-46ed-e75e-3aa9aa320995"
   },
   "outputs": [
    {
     "data": {
      "text/plain": [
       "(33466, 7)"
      ]
     },
     "execution_count": 47,
     "metadata": {},
     "output_type": "execute_result"
    }
   ],
   "source": [
    "df.shape"
   ]
  },
  {
   "cell_type": "code",
   "execution_count": 48,
   "id": "70767706",
   "metadata": {
    "colab": {
     "base_uri": "https://localhost:8080/",
     "height": 481
    },
    "id": "70767706",
    "outputId": "52cc9a44-8147-4018-96af-e3be06c1502a"
   },
   "outputs": [
    {
     "data": {
      "image/png": "[encoded data removed]",
      "text/plain": [
       "<Figure size 864x504 with 1 Axes>"
      ]
     },
     "metadata": {},
     "output_type": "display_data"
    }
   ],
   "source": [
    "plot_count(df, 'clean_word_count', 'Number of word in clean review')"
   ]
  },
  {
   "cell_type": "markdown",
   "id": "28c357ad",
   "metadata": {},
   "source": [
    "# Number of positive and negative reviews"
   ]
  },
  {
   "cell_type": "code",
   "execution_count": 49,
   "id": "3cbff15b",
   "metadata": {},
   "outputs": [
    {
     "data": {
      "image/png": "[encoded data removed]",
      "text/plain": [
       "<Figure size 864x504 with 1 Axes>"
      ]
     },
     "metadata": {},
     "output_type": "display_data"
    }
   ],
   "source": [
    "plt.figure(figsize=(12,7))\n",
    "plt.bar(df['sentiment'].replace([1, 0], ['Positive', 'Negative']).value_counts().index, df['sentiment'].value_counts().values)\n",
    "plt.title('Number of positive and negative reviews')\n",
    "plt.xlabel('Sentiment')\n",
    "plt.ylabel('No of records')\n",
    "plt.show()"
   ]
  },
  {
   "cell_type": "markdown",
   "id": "35521caf",
   "metadata": {
    "id": "35521caf"
   },
   "source": [
    "# Use padding to make the size of all reviews same"
   ]
  },
  {
   "cell_type": "code",
   "execution_count": 50,
   "id": "92ea16d5",
   "metadata": {
    "id": "92ea16d5"
   },
   "outputs": [],
   "source": [
    "tf_tokenizer = tf.keras.preprocessing.text.Tokenizer(num_words=500, split=' ')\n",
    "tf_tokenizer.fit_on_texts(df['clean_review'].values)"
   ]
  },
  {
   "cell_type": "code",
   "execution_count": 51,
   "id": "71d100a5",
   "metadata": {
    "id": "71d100a5"
   },
   "outputs": [],
   "source": [
    "X = tf_tokenizer.texts_to_sequences(df['clean_review'].values)\n",
    "X = tf.keras.preprocessing.sequence.pad_sequences(X)"
   ]
  },
  {
   "cell_type": "code",
   "execution_count": 52,
   "id": "0e346fc7",
   "metadata": {
    "colab": {
     "base_uri": "https://localhost:8080/"
    },
    "id": "0e346fc7",
    "outputId": "3e7cf5b0-19cf-481f-d4d9-26d56da968b2"
   },
   "outputs": [
    {
     "data": {
      "text/plain": [
       "array([[  0,   0,   0, ..., 230, 185, 324],\n",
       "       [  0,   0,   0, ...,   9,  36,   3],\n",
       "       [  0,   0,   0, ..., 337, 337, 227],\n",
       "       ...,\n",
       "       [  0,   0,   0, ..., 163,  13, 282],\n",
       "       [  0,   0,   0, ..., 366,  40,   6],\n",
       "       [  0,   0,   0, ..., 107,  35,   8]])"
      ]
     },
     "execution_count": 52,
     "metadata": {},
     "output_type": "execute_result"
    }
   ],
   "source": [
    "X"
   ]
  },
  {
   "cell_type": "code",
   "execution_count": 53,
   "id": "6a8cc503",
   "metadata": {
    "colab": {
     "base_uri": "https://localhost:8080/"
    },
    "id": "6a8cc503",
    "outputId": "18bc8bc3-a120-4b5a-890a-f190e0ca4c1a"
   },
   "outputs": [
    {
     "data": {
      "text/plain": [
       "(33466, 140)"
      ]
     },
     "execution_count": 53,
     "metadata": {},
     "output_type": "execute_result"
    }
   ],
   "source": [
    "X.shape"
   ]
  },
  {
   "cell_type": "markdown",
   "id": "08dd7e50",
   "metadata": {
    "id": "08dd7e50"
   },
   "source": [
    "# Splitting data into train and test"
   ]
  },
  {
   "cell_type": "code",
   "execution_count": 54,
   "id": "586f5073",
   "metadata": {
    "id": "586f5073"
   },
   "outputs": [],
   "source": [
    "y = pd.get_dummies(df['sentiment'])"
   ]
  },
  {
   "cell_type": "code",
   "execution_count": 55,
   "id": "VdenAWzJ9Rna",
   "metadata": {
    "colab": {
     "base_uri": "https://localhost:8080/",
     "height": 206
    },
    "id": "VdenAWzJ9Rna",
    "outputId": "b2653209-654b-400f-ecd6-65ec6f355923"
   },
   "outputs": [
    {
     "data": {
      "text/html": [
       "<div>\n",
       "<style scoped>\n",
       "    .dataframe tbody tr th:only-of-type {\n",
       "        vertical-align: middle;\n",
       "    }\n",
       "\n",
       "    .dataframe tbody tr th {\n",
       "        vertical-align: top;\n",
       "    }\n",
       "\n",
       "    .dataframe thead th {\n",
       "        text-align: right;\n",
       "    }\n",
       "</style>\n",
       "<table border=\"1\" class=\"dataframe\">\n",
       "  <thead>\n",
       "    <tr style=\"text-align: right;\">\n",
       "      <th></th>\n",
       "      <th>0</th>\n",
       "      <th>1</th>\n",
       "    </tr>\n",
       "  </thead>\n",
       "  <tbody>\n",
       "    <tr>\n",
       "      <th>0</th>\n",
       "      <td>0</td>\n",
       "      <td>1</td>\n",
       "    </tr>\n",
       "    <tr>\n",
       "      <th>1</th>\n",
       "      <td>0</td>\n",
       "      <td>1</td>\n",
       "    </tr>\n",
       "    <tr>\n",
       "      <th>2</th>\n",
       "      <td>0</td>\n",
       "      <td>1</td>\n",
       "    </tr>\n",
       "    <tr>\n",
       "      <th>3</th>\n",
       "      <td>0</td>\n",
       "      <td>1</td>\n",
       "    </tr>\n",
       "    <tr>\n",
       "      <th>4</th>\n",
       "      <td>0</td>\n",
       "      <td>1</td>\n",
       "    </tr>\n",
       "  </tbody>\n",
       "</table>\n",
       "</div>"
      ],
      "text/plain": [
       "   0  1\n",
       "0  0  1\n",
       "1  0  1\n",
       "2  0  1\n",
       "3  0  1\n",
       "4  0  1"
      ]
     },
     "execution_count": 55,
     "metadata": {},
     "output_type": "execute_result"
    }
   ],
   "source": [
    "y.head()"
   ]
  },
  {
   "cell_type": "code",
   "execution_count": 56,
   "id": "f8eae676",
   "metadata": {
    "colab": {
     "base_uri": "https://localhost:8080/"
    },
    "id": "f8eae676",
    "outputId": "2e84b3bf-dddc-4012-8fca-471a297b8345"
   },
   "outputs": [
    {
     "data": {
      "text/plain": [
       "((23426, 140), (10040, 140), (23426, 2), (10040, 2))"
      ]
     },
     "execution_count": 56,
     "metadata": {},
     "output_type": "execute_result"
    }
   ],
   "source": [
    "X_train, X_test, y_train, y_test = train_test_split(X, y, test_size=0.3, random_state=42)\n",
    "X_train.shape, X_test.shape, y_train.shape, y_test.shape"
   ]
  },
  {
   "cell_type": "markdown",
   "id": "c953a9cd",
   "metadata": {
    "id": "c953a9cd"
   },
   "source": [
    "# Creating Sequential model and train it"
   ]
  },
  {
   "cell_type": "code",
   "execution_count": 57,
   "id": "5fee75b3",
   "metadata": {
    "colab": {
     "base_uri": "https://localhost:8080/"
    },
    "id": "5fee75b3",
    "outputId": "f750dfb1-1fad-4cdc-ffc6-c20a0b2f6e70"
   },
   "outputs": [],
   "source": [
    "model = tf.keras.Sequential([\n",
    "    tf.keras.layers.Embedding(500, 120, input_length=X.shape[1]),\n",
    "    tf.keras.layers.SpatialDropout1D(0.4),\n",
    "    tf.keras.layers.LSTM(176, dropout=0.2),\n",
    "    tf.keras.layers.Dense(2, activation='softmax')\n",
    "])\n",
    "\n",
    "model.compile(loss=tf.keras.losses.CategoricalCrossentropy(),\n",
    "              optimizer=tf.keras.optimizers.Adam(),\n",
    "              metrics=['accuracy'])"
   ]
  },
  {
   "cell_type": "code",
   "execution_count": 58,
   "id": "f8710a12",
   "metadata": {
    "colab": {
     "base_uri": "https://localhost:8080/"
    },
    "id": "f8710a12",
    "outputId": "3dab6df3-9212-4a52-987f-d406af973b69"
   },
   "outputs": [
    {
     "name": "stdout",
     "output_type": "stream",
     "text": [
      "Model: \"sequential\"\n",
      "_________________________________________________________________\n",
      "Layer (type)                 Output Shape              Param #   \n",
      "=================================================================\n",
      "embedding (Embedding)        (None, 140, 120)          60000     \n",
      "_________________________________________________________________\n",
      "spatial_dropout1d (SpatialDr (None, 140, 120)          0         \n",
      "_________________________________________________________________\n",
      "lstm (LSTM)                  (None, 176)               209088    \n",
      "_________________________________________________________________\n",
      "dense (Dense)                (None, 2)                 354       \n",
      "=================================================================\n",
      "Total params: 269,442\n",
      "Trainable params: 269,442\n",
      "Non-trainable params: 0\n",
      "_________________________________________________________________\n"
     ]
    }
   ],
   "source": [
    "model.summary()"
   ]
  },
  {
   "cell_type": "code",
   "execution_count": 59,
   "id": "11b966fa",
   "metadata": {
    "colab": {
     "base_uri": "https://localhost:8080/"
    },
    "id": "11b966fa",
    "outputId": "a3050f28-6d07-436c-b48f-096c7ac6cdf6"
   },
   "outputs": [
    {
     "name": "stdout",
     "output_type": "stream",
     "text": [
      "Epoch 1/10\n",
      "733/733 [==============================] - 18s 20ms/step - loss: 0.2229 - accuracy: 0.9305\n",
      "Epoch 2/10\n",
      "733/733 [==============================] - 16s 22ms/step - loss: 0.1848 - accuracy: 0.9365\n",
      "Epoch 3/10\n",
      "733/733 [==============================] - 16s 22ms/step - loss: 0.1758 - accuracy: 0.93891s\n",
      "Epoch 4/10\n",
      "733/733 [==============================] - 17s 23ms/step - loss: 0.1707 - accuracy: 0.9416\n",
      "Epoch 5/10\n",
      "733/733 [==============================] - 17s 23ms/step - loss: 0.1643 - accuracy: 0.9438\n",
      "Epoch 6/10\n",
      "733/733 [==============================] - 17s 23ms/step - loss: 0.1603 - accuracy: 0.9427\n",
      "Epoch 7/10\n",
      "733/733 [==============================] - 17s 24ms/step - loss: 0.1569 - accuracy: 0.9447\n",
      "Epoch 8/10\n",
      "733/733 [==============================] - 17s 23ms/step - loss: 0.1534 - accuracy: 0.9467\n",
      "Epoch 9/10\n",
      "733/733 [==============================] - 17s 24ms/step - loss: 0.1495 - accuracy: 0.9470\n",
      "Epoch 10/10\n",
      "733/733 [==============================] - 17s 23ms/step - loss: 0.1437 - accuracy: 0.9486\n"
     ]
    }
   ],
   "source": [
    "history = model.fit(X_train, y_train, epochs=10, batch_size=32, verbose='auto')"
   ]
  },
  {
   "cell_type": "markdown",
   "id": "IkRVpM815LQY",
   "metadata": {
    "id": "IkRVpM815LQY"
   },
   "source": [
    "### Plot the history"
   ]
  },
  {
   "cell_type": "code",
   "execution_count": 60,
   "id": "7ce8ddc3",
   "metadata": {
    "colab": {
     "base_uri": "https://localhost:8080/",
     "height": 474
    },
    "id": "7ce8ddc3",
    "outputId": "17c2a559-746f-4c97-e61c-3dc21d41c14d"
   },
   "outputs": [
    {
     "data": {
      "text/plain": [
       "<AxesSubplot:>"
      ]
     },
     "execution_count": 60,
     "metadata": {},
     "output_type": "execute_result"
    },
    {
     "data": {
      "image/png": "[encoded data removed]",
      "text/plain": [
       "<Figure size 864x504 with 1 Axes>"
      ]
     },
     "metadata": {},
     "output_type": "display_data"
    }
   ],
   "source": [
    "pd.DataFrame(history.history).plot(figsize=(12,7))"
   ]
  },
  {
   "cell_type": "markdown",
   "id": "aa95d398",
   "metadata": {},
   "source": [
    "### Evaluate the model"
   ]
  },
  {
   "cell_type": "code",
   "execution_count": 61,
   "id": "8n0rywfO2-HL",
   "metadata": {
    "colab": {
     "base_uri": "https://localhost:8080/"
    },
    "id": "8n0rywfO2-HL",
    "outputId": "dbdd3a07-ed7b-4360-f4e8-365b88371d12"
   },
   "outputs": [
    {
     "name": "stdout",
     "output_type": "stream",
     "text": [
      "314/314 [==============================] - 4s 10ms/step - loss: 0.1961 - accuracy: 0.9353\n"
     ]
    },
    {
     "data": {
      "text/plain": [
       "[0.19612596929073334, 0.9352589845657349]"
      ]
     },
     "execution_count": 61,
     "metadata": {},
     "output_type": "execute_result"
    }
   ],
   "source": [
    "model.evaluate(X_test, y_test)"
   ]
  },
  {
   "cell_type": "markdown",
   "id": "YHcPyqSg4M8-",
   "metadata": {
    "id": "YHcPyqSg4M8-"
   },
   "source": [
    "# Pipeline to predict the sentiment of the raw review"
   ]
  },
  {
   "cell_type": "code",
   "execution_count": 62,
   "id": "d3Xh8bhe5b7D",
   "metadata": {
    "id": "d3Xh8bhe5b7D"
   },
   "outputs": [],
   "source": [
    "def pipeline(model, review):\n",
    "    df_pipe = pd.DataFrame({'review': [review]})\n",
    "    df_pipe['clean_review'] = df_pipe['review'].apply(cleaning)\n",
    "    \n",
    "    X = tf_tokenizer.texts_to_sequences(df_pipe['clean_review'].values)\n",
    "    X = tf.keras.preprocessing.sequence.pad_sequences(X, maxlen=140)\n",
    "\n",
    "    [[negative, positive]] = model.predict(X)\n",
    "    \n",
    "    print(f\"Review is {positive * 100}% postive\")\n",
    "    print(f\"Review is {negative * 100}% negative\")"
   ]
  },
  {
   "cell_type": "code",
   "execution_count": 63,
   "id": "JeSJawm561NA",
   "metadata": {
    "colab": {
     "base_uri": "https://localhost:8080/"
    },
    "id": "JeSJawm561NA",
    "outputId": "652ac1fe-0fbd-4477-ab15-44a2281add8c"
   },
   "outputs": [
    {
     "name": "stdout",
     "output_type": "stream",
     "text": [
      "Review is 98.12629818916321% postive\n",
      "Review is 1.8737010657787323% negative\n"
     ]
    }
   ],
   "source": [
    "pipeline(model, 'This product so far has not disappointed. My children love to use it and I like the ability to monitor control what content they see with ease.')"
   ]
  }
 ],
 "metadata": {
  "accelerator": "GPU",
  "colab": {
   "collapsed_sections": [],
   "name": "sentiment_analysis_lstm.ipynb",
   "provenance": []
  },
  "kernelspec": {
   "display_name": "Python 3",
   "language": "python",
   "name": "python3"
  },
  "language_info": {
   "codemirror_mode": {
    "name": "ipython",
    "version": 3
   },
   "file_extension": ".py",
   "mimetype": "text/x-python",
   "name": "python",
   "nbconvert_exporter": "python",
   "pygments_lexer": "ipython3",
   "version": "3.6.13"
  }
 },
 "nbformat": 4,
 "nbformat_minor": 5
}
